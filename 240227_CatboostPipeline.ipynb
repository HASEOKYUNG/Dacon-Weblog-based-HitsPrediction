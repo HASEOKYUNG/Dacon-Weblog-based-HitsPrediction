{
 "cells": [
  {
   "cell_type": "markdown",
   "metadata": {},
   "source": [
    "## Import"
   ]
  },
  {
   "cell_type": "code",
   "execution_count": 1,
   "metadata": {
    "scrolled": true
   },
   "outputs": [],
   "source": [
    "import pandas as pd\n",
    "import numpy as np ; np.random.seed(2024)\n",
    "import warnings;warnings.filterwarnings(action='ignore')\n",
    "\n",
    "# Feature Engineering\n",
    "from sklearn.preprocessing import MinMaxScaler, StandardScaler\n",
    "from sklearn.preprocessing import PolynomialFeatures\n",
    "from sklearn.preprocessing import LabelEncoder\n",
    "\n",
    "# Modeling\n",
    "from sklearn.tree import DecisionTreeRegressor\n",
    "from sklearn.ensemble import RandomForestRegressor\n",
    "from lightgbm import LGBMRegressor\n",
    "from catboost import CatBoostRegressor\n",
    "from sklearn.neighbors import KNeighborsRegressor\n",
    "from sklearn.linear_model import SGDRegressor, BayesianRidge\n",
    "from sklearn.ensemble import VotingRegressor\n",
    "from sklearn.model_selection import train_test_split\n",
    "from sklearn.model_selection import KFold\n",
    "from sklearn.metrics import mean_squared_error"
   ]
  },
  {
   "cell_type": "markdown",
   "metadata": {},
   "source": [
    "## Read data"
   ]
  },
  {
   "cell_type": "code",
   "execution_count": 2,
   "metadata": {},
   "outputs": [
    {
     "name": "stdout",
     "output_type": "stream",
     "text": [
      "학습데이터 수: (127739, 20)\n",
      "평가데이터 수: (40148, 19)\n"
     ]
    }
   ],
   "source": [
    "train = pd.read_csv('data/stayed_train.csv')\n",
    "test = pd.read_csv('data/stayed_test.csv')\n",
    "print('학습데이터 수:', train.shape)\n",
    "print('평가데이터 수:', test.shape)"
   ]
  },
  {
   "cell_type": "code",
   "execution_count": 3,
   "metadata": {},
   "outputs": [
    {
     "data": {
      "text/html": [
       "<div>\n",
       "<style scoped>\n",
       "    .dataframe tbody tr th:only-of-type {\n",
       "        vertical-align: middle;\n",
       "    }\n",
       "\n",
       "    .dataframe tbody tr th {\n",
       "        vertical-align: top;\n",
       "    }\n",
       "\n",
       "    .dataframe thead th {\n",
       "        text-align: right;\n",
       "    }\n",
       "</style>\n",
       "<table border=\"1\" class=\"dataframe\">\n",
       "  <thead>\n",
       "    <tr style=\"text-align: right;\">\n",
       "      <th></th>\n",
       "      <th>sessionID</th>\n",
       "      <th>userID</th>\n",
       "      <th>TARGET</th>\n",
       "      <th>browser</th>\n",
       "      <th>OS</th>\n",
       "      <th>device</th>\n",
       "      <th>new</th>\n",
       "      <th>quality</th>\n",
       "      <th>duration</th>\n",
       "      <th>transaction</th>\n",
       "      <th>transaction_revenue</th>\n",
       "      <th>continent</th>\n",
       "      <th>subcontinent</th>\n",
       "      <th>country</th>\n",
       "      <th>traffic_source</th>\n",
       "      <th>traffic_medium</th>\n",
       "      <th>keyword1</th>\n",
       "      <th>keyword2</th>\n",
       "      <th>referral_path1</th>\n",
       "      <th>referral_path2</th>\n",
       "    </tr>\n",
       "  </thead>\n",
       "  <tbody>\n",
       "    <tr>\n",
       "      <th>0</th>\n",
       "      <td>SESSION_000000</td>\n",
       "      <td>USER_000000</td>\n",
       "      <td>17.0</td>\n",
       "      <td>Chrome</td>\n",
       "      <td>Macintosh</td>\n",
       "      <td>desktop</td>\n",
       "      <td>0</td>\n",
       "      <td>45.0</td>\n",
       "      <td>839.0</td>\n",
       "      <td>0.0</td>\n",
       "      <td>0.0</td>\n",
       "      <td>Americas</td>\n",
       "      <td>Northern America</td>\n",
       "      <td>United States</td>\n",
       "      <td>google</td>\n",
       "      <td>organic</td>\n",
       "      <td>Category8</td>\n",
       "      <td>(not set)</td>\n",
       "      <td>(not set)</td>\n",
       "      <td>(not set)</td>\n",
       "    </tr>\n",
       "    <tr>\n",
       "      <th>1</th>\n",
       "      <td>SESSION_000001</td>\n",
       "      <td>USER_000001</td>\n",
       "      <td>3.0</td>\n",
       "      <td>Chrome</td>\n",
       "      <td>Windows</td>\n",
       "      <td>desktop</td>\n",
       "      <td>1</td>\n",
       "      <td>1.0</td>\n",
       "      <td>39.0</td>\n",
       "      <td>0.0</td>\n",
       "      <td>0.0</td>\n",
       "      <td>Europe</td>\n",
       "      <td>Western Europe</td>\n",
       "      <td>Germany</td>\n",
       "      <td>google</td>\n",
       "      <td>organic</td>\n",
       "      <td>Category8</td>\n",
       "      <td>(not set)</td>\n",
       "      <td>(not set)</td>\n",
       "      <td>(not set)</td>\n",
       "    </tr>\n",
       "    <tr>\n",
       "      <th>2</th>\n",
       "      <td>SESSION_000007</td>\n",
       "      <td>USER_000007</td>\n",
       "      <td>5.0</td>\n",
       "      <td>Chrome</td>\n",
       "      <td>Macintosh</td>\n",
       "      <td>desktop</td>\n",
       "      <td>1</td>\n",
       "      <td>1.0</td>\n",
       "      <td>64.0</td>\n",
       "      <td>0.0</td>\n",
       "      <td>0.0</td>\n",
       "      <td>Europe</td>\n",
       "      <td>Western Europe</td>\n",
       "      <td>Germany</td>\n",
       "      <td>google</td>\n",
       "      <td>organic</td>\n",
       "      <td>Category8</td>\n",
       "      <td>(not set)</td>\n",
       "      <td>(not set)</td>\n",
       "      <td>(not set)</td>\n",
       "    </tr>\n",
       "    <tr>\n",
       "      <th>3</th>\n",
       "      <td>SESSION_000008</td>\n",
       "      <td>USER_000008</td>\n",
       "      <td>5.0</td>\n",
       "      <td>Firefox</td>\n",
       "      <td>Linux</td>\n",
       "      <td>desktop</td>\n",
       "      <td>1</td>\n",
       "      <td>1.0</td>\n",
       "      <td>60.0</td>\n",
       "      <td>0.0</td>\n",
       "      <td>0.0</td>\n",
       "      <td>Americas</td>\n",
       "      <td>South America</td>\n",
       "      <td>Brazil</td>\n",
       "      <td>youtube.com</td>\n",
       "      <td>referral</td>\n",
       "      <td>(not set)</td>\n",
       "      <td>(not set)</td>\n",
       "      <td>Category5</td>\n",
       "      <td>0002</td>\n",
       "    </tr>\n",
       "    <tr>\n",
       "      <th>4</th>\n",
       "      <td>SESSION_000009</td>\n",
       "      <td>USER_000009</td>\n",
       "      <td>3.0</td>\n",
       "      <td>Chrome</td>\n",
       "      <td>Macintosh</td>\n",
       "      <td>desktop</td>\n",
       "      <td>1</td>\n",
       "      <td>2.0</td>\n",
       "      <td>579.0</td>\n",
       "      <td>0.0</td>\n",
       "      <td>0.0</td>\n",
       "      <td>Americas</td>\n",
       "      <td>Northern America</td>\n",
       "      <td>United States</td>\n",
       "      <td>google</td>\n",
       "      <td>ad</td>\n",
       "      <td>Category1</td>\n",
       "      <td>000</td>\n",
       "      <td>(not set)</td>\n",
       "      <td>(not set)</td>\n",
       "    </tr>\n",
       "  </tbody>\n",
       "</table>\n",
       "</div>"
      ],
      "text/plain": [
       "        sessionID       userID  TARGET  browser         OS   device  new  \\\n",
       "0  SESSION_000000  USER_000000    17.0   Chrome  Macintosh  desktop    0   \n",
       "1  SESSION_000001  USER_000001     3.0   Chrome    Windows  desktop    1   \n",
       "2  SESSION_000007  USER_000007     5.0   Chrome  Macintosh  desktop    1   \n",
       "3  SESSION_000008  USER_000008     5.0  Firefox      Linux  desktop    1   \n",
       "4  SESSION_000009  USER_000009     3.0   Chrome  Macintosh  desktop    1   \n",
       "\n",
       "   quality  duration  transaction  transaction_revenue continent  \\\n",
       "0     45.0     839.0          0.0                  0.0  Americas   \n",
       "1      1.0      39.0          0.0                  0.0    Europe   \n",
       "2      1.0      64.0          0.0                  0.0    Europe   \n",
       "3      1.0      60.0          0.0                  0.0  Americas   \n",
       "4      2.0     579.0          0.0                  0.0  Americas   \n",
       "\n",
       "       subcontinent        country traffic_source traffic_medium   keyword1  \\\n",
       "0  Northern America  United States         google        organic  Category8   \n",
       "1    Western Europe        Germany         google        organic  Category8   \n",
       "2    Western Europe        Germany         google        organic  Category8   \n",
       "3     South America         Brazil    youtube.com       referral  (not set)   \n",
       "4  Northern America  United States         google             ad  Category1   \n",
       "\n",
       "    keyword2 referral_path1 referral_path2  \n",
       "0  (not set)      (not set)      (not set)  \n",
       "1  (not set)      (not set)      (not set)  \n",
       "2  (not set)      (not set)      (not set)  \n",
       "3  (not set)      Category5           0002  \n",
       "4        000      (not set)      (not set)  "
      ]
     },
     "metadata": {},
     "output_type": "display_data"
    }
   ],
   "source": [
    "'''\n",
    "데이터 설명\n",
    "- sessionID : 세션 ID\n",
    "- userID : 사용자 ID\n",
    "- TARGET : 세션에서 발생한 총 조회수\n",
    "- browser : 사용된 브라우저\n",
    "- OS : 사용된 기기의 운영체제\n",
    "- device : 사용된 기기\n",
    "- new : 첫 방문 여부 (0: 첫 방문 아님, 1: 첫 방문)\n",
    "- quality : 세션의 질 (거래 성사를 기준으로 측정된 값, 범위: 1~100)\n",
    "- duration : 총 세션 시간 (단위: 초)\n",
    "- bounced : 이탈 여부 (0: 이탈하지 않음, 1: 이탈함)\n",
    "- transaction : 세션 내에서 발생의 거래의 수\n",
    "- transaction_revenue : 총 거래 수익\n",
    "- continent : 세션이 발생한 대륙\n",
    "- subcontinent : 세션이 발생한 하위 대륙\n",
    "- country : 세션이 발생한 국가\n",
    "- traffic_source : 트래픽이 발생한 소스\n",
    "- traffic_medium : 트래픽 소스의 매체\n",
    "- keyword : 트래픽 소스의 키워드, 일반적으로 traffic_medium이 organic, cpc인 경우에 설정\n",
    "- referral_path : traffic_medium이 referral인 경우 설정되는 경로\n",
    "'''\n",
    "display(train.head())"
   ]
  },
  {
   "cell_type": "markdown",
   "metadata": {},
   "source": [
    "## <font color='forestgreen'> Data Cleansing"
   ]
  },
  {
   "cell_type": "code",
   "execution_count": 4,
   "metadata": {},
   "outputs": [],
   "source": [
    "# browser 내 device 정보가 섞여 범주값이 다양하다. 학습데이터를 기반으로 재구성한다.\n",
    "# 결측치로 생각하는 (not set)도 포함한다.\n",
    "unclear_browser = [\"Mozilla Compatible Agent\", \"MRCHROME\", \"+Simple Browser\",\n",
    "                   'SeaMonkey', 'osee2unifiedRelease', 'YE', 'Browser', 'starmaker', '(not set)']\n",
    "\n",
    "train['browser'] = train['browser'].apply(lambda x: 'Safari' if 'Safari' in x else\n",
    "                                                     ('Opera' if 'Opera' in x else\n",
    "                                                     ('Amazon' if 'Amazon' in x else\n",
    "                                                     ('BROWSER' if x in unclear_browser else x))))\n",
    "test['browser'] = test['browser'].apply(lambda x: 'Safari' if 'Safari' in x else\n",
    "                                                     ('Opera' if 'Opera' in x else\n",
    "                                                     ('Amazon' if 'Amazon' in x else\n",
    "                                                     ('BROWSER' if x in unclear_browser else x))))"
   ]
  },
  {
   "cell_type": "code",
   "execution_count": 5,
   "metadata": {},
   "outputs": [],
   "source": [
    "# 같은 이유로 OS도 재구성한다.\n",
    "train['OS'] = train['OS'].apply(lambda x: 'Windows' if 'Windows' in x else\n",
    "                                           ('Nintendo' if 'Nintendo' in x else                                \n",
    "                                           ('OS' if x in ['OS/2','(not set)'] else x)))\n",
    "test['OS'] = test['OS'].apply(lambda x: 'Windows' if 'Windows' in x else\n",
    "                                           ('Nintendo' if 'Nintendo' in x else                                \n",
    "                                           ('OS' if x in ['OS/2','(not set)'] else x)))"
   ]
  },
  {
   "cell_type": "code",
   "execution_count": 6,
   "metadata": {},
   "outputs": [],
   "source": [
    "# traffic_source를 지역 도메인을 제외해 재구성한다.\n",
    "# google엔 analytics, mail, groups, adwords & ads, optimize, docs, earth 등이 섞여있다.\n",
    "train['traffic_source'] = train.traffic_source.str.replace('.com|.net|.org', '')\\\n",
    "                          .apply(lambda x: 'yahoo' if '.yahoo' in x else\n",
    "                                            ('facebook' if '.facebook' in x else\n",
    "                                            ('youtube' if '.youtube' in x else\n",
    "                                            ('pinterest' if '.pinterest' in x else\n",
    "                                            ('edu' if '.edu' in x else\n",
    "                                            ('ask' if '.ask' in x else\n",
    "                                            ('reddit' if '.reddit' in x else\n",
    "                                            ('google' if 'google' in x else x))))))))\n",
    "\n",
    "test['traffic_source'] = test.traffic_source.str.replace('.com|.net|.org', '')\\\n",
    "                         .apply(lambda x: 'yahoo' if '.yahoo' in x else\n",
    "                                            ('facebook' if '.facebook' in x else\n",
    "                                            ('youtube' if '.youtube' in x else\n",
    "                                            ('pinterest' if '.pinterest' in x else\n",
    "                                            ('edu' if '.edu' in x else\n",
    "                                            ('ask' if '.ask' in x else\n",
    "                                            ('reddit' if '.reddit' in x else\n",
    "                                            ('google' if 'google' in x else x))))))))"
   ]
  },
  {
   "cell_type": "markdown",
   "metadata": {},
   "source": [
    "## <font color='forestgreen'> Feature Engineering"
   ]
  },
  {
   "cell_type": "markdown",
   "metadata": {},
   "source": [
    "### Feature Generation"
   ]
  },
  {
   "cell_type": "code",
   "execution_count": 7,
   "metadata": {},
   "outputs": [],
   "source": [
    "# stayed 데이터는 변수를 생성한다.\n",
    "train['QD'] = train['quality'] / (train['duration']+1)\n",
    "test['QD'] = test['quality'] / (test['duration']+1)"
   ]
  },
  {
   "cell_type": "markdown",
   "metadata": {},
   "source": [
    "### Encoding"
   ]
  },
  {
   "cell_type": "code",
   "execution_count": 8,
   "metadata": {},
   "outputs": [],
   "source": [
    "train.fillna('(not set)', inplace=True)\n",
    "test.fillna('(not set)', inplace=True)"
   ]
  },
  {
   "cell_type": "code",
   "execution_count": 9,
   "metadata": {},
   "outputs": [],
   "source": [
    "# 학습데이터에 한하여 Target encoding 한다.\n",
    "# keyword, referral_path\n",
    "category = ['browser', 'device', 'traffic_source', 'traffic_medium','keyword2', 'referral_path2']\n",
    "                        \n",
    "for i in category:\n",
    "    rate = train.groupby(i)['TARGET'].mean()\n",
    "    train[i] = train[i].map(rate)\n",
    "    test[i] = test[i].map(rate)\n",
    "    test[i].fillna(train[i].mean(), inplace=True)"
   ]
  },
  {
   "cell_type": "code",
   "execution_count": 10,
   "metadata": {},
   "outputs": [],
   "source": [
    "str_col = ['continent', 'new', 'OS', 'subcontinent', 'country', 'keyword1','referral_path1']\n",
    "for i in str_col:\n",
    "    le = LabelEncoder()\n",
    "    le=le.fit(train[i])\n",
    "    train[i]=le.transform(train[i])\n",
    "    \n",
    "    for label in np.unique(test[i]):\n",
    "        if label not in le.classes_: \n",
    "            le.classes_ = np.append(le.classes_, label)\n",
    "    test[i]=le.transform(test[i])"
   ]
  },
  {
   "cell_type": "markdown",
   "metadata": {},
   "source": [
    "### Feature Transformation"
   ]
  },
  {
   "cell_type": "code",
   "execution_count": 11,
   "metadata": {},
   "outputs": [],
   "source": [
    "# sqrt transformation을 시도한다.\n",
    "train['duration'] = train['duration']**0.5\n",
    "test['duration'] = test['duration']**0.5"
   ]
  },
  {
   "cell_type": "code",
   "execution_count": 12,
   "metadata": {},
   "outputs": [],
   "source": [
    "train['quality'] = train['quality']**0.5\n",
    "test['quality'] = test['quality']**0.5"
   ]
  },
  {
   "cell_type": "markdown",
   "metadata": {},
   "source": [
    "### Feature Selection"
   ]
  },
  {
   "cell_type": "code",
   "execution_count": 13,
   "metadata": {
    "scrolled": true
   },
   "outputs": [],
   "source": [
    "# ID열을 제거한다.\n",
    "pred_test= test[['sessionID']]\n",
    "\n",
    "# sessionID 변수를 제거한다.\n",
    "train.drop(['sessionID'], axis=1, inplace=True)\n",
    "test.drop(['sessionID'], axis=1, inplace=True)"
   ]
  },
  {
   "cell_type": "code",
   "execution_count": 24,
   "metadata": {
    "scrolled": true
   },
   "outputs": [
    {
     "name": "stdout",
     "output_type": "stream",
     "text": [
      "[LightGBM] [Warning] Unknown parameter: eval_metric\n",
      "[LightGBM] [Warning] Unknown parameter: eval_metric\n",
      "[LightGBM] [Info] Auto-choosing row-wise multi-threading, the overhead of testing was 0.002284 seconds.\n",
      "You can set `force_row_wise=true` to remove the overhead.\n",
      "And if memory is not enough, you can set `force_col_wise=true`.\n",
      "[LightGBM] [Info] Total Bins 1448\n",
      "[LightGBM] [Info] Number of data points in the train set: 89417, number of used features: 18\n",
      "[LightGBM] [Info] Start training from score 6.105550\n",
      "[LightGBM] [Warning] Unknown parameter: eval_metric\n",
      "RMSE(train): 3.1227287248918043\n",
      "[LightGBM] [Warning] Unknown parameter: eval_metric\n",
      "RMSE: 3.697428138581109\n",
      "[LightGBM] [Warning] Unknown parameter: eval_metric\n",
      "(round)RMSE: 3.7090895985427834\n"
     ]
    }
   ],
   "source": [
    "unuse = ['userID']\n",
    "\n",
    "X_train, y_train = train.drop(['TARGET']+unuse, axis=1), train['TARGET'].astype('i')\n",
    "X_test = test.drop(unuse, axis=1)\n",
    "tr_x, val_x, tr_y, val_y = train_test_split(X_train, y_train, test_size=0.3, random_state=2024)\n",
    "model = LGBMRegressor(n_estimators=1000,  num_leaves=48,learning_rate=0.01,\n",
    "                          eval_metric='RMSE',\n",
    "                          random_state=2024)\n",
    "model.fit(tr_x, tr_y)\n",
    "print('RMSE(train):',mean_squared_error(model.predict(tr_x), tr_y)**0.5)\n",
    "print('RMSE:', mean_squared_error(model.predict(val_x), val_y)**0.5)\n",
    "print('(round)RMSE:', mean_squared_error(model.predict(val_x).round(), val_y)**0.5)"
   ]
  },
  {
   "cell_type": "code",
   "execution_count": null,
   "metadata": {},
   "outputs": [],
   "source": [
    "# Transform 생략"
   ]
  },
  {
   "cell_type": "code",
   "execution_count": null,
   "metadata": {},
   "outputs": [],
   "source": [
    "RMSE(train): 3.1715002491716917\n",
    "RMSE: 3.688607335828954\n",
    "(round)RMSE: 3.7029391378962093'''"
   ]
  },
  {
   "cell_type": "code",
   "execution_count": 26,
   "metadata": {},
   "outputs": [
    {
     "data": {
      "text/plain": [
       "array([1242, 2453, 1002, 1653, 8577, 9101,  446, 2129,  813, 2301, 2372,\n",
       "       1393,  843, 1014,  331, 1415, 3135, 6780])"
      ]
     },
     "execution_count": 26,
     "metadata": {},
     "output_type": "execute_result"
    }
   ],
   "source": [
    "model.feature_importances_"
   ]
  },
  {
   "cell_type": "code",
   "execution_count": 25,
   "metadata": {},
   "outputs": [
    {
     "ename": "AttributeError",
     "evalue": "'LGBMRegressor' object has no attribute 'feature_names_'",
     "output_type": "error",
     "traceback": [
      "\u001b[1;31m---------------------------------------------------------------------------\u001b[0m",
      "\u001b[1;31mAttributeError\u001b[0m                            Traceback (most recent call last)",
      "\u001b[1;32m~\\AppData\\Local\\Temp/ipykernel_1420/3067861374.py\u001b[0m in \u001b[0;36m<module>\u001b[1;34m\u001b[0m\n\u001b[0;32m      1\u001b[0m \u001b[1;31m# Catboost를 base로 삼고 importance가 낮은 feature는 제거한다.\u001b[0m\u001b[1;33m\u001b[0m\u001b[1;33m\u001b[0m\u001b[0m\n\u001b[1;32m----> 2\u001b[1;33m importance = pd.DataFrame({'feature': model.feature_names_,\n\u001b[0m\u001b[0;32m      3\u001b[0m                            'importance':model.feature_importances_})\n\u001b[0;32m      4\u001b[0m \u001b[0mimportance\u001b[0m\u001b[1;33m\u001b[0m\u001b[1;33m\u001b[0m\u001b[0m\n",
      "\u001b[1;31mAttributeError\u001b[0m: 'LGBMRegressor' object has no attribute 'feature_names_'"
     ]
    }
   ],
   "source": [
    "# Catboost를 base로 삼고 importance가 낮은 feature는 제거한다.\n",
    "importance = pd.DataFrame({'feature': model.feature_names_,\n",
    "                           'importance':model.feature_importances_})\n",
    "importance"
   ]
  },
  {
   "cell_type": "code",
   "execution_count": 12,
   "metadata": {},
   "outputs": [
    {
     "data": {
      "text/html": [
       "<div>\n",
       "<style scoped>\n",
       "    .dataframe tbody tr th:only-of-type {\n",
       "        vertical-align: middle;\n",
       "    }\n",
       "\n",
       "    .dataframe tbody tr th {\n",
       "        vertical-align: top;\n",
       "    }\n",
       "\n",
       "    .dataframe thead th {\n",
       "        text-align: right;\n",
       "    }\n",
       "</style>\n",
       "<table border=\"1\" class=\"dataframe\">\n",
       "  <thead>\n",
       "    <tr style=\"text-align: right;\">\n",
       "      <th></th>\n",
       "      <th>feature</th>\n",
       "      <th>importance</th>\n",
       "    </tr>\n",
       "  </thead>\n",
       "  <tbody>\n",
       "    <tr>\n",
       "      <th>0</th>\n",
       "      <td>browser</td>\n",
       "      <td>1.776307</td>\n",
       "    </tr>\n",
       "    <tr>\n",
       "      <th>1</th>\n",
       "      <td>OS</td>\n",
       "      <td>3.363068</td>\n",
       "    </tr>\n",
       "    <tr>\n",
       "      <th>2</th>\n",
       "      <td>device</td>\n",
       "      <td>1.084993</td>\n",
       "    </tr>\n",
       "    <tr>\n",
       "      <th>3</th>\n",
       "      <td>new</td>\n",
       "      <td>4.370651</td>\n",
       "    </tr>\n",
       "    <tr>\n",
       "      <th>4</th>\n",
       "      <td>quality</td>\n",
       "      <td>44.745599</td>\n",
       "    </tr>\n",
       "    <tr>\n",
       "      <th>5</th>\n",
       "      <td>duration</td>\n",
       "      <td>17.877549</td>\n",
       "    </tr>\n",
       "    <tr>\n",
       "      <th>6</th>\n",
       "      <td>transaction</td>\n",
       "      <td>0.880510</td>\n",
       "    </tr>\n",
       "    <tr>\n",
       "      <th>7</th>\n",
       "      <td>transaction_revenue</td>\n",
       "      <td>1.581597</td>\n",
       "    </tr>\n",
       "    <tr>\n",
       "      <th>8</th>\n",
       "      <td>continent</td>\n",
       "      <td>0.381199</td>\n",
       "    </tr>\n",
       "    <tr>\n",
       "      <th>9</th>\n",
       "      <td>subcontinent</td>\n",
       "      <td>10.366317</td>\n",
       "    </tr>\n",
       "    <tr>\n",
       "      <th>10</th>\n",
       "      <td>country</td>\n",
       "      <td>0.381310</td>\n",
       "    </tr>\n",
       "    <tr>\n",
       "      <th>11</th>\n",
       "      <td>traffic_source</td>\n",
       "      <td>1.145801</td>\n",
       "    </tr>\n",
       "    <tr>\n",
       "      <th>12</th>\n",
       "      <td>traffic_medium</td>\n",
       "      <td>1.627542</td>\n",
       "    </tr>\n",
       "    <tr>\n",
       "      <th>13</th>\n",
       "      <td>keyword1</td>\n",
       "      <td>2.091433</td>\n",
       "    </tr>\n",
       "    <tr>\n",
       "      <th>14</th>\n",
       "      <td>keyword2</td>\n",
       "      <td>0.094501</td>\n",
       "    </tr>\n",
       "    <tr>\n",
       "      <th>15</th>\n",
       "      <td>referral_path1</td>\n",
       "      <td>1.574805</td>\n",
       "    </tr>\n",
       "    <tr>\n",
       "      <th>16</th>\n",
       "      <td>referral_path2</td>\n",
       "      <td>1.859684</td>\n",
       "    </tr>\n",
       "    <tr>\n",
       "      <th>17</th>\n",
       "      <td>QD</td>\n",
       "      <td>4.797133</td>\n",
       "    </tr>\n",
       "  </tbody>\n",
       "</table>\n",
       "</div>"
      ],
      "text/plain": [
       "                feature  importance\n",
       "0               browser    1.776307\n",
       "1                    OS    3.363068\n",
       "2                device    1.084993\n",
       "3                   new    4.370651\n",
       "4               quality   44.745599\n",
       "5              duration   17.877549\n",
       "6           transaction    0.880510\n",
       "7   transaction_revenue    1.581597\n",
       "8             continent    0.381199\n",
       "9          subcontinent   10.366317\n",
       "10              country    0.381310\n",
       "11       traffic_source    1.145801\n",
       "12       traffic_medium    1.627542\n",
       "13             keyword1    2.091433\n",
       "14             keyword2    0.094501\n",
       "15       referral_path1    1.574805\n",
       "16       referral_path2    1.859684\n",
       "17                   QD    4.797133"
      ]
     },
     "execution_count": 12,
     "metadata": {},
     "output_type": "execute_result"
    }
   ],
   "source": [
    "# Catboost를 base로 삼고 importance가 낮은 feature는 제거한다.\n",
    "importance = pd.DataFrame({'feature': model.feature_names_,\n",
    "                           'importance':model.feature_importances_})\n",
    "importance"
   ]
  },
  {
   "cell_type": "markdown",
   "metadata": {},
   "source": [
    "## <font color='forestgreen'> HyperParameter Tunning"
   ]
  },
  {
   "cell_type": "code",
   "execution_count": 27,
   "metadata": {},
   "outputs": [
    {
     "name": "stdout",
     "output_type": "stream",
     "text": [
      "[LightGBM] [Warning] Unknown parameter: eval_metric\n",
      "[LightGBM] [Warning] Unknown parameter: eval_metric\n",
      "[LightGBM] [Info] Auto-choosing row-wise multi-threading, the overhead of testing was 0.003323 seconds.\n",
      "You can set `force_row_wise=true` to remove the overhead.\n",
      "And if memory is not enough, you can set `force_col_wise=true`.\n",
      "[LightGBM] [Info] Total Bins 1466\n",
      "[LightGBM] [Info] Number of data points in the train set: 127739, number of used features: 18\n",
      "[LightGBM] [Info] Start training from score 6.116260\n"
     ]
    },
    {
     "data": {
      "text/plain": [
       "LGBMRegressor(eval_metric='RMSE', learning_rate=0.01, n_estimators=1000,\n",
       "              num_leaves=48, random_state=2024)"
      ]
     },
     "execution_count": 27,
     "metadata": {},
     "output_type": "execute_result"
    }
   ],
   "source": [
    "X_train, y_train = train.drop(['TARGET']+unuse, axis=1), train['TARGET'].astype('i')\n",
    "X_test = test.drop(unuse, axis=1)\n",
    "model = LGBMRegressor(n_estimators=1000,  num_leaves=48,learning_rate=0.01,\n",
    "                          eval_metric='RMSE',\n",
    "                          random_state=2024)\n",
    "model.fit(X_train, y_train)"
   ]
  },
  {
   "cell_type": "code",
   "execution_count": 28,
   "metadata": {},
   "outputs": [
    {
     "name": "stdout",
     "output_type": "stream",
     "text": [
      "[LightGBM] [Warning] Unknown parameter: eval_metric\n"
     ]
    }
   ],
   "source": [
    "pred_test['TARGET'] = model.predict(X_test)"
   ]
  },
  {
   "cell_type": "markdown",
   "metadata": {},
   "source": [
    "## <font color='forestgreen'> Modeling\n",
    "- HyperParameter Tunning은 수동으로 한다."
   ]
  },
  {
   "cell_type": "code",
   "execution_count": null,
   "metadata": {},
   "outputs": [],
   "source": [
    "lgbm"
   ]
  },
  {
   "cell_type": "code",
   "execution_count": null,
   "metadata": {},
   "outputs": [],
   "source": [
    "cat"
   ]
  },
  {
   "cell_type": "code",
   "execution_count": null,
   "metadata": {},
   "outputs": [],
   "source": [
    "knn"
   ]
  },
  {
   "cell_type": "code",
   "execution_count": null,
   "metadata": {},
   "outputs": [],
   "source": [
    "dt"
   ]
  },
  {
   "cell_type": "code",
   "execution_count": null,
   "metadata": {},
   "outputs": [],
   "source": [
    "rf"
   ]
  },
  {
   "cell_type": "code",
   "execution_count": null,
   "metadata": {},
   "outputs": [],
   "source": [
    "br"
   ]
  },
  {
   "cell_type": "code",
   "execution_count": null,
   "metadata": {},
   "outputs": [],
   "source": [
    "sgd"
   ]
  },
  {
   "cell_type": "markdown",
   "metadata": {},
   "source": [
    "#### Ensemble"
   ]
  },
  {
   "cell_type": "code",
   "execution_count": null,
   "metadata": {},
   "outputs": [],
   "source": [
    "model = VotingRegressor([('lr', r1), ('rf', r2), ('r3', r3)])\n",
    "model.fit(X_train, y_train)\n",
    "print('RMSE(train):',mean_squared_error(model.predict(tr_x), tr_y)**0.5)\n",
    "print('RMSE:', mean_squared_error(model.predict(val_x), val_y)**0.5)\n",
    "print('(round)RMSE:', mean_squared_error(model.predict(val_x).round(), val_y)**0.5)"
   ]
  },
  {
   "cell_type": "code",
   "execution_count": null,
   "metadata": {},
   "outputs": [],
   "source": [
    "# 직접 비율을 달리하며 Ensemble한다."
   ]
  },
  {
   "cell_type": "code",
   "execution_count": null,
   "metadata": {},
   "outputs": [],
   "source": [
    "from sklearn import linear_model\n",
    ">>> clf = linear_model.BayesianRidge()\n",
    ">>> r1 = LinearRegression()\n",
    ">>> r2 = RandomForestRegressor(n_estimators=10, random_state=1)\n",
    ">>> r3 = KNeighborsRegressor()\n",
    ">>> X = np.array([[1, 1], [2, 4], [3, 9], [4, 16], [5, 25], [6, 36]])\n",
    ">>> y = np.array([2, 6, 12, 20, 30, 42])\n",
    ">>> er = VotingRegressor([('lr', r1), ('rf', r2), ('r3', r3)])\n",
    ">>> print(er.fit(X, y).predict(X))\n",
    "[ 6.8...  8.4... 12.5... 17.8... 26...  34...]"
   ]
  },
  {
   "cell_type": "markdown",
   "metadata": {},
   "source": [
    "## <font color='forestgreen'> Save data"
   ]
  },
  {
   "cell_type": "code",
   "execution_count": 29,
   "metadata": {},
   "outputs": [
    {
     "data": {
      "text/html": [
       "<div>\n",
       "<style scoped>\n",
       "    .dataframe tbody tr th:only-of-type {\n",
       "        vertical-align: middle;\n",
       "    }\n",
       "\n",
       "    .dataframe tbody tr th {\n",
       "        vertical-align: top;\n",
       "    }\n",
       "\n",
       "    .dataframe thead th {\n",
       "        text-align: right;\n",
       "    }\n",
       "</style>\n",
       "<table border=\"1\" class=\"dataframe\">\n",
       "  <thead>\n",
       "    <tr style=\"text-align: right;\">\n",
       "      <th></th>\n",
       "      <th>sessionID</th>\n",
       "      <th>TARGET</th>\n",
       "    </tr>\n",
       "  </thead>\n",
       "  <tbody>\n",
       "    <tr>\n",
       "      <th>0</th>\n",
       "      <td>SESSION_252289</td>\n",
       "      <td>26.615789</td>\n",
       "    </tr>\n",
       "    <tr>\n",
       "      <th>1</th>\n",
       "      <td>SESSION_252290</td>\n",
       "      <td>1.000000</td>\n",
       "    </tr>\n",
       "    <tr>\n",
       "      <th>2</th>\n",
       "      <td>SESSION_252291</td>\n",
       "      <td>2.729949</td>\n",
       "    </tr>\n",
       "    <tr>\n",
       "      <th>3</th>\n",
       "      <td>SESSION_252292</td>\n",
       "      <td>4.265513</td>\n",
       "    </tr>\n",
       "    <tr>\n",
       "      <th>4</th>\n",
       "      <td>SESSION_252293</td>\n",
       "      <td>10.715498</td>\n",
       "    </tr>\n",
       "    <tr>\n",
       "      <th>...</th>\n",
       "      <td>...</td>\n",
       "      <td>...</td>\n",
       "    </tr>\n",
       "    <tr>\n",
       "      <th>79781</th>\n",
       "      <td>SESSION_332070</td>\n",
       "      <td>1.000000</td>\n",
       "    </tr>\n",
       "    <tr>\n",
       "      <th>79782</th>\n",
       "      <td>SESSION_332071</td>\n",
       "      <td>1.000000</td>\n",
       "    </tr>\n",
       "    <tr>\n",
       "      <th>79783</th>\n",
       "      <td>SESSION_332072</td>\n",
       "      <td>2.758734</td>\n",
       "    </tr>\n",
       "    <tr>\n",
       "      <th>79784</th>\n",
       "      <td>SESSION_332073</td>\n",
       "      <td>4.745194</td>\n",
       "    </tr>\n",
       "    <tr>\n",
       "      <th>79785</th>\n",
       "      <td>SESSION_332074</td>\n",
       "      <td>1.000000</td>\n",
       "    </tr>\n",
       "  </tbody>\n",
       "</table>\n",
       "<p>79786 rows × 2 columns</p>\n",
       "</div>"
      ],
      "text/plain": [
       "            sessionID     TARGET\n",
       "0      SESSION_252289  26.615789\n",
       "1      SESSION_252290   1.000000\n",
       "2      SESSION_252291   2.729949\n",
       "3      SESSION_252292   4.265513\n",
       "4      SESSION_252293  10.715498\n",
       "...               ...        ...\n",
       "79781  SESSION_332070   1.000000\n",
       "79782  SESSION_332071   1.000000\n",
       "79783  SESSION_332072   2.758734\n",
       "79784  SESSION_332073   4.745194\n",
       "79785  SESSION_332074   1.000000\n",
       "\n",
       "[79786 rows x 2 columns]"
      ]
     },
     "execution_count": 29,
     "metadata": {},
     "output_type": "execute_result"
    }
   ],
   "source": [
    "sample = pd.read_csv('data/submission/sample_submission.csv')\n",
    "sample = sample[['sessionID']].merge(pred_test, on='sessionID', how='left').fillna(1)\n",
    "sample"
   ]
  },
  {
   "cell_type": "code",
   "execution_count": 30,
   "metadata": {},
   "outputs": [
    {
     "name": "stdout",
     "output_type": "stream",
     "text": [
      "./data/submission/20240227_1641 is saved.\n"
     ]
    }
   ],
   "source": [
    "date = str(pd.Timestamp.now())[:16].replace('-','').replace(' ','_').replace(':','')\n",
    "filename = f'./data/submission/{date}'\n",
    "sample.to_csv(f'{filename}.csv', index=False)\n",
    "print(f'{filename} is saved.')"
   ]
  },
  {
   "cell_type": "code",
   "execution_count": null,
   "metadata": {},
   "outputs": [],
   "source": []
  }
 ],
 "metadata": {
  "kernelspec": {
   "display_name": "Python 3 (ipykernel)",
   "language": "python",
   "name": "python3"
  },
  "language_info": {
   "codemirror_mode": {
    "name": "ipython",
    "version": 3
   },
   "file_extension": ".py",
   "mimetype": "text/x-python",
   "name": "python",
   "nbconvert_exporter": "python",
   "pygments_lexer": "ipython3",
   "version": "3.9.7"
  }
 },
 "nbformat": 4,
 "nbformat_minor": 2
}
