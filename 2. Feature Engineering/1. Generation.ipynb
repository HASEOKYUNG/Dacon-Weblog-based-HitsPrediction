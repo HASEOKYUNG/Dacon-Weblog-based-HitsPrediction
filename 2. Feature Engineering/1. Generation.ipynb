{
 "cells": [
  {
   "cell_type": "markdown",
   "id": "4e067cd5",
   "metadata": {},
   "source": [
    "## Import"
   ]
  },
  {
   "cell_type": "code",
   "execution_count": 52,
   "id": "bbf20fce",
   "metadata": {
    "scrolled": true
   },
   "outputs": [],
   "source": [
    "import pandas as pd\n",
    "import numpy as np ; np.random.seed(2024)\n",
    "import warnings;warnings.filterwarnings(action='ignore')\n",
    "\n",
    "# Modeling\n",
    "from catboost import CatBoostRegressor\n",
    "from sklearn.model_selection import train_test_split\n",
    "from sklearn.metrics import mean_squared_error"
   ]
  },
  {
   "cell_type": "markdown",
   "id": "1ad7eb9b",
   "metadata": {},
   "source": [
    "## Read data"
   ]
  },
  {
   "cell_type": "code",
   "execution_count": 53,
   "id": "ca5105d4",
   "metadata": {},
   "outputs": [
    {
     "name": "stdout",
     "output_type": "stream",
     "text": [
      "학습데이터 수: (127739, 20)\n",
      "평가데이터 수: (40148, 19)\n"
     ]
    }
   ],
   "source": [
    "train = pd.read_csv('../data/stayed_train.csv')\n",
    "test = pd.read_csv('../data/stayed_test.csv')\n",
    "print('학습데이터 수:', train.shape)\n",
    "print('평가데이터 수:', test.shape)"
   ]
  },
  {
   "cell_type": "code",
   "execution_count": 54,
   "id": "1ab38666",
   "metadata": {},
   "outputs": [
    {
     "data": {
      "text/html": [
       "<div>\n",
       "<style scoped>\n",
       "    .dataframe tbody tr th:only-of-type {\n",
       "        vertical-align: middle;\n",
       "    }\n",
       "\n",
       "    .dataframe tbody tr th {\n",
       "        vertical-align: top;\n",
       "    }\n",
       "\n",
       "    .dataframe thead th {\n",
       "        text-align: right;\n",
       "    }\n",
       "</style>\n",
       "<table border=\"1\" class=\"dataframe\">\n",
       "  <thead>\n",
       "    <tr style=\"text-align: right;\">\n",
       "      <th></th>\n",
       "      <th>sessionID</th>\n",
       "      <th>userID</th>\n",
       "      <th>TARGET</th>\n",
       "      <th>browser</th>\n",
       "      <th>OS</th>\n",
       "      <th>device</th>\n",
       "      <th>new</th>\n",
       "      <th>quality</th>\n",
       "      <th>duration</th>\n",
       "      <th>transaction</th>\n",
       "      <th>transaction_revenue</th>\n",
       "      <th>continent</th>\n",
       "      <th>subcontinent</th>\n",
       "      <th>country</th>\n",
       "      <th>traffic_source</th>\n",
       "      <th>traffic_medium</th>\n",
       "      <th>keyword1</th>\n",
       "      <th>keyword2</th>\n",
       "      <th>referral_path1</th>\n",
       "      <th>referral_path2</th>\n",
       "    </tr>\n",
       "  </thead>\n",
       "  <tbody>\n",
       "    <tr>\n",
       "      <th>0</th>\n",
       "      <td>SESSION_000000</td>\n",
       "      <td>USER_000000</td>\n",
       "      <td>17.0</td>\n",
       "      <td>Chrome</td>\n",
       "      <td>Macintosh</td>\n",
       "      <td>desktop</td>\n",
       "      <td>0</td>\n",
       "      <td>45.0</td>\n",
       "      <td>839.0</td>\n",
       "      <td>0.0</td>\n",
       "      <td>0.0</td>\n",
       "      <td>Americas</td>\n",
       "      <td>Northern America</td>\n",
       "      <td>United States</td>\n",
       "      <td>google</td>\n",
       "      <td>organic</td>\n",
       "      <td>Category8</td>\n",
       "      <td>(not set)</td>\n",
       "      <td>(not set)</td>\n",
       "      <td>(not set)</td>\n",
       "    </tr>\n",
       "    <tr>\n",
       "      <th>1</th>\n",
       "      <td>SESSION_000001</td>\n",
       "      <td>USER_000001</td>\n",
       "      <td>3.0</td>\n",
       "      <td>Chrome</td>\n",
       "      <td>Windows</td>\n",
       "      <td>desktop</td>\n",
       "      <td>1</td>\n",
       "      <td>1.0</td>\n",
       "      <td>39.0</td>\n",
       "      <td>0.0</td>\n",
       "      <td>0.0</td>\n",
       "      <td>Europe</td>\n",
       "      <td>Western Europe</td>\n",
       "      <td>Germany</td>\n",
       "      <td>google</td>\n",
       "      <td>organic</td>\n",
       "      <td>Category8</td>\n",
       "      <td>(not set)</td>\n",
       "      <td>(not set)</td>\n",
       "      <td>(not set)</td>\n",
       "    </tr>\n",
       "    <tr>\n",
       "      <th>2</th>\n",
       "      <td>SESSION_000007</td>\n",
       "      <td>USER_000007</td>\n",
       "      <td>5.0</td>\n",
       "      <td>Chrome</td>\n",
       "      <td>Macintosh</td>\n",
       "      <td>desktop</td>\n",
       "      <td>1</td>\n",
       "      <td>1.0</td>\n",
       "      <td>64.0</td>\n",
       "      <td>0.0</td>\n",
       "      <td>0.0</td>\n",
       "      <td>Europe</td>\n",
       "      <td>Western Europe</td>\n",
       "      <td>Germany</td>\n",
       "      <td>google</td>\n",
       "      <td>organic</td>\n",
       "      <td>Category8</td>\n",
       "      <td>(not set)</td>\n",
       "      <td>(not set)</td>\n",
       "      <td>(not set)</td>\n",
       "    </tr>\n",
       "    <tr>\n",
       "      <th>3</th>\n",
       "      <td>SESSION_000008</td>\n",
       "      <td>USER_000008</td>\n",
       "      <td>5.0</td>\n",
       "      <td>Firefox</td>\n",
       "      <td>Linux</td>\n",
       "      <td>desktop</td>\n",
       "      <td>1</td>\n",
       "      <td>1.0</td>\n",
       "      <td>60.0</td>\n",
       "      <td>0.0</td>\n",
       "      <td>0.0</td>\n",
       "      <td>Americas</td>\n",
       "      <td>South America</td>\n",
       "      <td>Brazil</td>\n",
       "      <td>youtube.com</td>\n",
       "      <td>referral</td>\n",
       "      <td>(not set)</td>\n",
       "      <td>(not set)</td>\n",
       "      <td>Category5</td>\n",
       "      <td>0002</td>\n",
       "    </tr>\n",
       "    <tr>\n",
       "      <th>4</th>\n",
       "      <td>SESSION_000009</td>\n",
       "      <td>USER_000009</td>\n",
       "      <td>3.0</td>\n",
       "      <td>Chrome</td>\n",
       "      <td>Macintosh</td>\n",
       "      <td>desktop</td>\n",
       "      <td>1</td>\n",
       "      <td>2.0</td>\n",
       "      <td>579.0</td>\n",
       "      <td>0.0</td>\n",
       "      <td>0.0</td>\n",
       "      <td>Americas</td>\n",
       "      <td>Northern America</td>\n",
       "      <td>United States</td>\n",
       "      <td>google</td>\n",
       "      <td>ad</td>\n",
       "      <td>Category1</td>\n",
       "      <td>000</td>\n",
       "      <td>(not set)</td>\n",
       "      <td>(not set)</td>\n",
       "    </tr>\n",
       "  </tbody>\n",
       "</table>\n",
       "</div>"
      ],
      "text/plain": [
       "        sessionID       userID  TARGET  browser         OS   device  new  \\\n",
       "0  SESSION_000000  USER_000000    17.0   Chrome  Macintosh  desktop    0   \n",
       "1  SESSION_000001  USER_000001     3.0   Chrome    Windows  desktop    1   \n",
       "2  SESSION_000007  USER_000007     5.0   Chrome  Macintosh  desktop    1   \n",
       "3  SESSION_000008  USER_000008     5.0  Firefox      Linux  desktop    1   \n",
       "4  SESSION_000009  USER_000009     3.0   Chrome  Macintosh  desktop    1   \n",
       "\n",
       "   quality  duration  transaction  transaction_revenue continent  \\\n",
       "0     45.0     839.0          0.0                  0.0  Americas   \n",
       "1      1.0      39.0          0.0                  0.0    Europe   \n",
       "2      1.0      64.0          0.0                  0.0    Europe   \n",
       "3      1.0      60.0          0.0                  0.0  Americas   \n",
       "4      2.0     579.0          0.0                  0.0  Americas   \n",
       "\n",
       "       subcontinent        country traffic_source traffic_medium   keyword1  \\\n",
       "0  Northern America  United States         google        organic  Category8   \n",
       "1    Western Europe        Germany         google        organic  Category8   \n",
       "2    Western Europe        Germany         google        organic  Category8   \n",
       "3     South America         Brazil    youtube.com       referral  (not set)   \n",
       "4  Northern America  United States         google             ad  Category1   \n",
       "\n",
       "    keyword2 referral_path1 referral_path2  \n",
       "0  (not set)      (not set)      (not set)  \n",
       "1  (not set)      (not set)      (not set)  \n",
       "2  (not set)      (not set)      (not set)  \n",
       "3  (not set)      Category5           0002  \n",
       "4        000      (not set)      (not set)  "
      ]
     },
     "metadata": {},
     "output_type": "display_data"
    }
   ],
   "source": [
    "'''\n",
    "데이터 설명\n",
    "- sessionID : 세션 ID\n",
    "- userID : 사용자 ID\n",
    "- TARGET : 세션에서 발생한 총 조회수\n",
    "- browser : 사용된 브라우저\n",
    "- OS : 사용된 기기의 운영체제\n",
    "- device : 사용된 기기\n",
    "- new : 첫 방문 여부 (0: 첫 방문 아님, 1: 첫 방문)\n",
    "- quality : 세션의 질 (거래 성사를 기준으로 측정된 값, 범위: 1~100)\n",
    "- duration : 총 세션 시간 (단위: 초)\n",
    "- bounced : 이탈 여부 (0: 이탈하지 않음, 1: 이탈함)\n",
    "- transaction : 세션 내에서 발생의 거래의 수\n",
    "- transaction_revenue : 총 거래 수익\n",
    "- continent : 세션이 발생한 대륙\n",
    "- subcontinent : 세션이 발생한 하위 대륙\n",
    "- country : 세션이 발생한 국가\n",
    "- traffic_source : 트래픽이 발생한 소스\n",
    "- traffic_medium : 트래픽 소스의 매체\n",
    "- keyword : 트래픽 소스의 키워드, 일반적으로 traffic_medium이 organic, cpc인 경우에 설정\n",
    "- referral_path : traffic_medium이 referral인 경우 설정되는 경로\n",
    "'''\n",
    "display(train.head())"
   ]
  },
  {
   "cell_type": "markdown",
   "id": "781056c7",
   "metadata": {},
   "source": [
    "### Feature Generation"
   ]
  },
  {
   "cell_type": "code",
   "execution_count": 60,
   "id": "7550f023",
   "metadata": {},
   "outputs": [],
   "source": [
    "# stayed 데이터는 변수를 생성한다.\n",
    "train['QD'] = train['quality'] * train['duration']\n",
    "test['QD'] = test['quality'] * test['duration']"
   ]
  },
  {
   "cell_type": "code",
   "execution_count": 61,
   "id": "c9d3abdd",
   "metadata": {},
   "outputs": [],
   "source": [
    "train['QN'] = train['quality'] * train['new']\n",
    "test['QN'] = test['quality'] * test['new']"
   ]
  },
  {
   "cell_type": "code",
   "execution_count": 62,
   "id": "cb362da8",
   "metadata": {},
   "outputs": [],
   "source": [
    "train['DN'] = train['duration'] * train['new']\n",
    "test['DN'] = test['duration'] * test['new']"
   ]
  },
  {
   "cell_type": "code",
   "execution_count": null,
   "id": "54b874cd",
   "metadata": {},
   "outputs": [],
   "source": [
    "# continent, subcontinent, country, direction에서 결측치는 (not set)으로 나타낸다.\n",
    "train['direction'] = train['subcontinent'].str.split(' ', expand=True)[0].replace('(not', '(not set)')\n",
    "test['direction'] = test['subcontinent'].str.split(' ', expand=True)[0].replace('(not', '(not set)')"
   ]
  },
  {
   "cell_type": "markdown",
   "id": "3bef0b38",
   "metadata": {},
   "source": [
    "## Save data"
   ]
  },
  {
   "cell_type": "code",
   "execution_count": 15,
   "id": "15240778",
   "metadata": {},
   "outputs": [],
   "source": [
    "train.to_csv('../data/stayed_train.csv', index=False)\n",
    "test.to_csv('../data/stayed_test.csv', index=False)"
   ]
  },
  {
   "cell_type": "code",
   "execution_count": null,
   "id": "52cbde76",
   "metadata": {},
   "outputs": [],
   "source": []
  }
 ],
 "metadata": {
  "kernelspec": {
   "display_name": "Python 3 (ipykernel)",
   "language": "python",
   "name": "python3"
  },
  "language_info": {
   "codemirror_mode": {
    "name": "ipython",
    "version": 3
   },
   "file_extension": ".py",
   "mimetype": "text/x-python",
   "name": "python",
   "nbconvert_exporter": "python",
   "pygments_lexer": "ipython3",
   "version": "3.9.7"
  }
 },
 "nbformat": 4,
 "nbformat_minor": 5
}
