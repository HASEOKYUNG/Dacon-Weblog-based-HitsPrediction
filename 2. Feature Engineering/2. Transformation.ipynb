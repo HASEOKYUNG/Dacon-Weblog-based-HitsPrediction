{
 "cells": [
  {
   "cell_type": "markdown",
   "id": "bb9ceb73",
   "metadata": {},
   "source": [
    "## Import"
   ]
  },
  {
   "cell_type": "code",
   "execution_count": 52,
   "id": "c20cc62d",
   "metadata": {
    "scrolled": true
   },
   "outputs": [],
   "source": [
    "import pandas as pd\n",
    "import numpy as np ; np.random.seed(2024)\n",
    "import warnings;warnings.filterwarnings(action='ignore')\n",
    "\n",
    "# Feature Engineering\n",
    "from sklearn.preprocessing import MinMaxScaler, StandardScaler\n",
    "from sklearn.preprocessing import PolynomialFeatures\n",
    "from sklearn.preprocessing import LabelEncoder\n",
    "\n",
    "# Modeling\n",
    "from catboost import CatBoostRegressor\n",
    "from sklearn.model_selection import train_test_split\n",
    "from sklearn.metrics import mean_squared_error"
   ]
  },
  {
   "cell_type": "markdown",
   "id": "21f284e7",
   "metadata": {},
   "source": [
    "## Read data"
   ]
  },
  {
   "cell_type": "code",
   "execution_count": 53,
   "id": "26335bee",
   "metadata": {},
   "outputs": [
    {
     "name": "stdout",
     "output_type": "stream",
     "text": [
      "학습데이터 수: (127739, 20)\n",
      "평가데이터 수: (40148, 19)\n"
     ]
    }
   ],
   "source": [
    "train = pd.read_csv('data/stayed_train.csv')\n",
    "test = pd.read_csv('data/stayed_test.csv')\n",
    "print('학습데이터 수:', train.shape)\n",
    "print('평가데이터 수:', test.shape)"
   ]
  },
  {
   "cell_type": "code",
   "execution_count": 54,
   "id": "19f76c49",
   "metadata": {},
   "outputs": [
    {
     "data": {
      "text/html": [
       "<div>\n",
       "<style scoped>\n",
       "    .dataframe tbody tr th:only-of-type {\n",
       "        vertical-align: middle;\n",
       "    }\n",
       "\n",
       "    .dataframe tbody tr th {\n",
       "        vertical-align: top;\n",
       "    }\n",
       "\n",
       "    .dataframe thead th {\n",
       "        text-align: right;\n",
       "    }\n",
       "</style>\n",
       "<table border=\"1\" class=\"dataframe\">\n",
       "  <thead>\n",
       "    <tr style=\"text-align: right;\">\n",
       "      <th></th>\n",
       "      <th>sessionID</th>\n",
       "      <th>userID</th>\n",
       "      <th>TARGET</th>\n",
       "      <th>browser</th>\n",
       "      <th>OS</th>\n",
       "      <th>device</th>\n",
       "      <th>new</th>\n",
       "      <th>quality</th>\n",
       "      <th>duration</th>\n",
       "      <th>transaction</th>\n",
       "      <th>transaction_revenue</th>\n",
       "      <th>continent</th>\n",
       "      <th>subcontinent</th>\n",
       "      <th>country</th>\n",
       "      <th>traffic_source</th>\n",
       "      <th>traffic_medium</th>\n",
       "      <th>keyword1</th>\n",
       "      <th>keyword2</th>\n",
       "      <th>referral_path1</th>\n",
       "      <th>referral_path2</th>\n",
       "    </tr>\n",
       "  </thead>\n",
       "  <tbody>\n",
       "    <tr>\n",
       "      <th>0</th>\n",
       "      <td>SESSION_000000</td>\n",
       "      <td>USER_000000</td>\n",
       "      <td>17.0</td>\n",
       "      <td>Chrome</td>\n",
       "      <td>Macintosh</td>\n",
       "      <td>desktop</td>\n",
       "      <td>0</td>\n",
       "      <td>45.0</td>\n",
       "      <td>839.0</td>\n",
       "      <td>0.0</td>\n",
       "      <td>0.0</td>\n",
       "      <td>Americas</td>\n",
       "      <td>Northern America</td>\n",
       "      <td>United States</td>\n",
       "      <td>google</td>\n",
       "      <td>organic</td>\n",
       "      <td>Category8</td>\n",
       "      <td>(not set)</td>\n",
       "      <td>(not set)</td>\n",
       "      <td>(not set)</td>\n",
       "    </tr>\n",
       "    <tr>\n",
       "      <th>1</th>\n",
       "      <td>SESSION_000001</td>\n",
       "      <td>USER_000001</td>\n",
       "      <td>3.0</td>\n",
       "      <td>Chrome</td>\n",
       "      <td>Windows</td>\n",
       "      <td>desktop</td>\n",
       "      <td>1</td>\n",
       "      <td>1.0</td>\n",
       "      <td>39.0</td>\n",
       "      <td>0.0</td>\n",
       "      <td>0.0</td>\n",
       "      <td>Europe</td>\n",
       "      <td>Western Europe</td>\n",
       "      <td>Germany</td>\n",
       "      <td>google</td>\n",
       "      <td>organic</td>\n",
       "      <td>Category8</td>\n",
       "      <td>(not set)</td>\n",
       "      <td>(not set)</td>\n",
       "      <td>(not set)</td>\n",
       "    </tr>\n",
       "    <tr>\n",
       "      <th>2</th>\n",
       "      <td>SESSION_000007</td>\n",
       "      <td>USER_000007</td>\n",
       "      <td>5.0</td>\n",
       "      <td>Chrome</td>\n",
       "      <td>Macintosh</td>\n",
       "      <td>desktop</td>\n",
       "      <td>1</td>\n",
       "      <td>1.0</td>\n",
       "      <td>64.0</td>\n",
       "      <td>0.0</td>\n",
       "      <td>0.0</td>\n",
       "      <td>Europe</td>\n",
       "      <td>Western Europe</td>\n",
       "      <td>Germany</td>\n",
       "      <td>google</td>\n",
       "      <td>organic</td>\n",
       "      <td>Category8</td>\n",
       "      <td>(not set)</td>\n",
       "      <td>(not set)</td>\n",
       "      <td>(not set)</td>\n",
       "    </tr>\n",
       "    <tr>\n",
       "      <th>3</th>\n",
       "      <td>SESSION_000008</td>\n",
       "      <td>USER_000008</td>\n",
       "      <td>5.0</td>\n",
       "      <td>Firefox</td>\n",
       "      <td>Linux</td>\n",
       "      <td>desktop</td>\n",
       "      <td>1</td>\n",
       "      <td>1.0</td>\n",
       "      <td>60.0</td>\n",
       "      <td>0.0</td>\n",
       "      <td>0.0</td>\n",
       "      <td>Americas</td>\n",
       "      <td>South America</td>\n",
       "      <td>Brazil</td>\n",
       "      <td>youtube.com</td>\n",
       "      <td>referral</td>\n",
       "      <td>(not set)</td>\n",
       "      <td>(not set)</td>\n",
       "      <td>Category5</td>\n",
       "      <td>0002</td>\n",
       "    </tr>\n",
       "    <tr>\n",
       "      <th>4</th>\n",
       "      <td>SESSION_000009</td>\n",
       "      <td>USER_000009</td>\n",
       "      <td>3.0</td>\n",
       "      <td>Chrome</td>\n",
       "      <td>Macintosh</td>\n",
       "      <td>desktop</td>\n",
       "      <td>1</td>\n",
       "      <td>2.0</td>\n",
       "      <td>579.0</td>\n",
       "      <td>0.0</td>\n",
       "      <td>0.0</td>\n",
       "      <td>Americas</td>\n",
       "      <td>Northern America</td>\n",
       "      <td>United States</td>\n",
       "      <td>google</td>\n",
       "      <td>ad</td>\n",
       "      <td>Category1</td>\n",
       "      <td>000</td>\n",
       "      <td>(not set)</td>\n",
       "      <td>(not set)</td>\n",
       "    </tr>\n",
       "  </tbody>\n",
       "</table>\n",
       "</div>"
      ],
      "text/plain": [
       "        sessionID       userID  TARGET  browser         OS   device  new  \\\n",
       "0  SESSION_000000  USER_000000    17.0   Chrome  Macintosh  desktop    0   \n",
       "1  SESSION_000001  USER_000001     3.0   Chrome    Windows  desktop    1   \n",
       "2  SESSION_000007  USER_000007     5.0   Chrome  Macintosh  desktop    1   \n",
       "3  SESSION_000008  USER_000008     5.0  Firefox      Linux  desktop    1   \n",
       "4  SESSION_000009  USER_000009     3.0   Chrome  Macintosh  desktop    1   \n",
       "\n",
       "   quality  duration  transaction  transaction_revenue continent  \\\n",
       "0     45.0     839.0          0.0                  0.0  Americas   \n",
       "1      1.0      39.0          0.0                  0.0    Europe   \n",
       "2      1.0      64.0          0.0                  0.0    Europe   \n",
       "3      1.0      60.0          0.0                  0.0  Americas   \n",
       "4      2.0     579.0          0.0                  0.0  Americas   \n",
       "\n",
       "       subcontinent        country traffic_source traffic_medium   keyword1  \\\n",
       "0  Northern America  United States         google        organic  Category8   \n",
       "1    Western Europe        Germany         google        organic  Category8   \n",
       "2    Western Europe        Germany         google        organic  Category8   \n",
       "3     South America         Brazil    youtube.com       referral  (not set)   \n",
       "4  Northern America  United States         google             ad  Category1   \n",
       "\n",
       "    keyword2 referral_path1 referral_path2  \n",
       "0  (not set)      (not set)      (not set)  \n",
       "1  (not set)      (not set)      (not set)  \n",
       "2  (not set)      (not set)      (not set)  \n",
       "3  (not set)      Category5           0002  \n",
       "4        000      (not set)      (not set)  "
      ]
     },
     "metadata": {},
     "output_type": "display_data"
    }
   ],
   "source": [
    "display(train.head())"
   ]
  },
  {
   "cell_type": "markdown",
   "id": "7ce09b16",
   "metadata": {},
   "source": [
    "### Categorical Feature Encoding"
   ]
  },
  {
   "cell_type": "code",
   "execution_count": 64,
   "id": "1a8af57e",
   "metadata": {},
   "outputs": [],
   "source": [
    "# keyword1, referral_path1은 각 keyword2, referral_path2의 빈도로 채운다.\n",
    "replace_count = ['keyword','referral_path']\n",
    "\n",
    "for i in replace_count:\n",
    "    count = train.groupby(f'{i}1')[f'{i}2'].size()\n",
    "    train[f'{i}1'] = train[f'{i}1'].map(count)\n",
    "    test[f'{i}1'] = test[f'{i}1'].map(count)\n",
    "    test[f'{i}1'].fillna(int(count.mean()))"
   ]
  },
  {
   "cell_type": "code",
   "execution_count": 65,
   "id": "5c51101e",
   "metadata": {},
   "outputs": [],
   "source": [
    "# 학습데이터에 한하여 Target encoding 한다.\n",
    "# keyword, referral_path\n",
    "target = ['browser', 'device', 'traffic_source', 'traffic_medium','direction','keyword2', 'referral_path2', 'referral_path3']\n",
    "                        \n",
    "for i in target:\n",
    "    rate = train.groupby(i)['TARGET'].mean()\n",
    "    train[i] = train[i].map(rate)\n",
    "    test[i] = test[i].map(rate)\n",
    "    test[i].fillna(train[i].mean(), inplace=True)"
   ]
  },
  {
   "cell_type": "code",
   "execution_count": 66,
   "id": "d3f979aa",
   "metadata": {},
   "outputs": [],
   "source": [
    "str_col = ['continent', 'new', 'OS', 'subcontinent', 'country']\n",
    "for i in str_col:\n",
    "    le = LabelEncoder()\n",
    "    le=le.fit(train[i])\n",
    "    train[i]=le.transform(train[i])\n",
    "    \n",
    "    for label in np.unique(test[i]):\n",
    "        if label not in le.classes_: \n",
    "            le.classes_ = np.append(le.classes_, label)\n",
    "    test[i]=le.transform(test[i])"
   ]
  },
  {
   "cell_type": "markdown",
   "id": "2952cd92",
   "metadata": {},
   "source": [
    "### Feature Transformation\n",
    "Transformation을 달리 해 두 Feature Set을 만든다."
   ]
  },
  {
   "cell_type": "code",
   "execution_count": null,
   "id": "dfb17972",
   "metadata": {},
   "outputs": [],
   "source": [
    "train_1, test_1 = train.copy(), test.copy()\n",
    "\n",
    "# sqrt transformation\n",
    "train_1['duration'] = train_1['duration']**0.5\n",
    "test_1['duration'] = test_1['duration']**0.5\n",
    "\n",
    "train_1['quality'] = train_1['quality']**0.5\n",
    "test_1['quality'] = test_1['quality']**0.5"
   ]
  },
  {
   "cell_type": "code",
   "execution_count": null,
   "id": "b42c4854",
   "metadata": {},
   "outputs": [],
   "source": [
    "train_2, test_2 = train.copy(), test.copy()\n",
    "\n",
    "# sqrt transformation을 시도한다.\n",
    "train_2['duration'] = train_2['duration']**0.5\n",
    "test_2['duration'] = test_2['duration']**0.5\n",
    "\n",
    "# log transformation을 시도한다.\n",
    "train_2['quality'] = np.log(train_2['quality'])\n",
    "test_2['quality'] = np.log(test_2['quality'])"
   ]
  },
  {
   "cell_type": "markdown",
   "id": "9559af1c",
   "metadata": {},
   "source": [
    "## Save data"
   ]
  },
  {
   "cell_type": "code",
   "execution_count": 15,
   "id": "82d84b96",
   "metadata": {},
   "outputs": [],
   "source": [
    "train_1.to_csv('../data/feature_train_1.csv', index=False)\n",
    "test_1.to_csv('../data/feature_test_1.csv', index=False)"
   ]
  },
  {
   "cell_type": "code",
   "execution_count": 15,
   "id": "2ade48e4",
   "metadata": {},
   "outputs": [],
   "source": [
    "train_2.to_csv('../data/feature_train_2.csv', index=False)\n",
    "test_2.to_csv('../data/feature_test_2.csv', index=False)"
   ]
  },
  {
   "cell_type": "code",
   "execution_count": null,
   "id": "4ade9566",
   "metadata": {},
   "outputs": [],
   "source": []
  }
 ],
 "metadata": {
  "kernelspec": {
   "display_name": "Python 3 (ipykernel)",
   "language": "python",
   "name": "python3"
  },
  "language_info": {
   "codemirror_mode": {
    "name": "ipython",
    "version": 3
   },
   "file_extension": ".py",
   "mimetype": "text/x-python",
   "name": "python",
   "nbconvert_exporter": "python",
   "pygments_lexer": "ipython3",
   "version": "3.9.7"
  }
 },
 "nbformat": 4,
 "nbformat_minor": 5
}
