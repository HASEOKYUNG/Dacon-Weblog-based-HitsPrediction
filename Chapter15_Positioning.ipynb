{
 "cells": [
  {
   "cell_type": "code",
   "execution_count": null,
   "id": "f80ae311",
   "metadata": {},
   "outputs": [],
   "source": [
    "'''해야할 일\n",
    "   1)MDS의 평균거리행렬 구하는 방법 조사하기(예제처럼 구할 수가 없다.) & 평균거리행렬 외의 거리행렬 조사하기\n",
    "   2)MDS의 분석별 자주 쓰는 기법들에 대해 조사하기\n",
    "   3)다중상응분석의 동일한 범주값이 2개 이상의 변수에서 중복 사용되지 않도록 해야 한다는 말 이해하기\n",
    "   4)다중상응분석의 축별 카이제곱통계량 비율, 요인분석의 고유값에 대한 비율이라는 말 이해하기\n",
    "   ->각 요인의 카이제곱통계량은 요인의 정보, 분산량 / 전체 정보, 분산량으로 요인의 데이터 설명 비율을 의미한다.\n",
    "   5)차원수 선택 예제 확인하기\n",
    "'''\n",
    "# 포지셔닝 정보에 대해 추가 조사가 필요하다.\n",
    "# https://www.ibm.com/docs/ko/spss-statistics/25.0.0?topic=SSLVMB_25.0.0/spss/base/idh_alsc_mea.htm\n",
    "# https://analysis-flood.tistory.com/41"
   ]
  },
  {
   "cell_type": "code",
   "execution_count": 1,
   "id": "82fd9b28",
   "metadata": {},
   "outputs": [],
   "source": [
    "import pandas as pd\n",
    "import numpy as np"
   ]
  },
  {
   "cell_type": "markdown",
   "id": "bd9df49d",
   "metadata": {},
   "source": [
    "## 포지셔닝 분석(Positioning)\n",
    "- 개체를 좌표평면과 같은 다차원 공간에 표시하는 맵핑은 기존보다 차원이 증가하거나 변수간 중요도가 반영되지 않아도 된다면 포지셔닝 기법으로 볼 수 있다.\n",
    "- 요인분석과 군집분석 같은 차원숙소 또는 군집화 방법도 포지셔닝 기법이 될 수 있으며 일반적으론 다차원 척도법, 상응분석을 주로 한다.\n",
    "- 분석대상의 다양한 정보를 분석해 차원을 효과적으로 축소하여 시각적으로 판단이 용이한 방법으로 개체들을 표현해준다."
   ]
  },
  {
   "cell_type": "markdown",
   "id": "6751db0e",
   "metadata": {},
   "source": [
    "### $\\blacktriangleright$ 다차원 척도법(MDS)\n",
    "복수의 수치형 데이터를 2차원 또는 3차원 공간상에 단순한 구도로 시각화해 데이터를 종합적으로 고려할 수 있는 방법이다.\n",
    "- 시각적으로 표현함에 다양한 이해관계자들이 직관적으로 이해하고 활용할 수 있다.\n",
    "- 개체들의 관계를 파악하거나 변수간 관계를 파악하는데 용이하다.\n",
    "- 다차원 척도법의 결과로 제시할 수 있는 포지셔닝 정보는 자극점, 속성, 이상점으로 구분할 수 있다.<br>\n",
    "  • 자극점: 비교 대상이 되는 개체 &ensp; ex)기업, 브랜드, 제품 등<br>\n",
    "  • 속성: 개체를 평가하기 위한 측정변수 &ensp; ex)이미지, 만족도, 품질 등<br>\n",
    "  • 이상점: 자극점과 속성의 최적 선호 위치 &ensp; ex)응답자마다 다름\n",
    "- 분석과정은 아래와 같다.<br>\n",
    "  1)자극점에 대한 속성 평가 결과 요약: 자극점에 대한 주요 속성 평가값을 요약한다.<br>\n",
    "  $~~~$ index는 개체, column은 속성, 변수인 형태이다.<br>\n",
    "  2)속성간 거리행렬 도출: 각 속성들의 평균점수를 바탕으로 속성들간 평균거리행렬을 도출한다. 보통 유클라디안 거리 척도를 사용한다.<br>\n",
    "  3)평균거리행렬 상 제시된 개체간 거리값으로 지정된 차원의 좌표값을 반환한다.<br>\n",
    "  4)도출된 좌표를 좌표평면에 맵핑하고 분석한다.<br>\n",
    "    이때, 포지셔닝 맵에 나타난 각 축은 특정 속성을 의미하는 것이 아니라 단지 분류 차원을 구분하기 위한 목적으로 특별한 의미를 갖지 않는다.\n",
    "- 다차원 척도법은 일반적인 자극점 수는 7개 이상이 바람직하며 비교 대상 자극점수가 많을수록 안정적인 결과를 제시한다.\n",
    "- 차원수를 선택하기 위해 크루스칼의 스트레스값을 사용한다.(요인분석에서도 사용가능) 스트레스값은 다차원 정보가 저차원으로 요약 및 축소됨에 따라 발생하는 정보 손실율 같은 개념으로 구체적으로는 측정에 의해 나타난 실제 평가 거리($d_{ij}$)와 다차원 척도법에 의해 추정된 거리($\\hat{d}_{ij}$)로 계산한다. 스트레스는 0과 1사이의 값을 가지며 0에 가까울수록 적합도가 높다. 일반적으로 0.1 이하일 경우 차원수가 적절하다 판단하고 0.2 이상이면 적합도가 매우 나쁘다 판단한다. 스트레스가 가장 크게 감소하는 차원의 수가 최적의 차원수이다. 최적의 차원수가 4차원 이상이면 시각적으로 표현하는 데 한계가 있기에 보통 2, 3차원으로 축소하고 stress는 차원수 결정의 근거, 타당성 검토 등의 보조적 역할로 사용한다.\n",
    "  $$stress = \\sqrt{\\frac{\\sum_{i=1}^n\\sum_{j=1}^n(d_{ij}-\\hat{d}_{ij})^2}{\\sum_{i=1}^n\\sum_{j=1}^nd_{ij}^2}}$$\n",
    "  $$(d_{ij}: \\text{자극점}i\\text{와 자극점}j\\text{사이의 거리}, \\hat{d}_{ij}: \\text{자극점}i\\text{와 자극점}j\\text{간 맵상 거리}, n: \\text{자극점 수})$$"
   ]
  },
  {
   "cell_type": "code",
   "execution_count": null,
   "id": "7f97691b",
   "metadata": {},
   "outputs": [],
   "source": [
    "# 고객 만족도, 선호도 등을 바탕으로 브랜드간 심리적 거리를 계산해 브랜드에 대한 인지도를 표현하는데 자주 사용된다."
   ]
  },
  {
   "cell_type": "code",
   "execution_count": null,
   "id": "cfd62633",
   "metadata": {},
   "outputs": [],
   "source": [
    "# 다차원 척도법은 분석목적에 따라 단순 경쟁구조 분석, 속성-경쟁구조 분석, 이상점-경쟁구조 분석 등으로 구분한다."
   ]
  },
  {
   "cell_type": "markdown",
   "id": "2ab141bf",
   "metadata": {},
   "source": [
    "### $\\triangleright$ 단순경쟁구조\n",
    "자극점들의 유사성을 확인하여 자극점들간의 경쟁구조를 포지셔닝 맵에 표현하는 다차원 척도법이다. 맵상에 가까이 있을수록 유사하고 더욱 경쟁하는 관계임을 의미한다.\n",
    "- ALSCAL, PROXCAL 기법을 많이 쓴다."
   ]
  },
  {
   "cell_type": "code",
   "execution_count": 2,
   "id": "0f218ef0",
   "metadata": {},
   "outputs": [],
   "source": [
    "# 0)데이터 불러오기\n",
    "mds = pd.read_csv('data/MDS1.csv', encoding='cp949')"
   ]
  },
  {
   "cell_type": "code",
   "execution_count": 3,
   "id": "e5934d70",
   "metadata": {},
   "outputs": [
    {
     "data": {
      "text/html": [
       "<div>\n",
       "<style scoped>\n",
       "    .dataframe tbody tr th:only-of-type {\n",
       "        vertical-align: middle;\n",
       "    }\n",
       "\n",
       "    .dataframe tbody tr th {\n",
       "        vertical-align: top;\n",
       "    }\n",
       "\n",
       "    .dataframe thead th {\n",
       "        text-align: right;\n",
       "    }\n",
       "</style>\n",
       "<table border=\"1\" class=\"dataframe\">\n",
       "  <thead>\n",
       "    <tr style=\"text-align: right;\">\n",
       "      <th></th>\n",
       "      <th>shop</th>\n",
       "      <th>이미지</th>\n",
       "      <th>접근성</th>\n",
       "      <th>서비스</th>\n",
       "      <th>친절성</th>\n",
       "      <th>편의시설</th>\n",
       "      <th>인지도</th>\n",
       "      <th>가격만족도</th>\n",
       "    </tr>\n",
       "  </thead>\n",
       "  <tbody>\n",
       "    <tr>\n",
       "      <th>0</th>\n",
       "      <td>A쇼핑</td>\n",
       "      <td>3.4</td>\n",
       "      <td>4.1</td>\n",
       "      <td>8.1</td>\n",
       "      <td>7.8</td>\n",
       "      <td>6.4</td>\n",
       "      <td>7.8</td>\n",
       "      <td>7.7</td>\n",
       "    </tr>\n",
       "    <tr>\n",
       "      <th>1</th>\n",
       "      <td>B쇼핑</td>\n",
       "      <td>4.7</td>\n",
       "      <td>2.8</td>\n",
       "      <td>7.6</td>\n",
       "      <td>6.2</td>\n",
       "      <td>5.4</td>\n",
       "      <td>8.9</td>\n",
       "      <td>6.8</td>\n",
       "    </tr>\n",
       "    <tr>\n",
       "      <th>2</th>\n",
       "      <td>C쇼핑</td>\n",
       "      <td>8.1</td>\n",
       "      <td>3.1</td>\n",
       "      <td>7.5</td>\n",
       "      <td>2.4</td>\n",
       "      <td>2.6</td>\n",
       "      <td>5.5</td>\n",
       "      <td>6.7</td>\n",
       "    </tr>\n",
       "    <tr>\n",
       "      <th>3</th>\n",
       "      <td>D쇼핑</td>\n",
       "      <td>7.9</td>\n",
       "      <td>7.5</td>\n",
       "      <td>2.3</td>\n",
       "      <td>3.8</td>\n",
       "      <td>8.4</td>\n",
       "      <td>1.6</td>\n",
       "      <td>7.8</td>\n",
       "    </tr>\n",
       "    <tr>\n",
       "      <th>4</th>\n",
       "      <td>E쇼핑</td>\n",
       "      <td>4.2</td>\n",
       "      <td>2.6</td>\n",
       "      <td>4.9</td>\n",
       "      <td>7.0</td>\n",
       "      <td>2.7</td>\n",
       "      <td>8.5</td>\n",
       "      <td>5.8</td>\n",
       "    </tr>\n",
       "    <tr>\n",
       "      <th>5</th>\n",
       "      <td>F쇼핑</td>\n",
       "      <td>7.6</td>\n",
       "      <td>8.3</td>\n",
       "      <td>3.0</td>\n",
       "      <td>2.5</td>\n",
       "      <td>8.7</td>\n",
       "      <td>2.5</td>\n",
       "      <td>6.2</td>\n",
       "    </tr>\n",
       "    <tr>\n",
       "      <th>6</th>\n",
       "      <td>G쇼핑</td>\n",
       "      <td>7.1</td>\n",
       "      <td>3.9</td>\n",
       "      <td>8.2</td>\n",
       "      <td>2.5</td>\n",
       "      <td>3.8</td>\n",
       "      <td>9.4</td>\n",
       "      <td>5.1</td>\n",
       "    </tr>\n",
       "  </tbody>\n",
       "</table>\n",
       "</div>"
      ],
      "text/plain": [
       "  shop  이미지  접근성  서비스  친절성  편의시설  인지도  가격만족도\n",
       "0  A쇼핑  3.4  4.1  8.1  7.8   6.4  7.8    7.7\n",
       "1  B쇼핑  4.7  2.8  7.6  6.2   5.4  8.9    6.8\n",
       "2  C쇼핑  8.1  3.1  7.5  2.4   2.6  5.5    6.7\n",
       "3  D쇼핑  7.9  7.5  2.3  3.8   8.4  1.6    7.8\n",
       "4  E쇼핑  4.2  2.6  4.9  7.0   2.7  8.5    5.8\n",
       "5  F쇼핑  7.6  8.3  3.0  2.5   8.7  2.5    6.2\n",
       "6  G쇼핑  7.1  3.9  8.2  2.5   3.8  9.4    5.1"
      ]
     },
     "execution_count": 3,
     "metadata": {},
     "output_type": "execute_result"
    }
   ],
   "source": [
    "mds"
   ]
  },
  {
   "cell_type": "code",
   "execution_count": 3,
   "id": "f93e1a89",
   "metadata": {},
   "outputs": [
    {
     "name": "stderr",
     "output_type": "stream",
     "text": [
      "C:\\Users\\ha\\Anaconda3\\lib\\site-packages\\sklearn\\manifold\\_mds.py:517: UserWarning: The MDS API has changed. ``fit`` now constructs an dissimilarity matrix from data. To use a custom dissimilarity matrix, set ``dissimilarity='precomputed'``.\n",
      "  warnings.warn(\n"
     ]
    }
   ],
   "source": [
    "# 1)다차원척도법 분석(좌표값 계산)\n",
    "from sklearn.manifold import MDS\n",
    "X_mds = MDS(n_components=2, random_state=123).fit_transform(mds.loc[:,'이미지':'가격만족도']) # 2차원 위 자극점 좌표 생성"
   ]
  },
  {
   "cell_type": "code",
   "execution_count": 4,
   "id": "9fb57676",
   "metadata": {
    "scrolled": true
   },
   "outputs": [
    {
     "name": "stderr",
     "output_type": "stream",
     "text": [
      "C:\\Users\\ha\\Anaconda3\\lib\\site-packages\\IPython\\core\\pylabtools.py:151: UserWarning: Glyph 8722 (\\N{MINUS SIGN}) missing from current font.\n",
      "  fig.canvas.print_figure(bytes_io, **kw)\n"
     ]
    },
    {
     "data": {
      "image/png": "[encoded data removed]",
      "text/plain": [
       "<Figure size 432x288 with 1 Axes>"
      ]
     },
     "metadata": {
      "needs_background": "light"
     },
     "output_type": "display_data"
    }
   ],
   "source": [
    "# 2)시각화\n",
    "#  :Dim1=0, Dim2=0을 기준으로 보면 A,B,E끼리, C와 G, D와 F끼리 상대적으로 강한 경쟁관계에 있고 이외 기업끼린 경쟁관계가 상대적으로 약하다.\n",
    "import matplotlib.pyplot as plt\n",
    "plt.rc('font', family='Malgun Gothic')\n",
    "\n",
    "for name, x, y in zip(mds.shop, X_mds[:,0], X_mds[:,1]):\n",
    "    plt.annotate(text=name, xy=(x+0.2,y+0.1))\n",
    "    \n",
    "plt.scatter(X_mds[:,0],X_mds[:,1])\n",
    "plt.xlabel(\"Dimension1\")\n",
    "plt.ylabel(\"Dimension2\")\n",
    "plt.show()"
   ]
  },
  {
   "cell_type": "markdown",
   "id": "686d16aa",
   "metadata": {},
   "source": [
    "### $\\triangleright$ 속성-경쟁구조\n",
    "자극점들간의 경쟁구조뿐만 아니라 자극점을 평가하는 주요 속성의 관점도 함께 표현해주는 다차원 척도법이다. 속성 정보는 속성의 선호 벡터를 통해 나타내며 속성의 선호벡터에서 벡터의 방향은 특정 속성에 대한 평가값을 종속변수로 한 회귀분석 결과의 회귀계수 값을, 선호 속성 점은 속성 벡터의 코사인값을 벡터의 길이는 선호 벡터의 신뢰성으로서 회귀분석의 결정계수의 상대적인 크기를 통해 산출하며 일반적으로 0.6이상이면 신뢰할 수 있는 선호벡터라 할 수 있다.\n",
    "- 자극점과 가까운 속성엔 강하고 반대에 위치한 속성은 취약하다는 뜻이다.\n",
    "- 속성-경쟁구조 분석에 PROFIT 기법을 많이 사용한다."
   ]
  },
  {
   "cell_type": "code",
   "execution_count": 5,
   "id": "735217d2",
   "metadata": {},
   "outputs": [],
   "source": [
    "# 0)데이터 정규화\n",
    "# :자극점 좌표와 속성 좌표를 동일한 척도로 계산하기 위해 정규화를 수행했다.\n",
    "X = mds.loc[:,'이미지':'가격만족도']\n",
    "X_norm = (X-X.min())/(X.max()-X.min())"
   ]
  },
  {
   "cell_type": "code",
   "execution_count": 6,
   "id": "44928e25",
   "metadata": {},
   "outputs": [
    {
     "name": "stderr",
     "output_type": "stream",
     "text": [
      "C:\\Users\\ha\\Anaconda3\\lib\\site-packages\\sklearn\\manifold\\_mds.py:517: UserWarning: The MDS API has changed. ``fit`` now constructs an dissimilarity matrix from data. To use a custom dissimilarity matrix, set ``dissimilarity='precomputed'``.\n",
      "  warnings.warn(\n"
     ]
    }
   ],
   "source": [
    "# 1)다차원 척도법\n",
    "# from sklearn.manifold import MDS\n",
    "X_mds = MDS(n_components=2, random_state=123).fit_transform(X_norm)"
   ]
  },
  {
   "cell_type": "code",
   "execution_count": 9,
   "id": "a0727707",
   "metadata": {},
   "outputs": [],
   "source": [
    "# 2)속성 차원 좌표값 계산\n",
    "# :각 속성을 종속변수로 하고 차원을 독립변수로 하는 회귀모형을 적합시킨 뒤 회귀계수를 좌표값으로 저장한다.\n",
    "import statsmodels.formula.api as smf\n",
    "X_norm[['차원1','차원2']] = X_mds\n",
    "model = [smf.ols(f'{i} ~ 차원1+차원2', data=X_norm).fit() for i in X_norm.columns[:-2]]\n",
    "attribute = np.array([[model[i].params[1], model[i].params[2]] for i in range(len(model))])"
   ]
  },
  {
   "cell_type": "code",
   "execution_count": 10,
   "id": "20633d29",
   "metadata": {},
   "outputs": [
    {
     "name": "stderr",
     "output_type": "stream",
     "text": [
      "C:\\Users\\ha\\Anaconda3\\lib\\site-packages\\IPython\\core\\pylabtools.py:151: UserWarning: Glyph 8722 (\\N{MINUS SIGN}) missing from current font.\n",
      "  fig.canvas.print_figure(bytes_io, **kw)\n"
     ]
    },
    {
     "data": {
      "image/png": "[encoded data removed]",
      "text/plain": [
       "<Figure size 432x288 with 1 Axes>"
      ]
     },
     "metadata": {
      "needs_background": "light"
     },
     "output_type": "display_data"
    }
   ],
   "source": [
    "# 3)시각화\n",
    "# :A쇼핑은 친절성에 강한 경쟁력이 있는 반면 이미지나 접근성에는 취약하다.\n",
    "#  D쇼핑과 F쇼핑은 이미지와 접근성 관점에서 매우 강력한 경쟁관계임을 알 수 있다.\n",
    "# import matplotlib.pyplot as plt\n",
    "# plt.rc('font', family='Malgun Gothic')\n",
    "# https://frhyme.github.io/python-lib/plt_arrowprops/\n",
    "\n",
    "for name, x, y in zip(mds.shop, X_mds[:,0], X_mds[:,1]):\n",
    "    plt.annotate(text=name, xy=(x+0.05, y))\n",
    "    \n",
    "for at, x, y in zip(X_norm.columns[:-2], attribute[:,0], attribute[:,1]):\n",
    "    plt.annotate(text='', xytext=(0,0), xy=(x,y), arrowprops=dict(headwidth=5, width=1, facecolor='black'))\n",
    "    plt.annotate(text=at, xy=(x-0.15,y-0.15))\n",
    "    \n",
    "plt.scatter(X_mds[:,0],X_mds[:,1])\n",
    "plt.xlabel(\"Dimension1\")\n",
    "plt.ylabel(\"Dimension2\")\n",
    "plt.show()"
   ]
  },
  {
   "cell_type": "markdown",
   "id": "7120ccd0",
   "metadata": {},
   "source": [
    "### $\\triangleright$ 이상점-경쟁구조\n",
    "소비자 평가를 바탕으로 다차원 척도법을 수행할 경우 자극점들간 경쟁구조 뿐만 아니라 응답자가 생각하는 이상점을 맵상에 함께 표현해주는 방법이다. 이러한 맵은 조인트 스페이스 맵이라 한다.\n",
    "- 개별 응답자들의 이상점 뿐 아니라 전체 응답자들의 평균 이상점을 함께 나타낸다.\n",
    "- PREFMAP 방법을 사용한다."
   ]
  },
  {
   "cell_type": "code",
   "execution_count": 11,
   "id": "84ab1d39",
   "metadata": {},
   "outputs": [],
   "source": [
    "# 1)고객 응답 데이터, 소비자 평가 데이터 부르기\n",
    "mds2 = pd.read_csv('data/MDS3.csv', encoding='cp949')"
   ]
  },
  {
   "cell_type": "code",
   "execution_count": 12,
   "id": "850a574f",
   "metadata": {},
   "outputs": [
    {
     "name": "stderr",
     "output_type": "stream",
     "text": [
      "C:\\Users\\ha\\Anaconda3\\lib\\site-packages\\sklearn\\manifold\\_mds.py:517: UserWarning: The MDS API has changed. ``fit`` now constructs an dissimilarity matrix from data. To use a custom dissimilarity matrix, set ``dissimilarity='precomputed'``.\n",
      "  warnings.warn(\n"
     ]
    }
   ],
   "source": [
    "# 2)다차원척도법 \n",
    "# from sklearn.manifold import MDS\n",
    "clf = MDS(n_components=2, random_state=123)\n",
    "X_mds1, X_mds2 = clf.fit_transform(mds.loc[:,'이미지':'가격만족도']), clf.fit_transform(mds2.loc[:,'A쇼핑':'G쇼핑'])"
   ]
  },
  {
   "cell_type": "code",
   "execution_count": 13,
   "id": "c8405529",
   "metadata": {},
   "outputs": [
    {
     "name": "stderr",
     "output_type": "stream",
     "text": [
      "C:\\Users\\ha\\Anaconda3\\lib\\site-packages\\IPython\\core\\pylabtools.py:151: UserWarning: Glyph 8722 (\\N{MINUS SIGN}) missing from current font.\n",
      "  fig.canvas.print_figure(bytes_io, **kw)\n"
     ]
    },
    {
     "data": {
      "image/png": "[encoded data removed]",
      "text/plain": [
       "<Figure size 432x288 with 1 Axes>"
      ]
     },
     "metadata": {
      "needs_background": "light"
     },
     "output_type": "display_data"
    }
   ],
   "source": [
    "# 3)시각화\n",
    "# :B쇼핑이 평균 이상점 주변에 가장 가깝다. \n",
    "#  D쇼핑과 F쇼핑은 경쟁관계에 있으나 고객들의 이상점이 많지 않고 평균 이상점으로부터 멀어 시장지배력은 약할 것이다.\n",
    "# import matplotlib.pyplot as plt\n",
    "# plt.rc('font', family='Malgun Gothic')\n",
    "\n",
    "for name, x, y in zip(mds.shop, X_mds1[:,0], X_mds1[:,1]):\n",
    "    plt.annotate(name, xy=(x+0.05, y))\n",
    "    \n",
    "plt.scatter(X_mds1[:,0], X_mds1[:,1])\n",
    "plt.scatter(X_mds2[:,0], X_mds2[:,1], color='lightgray', label='이상점')\n",
    "plt.plot(X_mds2[:,0].mean(), X_mds2[:,1].mean(), 'o', color='green', label='평균 이상점')\n",
    "plt.xlabel(\"Dimension1\")\n",
    "plt.ylabel(\"Dimension2\")\n",
    "plt.legend()\n",
    "plt.show()"
   ]
  },
  {
   "cell_type": "markdown",
   "id": "56ad6589",
   "metadata": {},
   "source": [
    "### $\\blacktriangleright$ 상응분석(Correspondence Analysis)\n",
    "명목척도로 측정된 2개 이상의 범주형 변수들 간 연관성을 분석해 시각적 해석이 용이하도록 기하학적 맵(포지셔닝 맵)으로 제시하는 다변량 통계기법이다.\n",
    "- 범주형 변수들간 연관성은 빈도교차표의 빈도자료를 사용해 측정한다. 즉 범주형 변수의 범주들의 수에 의해 결정된 행렬이 입력자료가 된다.\n",
    "- 상응분석을 위해선 등간척도나 서열척도의 변수는 일정한 규칙을 정해 범주형 변수로 전환해야 한다.\n",
    "- 빈도교차표의 행과 열을 그래프상의 자극점 형태로 표시하는 방법이다.\n",
    "- 카이제곱 검정과 같이 범주형 변수간 상호연관성을 바탕으로 진행되는 분석 기법으로 빈도교차표에 사용되는 변수가 서로 연관성을 갖고 있다는 전제하에서 진행되어야 한다."
   ]
  },
  {
   "cell_type": "markdown",
   "id": "0cf37b04",
   "metadata": {},
   "source": [
    "### $\\triangleright$ 단순 상응분석\n",
    "하나의 관측치가 빈도교차표 내 하나의 셀에만 속한 경우의 상응분석이다. 단수, 단일응답으로 이루어진 빈도교차표 자료를 사용하게 된다. 2개의 변수를 활용한 상응분석이다.\n",
    "- 단순 상응분석이 이루어지는 과정은 아래와 같다.<br>\n",
    "  1)두 변수의 범주 조합당 빈도를 나타낸 빈도교차표를 작성한다.<br>\n",
    "  2)카이제곱검정에서 기대빈도를 구한 방법으로 기대 빈도교차표를 작성한다.<br>\n",
    "  3)카이제곱검정에서 카이제곱통계량을 계산하 듯 카이제곱 행렬표를 작성한다.<br>\n",
    "  4)카이제곱 행렬표로 각 변수의 범주들에 대한 좌표값을 추정하고 좌표평면에 표현한다.<br>\n",
    "    이때, 포지셔닝 맵에 나타난 각 축은 특정 속성을 의미하는 것이 아니라 단지 분류 차원을 구분하기 위한 목적으로 특별한 의미를 갖지 않는다.\n",
    "- 포지셔닝 맵에서 가까이 있는 범주들은 서로 비슷하거나 연관성이 높은 것으로 판단하고 멀리 떨어진 범주들은 서로 다르거나 연관성이 적은 범주들로 해석한다."
   ]
  },
  {
   "cell_type": "code",
   "execution_count": 2,
   "id": "bb8913ab",
   "metadata": {},
   "outputs": [],
   "source": [
    "# 0)데이터 불러오기\n",
    "cor = pd.read_csv('data/Correspondence.csv', encoding='cp949')"
   ]
  },
  {
   "cell_type": "code",
   "execution_count": 3,
   "id": "5c385ac6",
   "metadata": {},
   "outputs": [
    {
     "data": {
      "text/html": [
       "<div>\n",
       "<style scoped>\n",
       "    .dataframe tbody tr th:only-of-type {\n",
       "        vertical-align: middle;\n",
       "    }\n",
       "\n",
       "    .dataframe tbody tr th {\n",
       "        vertical-align: top;\n",
       "    }\n",
       "\n",
       "    .dataframe thead th {\n",
       "        text-align: right;\n",
       "    }\n",
       "</style>\n",
       "<table border=\"1\" class=\"dataframe\">\n",
       "  <thead>\n",
       "    <tr style=\"text-align: right;\">\n",
       "      <th>slope</th>\n",
       "      <th>Slope-H</th>\n",
       "      <th>Slope-L</th>\n",
       "      <th>Slope-M</th>\n",
       "    </tr>\n",
       "    <tr>\n",
       "      <th>resort</th>\n",
       "      <th></th>\n",
       "      <th></th>\n",
       "      <th></th>\n",
       "    </tr>\n",
       "  </thead>\n",
       "  <tbody>\n",
       "    <tr>\n",
       "      <th>대명</th>\n",
       "      <td>3</td>\n",
       "      <td>5</td>\n",
       "      <td>2</td>\n",
       "    </tr>\n",
       "    <tr>\n",
       "      <th>리솜</th>\n",
       "      <td>3</td>\n",
       "      <td>4</td>\n",
       "      <td>3</td>\n",
       "    </tr>\n",
       "    <tr>\n",
       "      <th>무주</th>\n",
       "      <td>2</td>\n",
       "      <td>6</td>\n",
       "      <td>2</td>\n",
       "    </tr>\n",
       "    <tr>\n",
       "      <th>용평</th>\n",
       "      <td>4</td>\n",
       "      <td>1</td>\n",
       "      <td>5</td>\n",
       "    </tr>\n",
       "    <tr>\n",
       "      <th>한화</th>\n",
       "      <td>5</td>\n",
       "      <td>2</td>\n",
       "      <td>3</td>\n",
       "    </tr>\n",
       "  </tbody>\n",
       "</table>\n",
       "</div>"
      ],
      "text/plain": [
       "slope   Slope-H  Slope-L  Slope-M\n",
       "resort                           \n",
       "대명            3        5        2\n",
       "리솜            3        4        3\n",
       "무주            2        6        2\n",
       "용평            4        1        5\n",
       "한화            5        2        3"
      ]
     },
     "metadata": {},
     "output_type": "display_data"
    }
   ],
   "source": [
    "# 1)빈도교차표 작성\n",
    "X = pd.crosstab(cor.resort, cor.slope)\n",
    "display(X)"
   ]
  },
  {
   "cell_type": "code",
   "execution_count": 4,
   "id": "8c4bc70a",
   "metadata": {},
   "outputs": [],
   "source": [
    "# 2)단순 상응분석\n",
    "# !pip install prince(다른 코드 확인해보기)\n",
    "import prince\n",
    "ca = prince.CA(n_components=2).fit(X) # 범주들의 2차원 상 좌표값 변환"
   ]
  },
  {
   "cell_type": "code",
   "execution_count": 6,
   "id": "e8da8b64",
   "metadata": {},
   "outputs": [
    {
     "data": {
      "text/plain": [
       "<AxesSubplot:title={'center':'Principal coordinates'}, xlabel='Component 0 (90.30% inertia)', ylabel='Component 1 (9.70% inertia)'>"
      ]
     },
     "execution_count": 6,
     "metadata": {},
     "output_type": "execute_result"
    },
    {
     "name": "stderr",
     "output_type": "stream",
     "text": [
      "C:\\Users\\ha\\Anaconda3\\lib\\site-packages\\IPython\\core\\pylabtools.py:151: UserWarning: Glyph 8722 (\\N{MINUS SIGN}) missing from current font.\n",
      "  fig.canvas.print_figure(bytes_io, **kw)\n"
     ]
    },
    {
     "data": {
      "image/png": "[encoded data removed]",
      "text/plain": [
       "<Figure size 432x432 with 1 Axes>"
      ]
     },
     "metadata": {
      "needs_background": "light"
     },
     "output_type": "display_data"
    }
   ],
   "source": [
    "# 3)시각화\n",
    "# :한화는 상급 슬로프, 용평은 중급 슬로프를 가졌으며 나머지 세 리조트는 하급 슬로프를 가졌고 서로 경쟁한다.\n",
    "# import matplotlib.pyplot as plt\n",
    "# plt.rc('font', family='Malgun Gothic')\n",
    "ca.plot_coordinates(X=X)"
   ]
  },
  {
   "cell_type": "code",
   "execution_count": 7,
   "id": "f651ac6e",
   "metadata": {},
   "outputs": [],
   "source": [
    "# + 리조트 차원좌표, 슬로프 차원좌표는 아래와 같이 출력할 수 있다.\n",
    "# print('----------리조트 차원좌표----------')\n",
    "# display(ca.row_coordinates(X))\n",
    "# print('----------슬로프 차원좌표----------')\n",
    "# display(ca.column_coordinates(X))"
   ]
  },
  {
   "cell_type": "markdown",
   "id": "98086a7c",
   "metadata": {},
   "source": [
    "### $\\triangleright$ 다중 상응분석\n",
    "3개 이상의 범주형 변수들의 복합적인 빈도교차표를 이용하는 상응분석기법이다. 복수 혹은 복합 응답으로 이루어진 빈도교차표 자료를 사용한다. \n",
    "- 1개의 관측치는 복합적인 빈도교차표 상에서 최소 2개 이상의 셀에 영향을 미친다.\n",
    "- 다중상응분석의 빈도교차표는 복잡하기에 원자료를 입력자료로 사용하고 통계패키지 내에서 빈도교차표를 작성해 수행한다.\n",
    "- `동일한 범주값이 2개 이상의 변수에서 중복 사용되지 않도록 해야 한다.`"
   ]
  },
  {
   "cell_type": "code",
   "execution_count": 12,
   "id": "a369ae90",
   "metadata": {},
   "outputs": [],
   "source": [
    "# 1)다중 상응분석\n",
    "# import prince\n",
    "X = cor[['resort','slope','traffic','lodging','etc']]\n",
    "mca = prince.MCA(n_components=2).fit(X) # 빈도교차표 자동 계산"
   ]
  },
  {
   "cell_type": "code",
   "execution_count": 13,
   "id": "9b5f9ad7",
   "metadata": {},
   "outputs": [
    {
     "data": {
      "text/plain": [
       "<AxesSubplot:title={'center':'Row and column principal coordinates'}, xlabel='Component 0 (15.25% inertia)', ylabel='Component 1 (13.16% inertia)'>"
      ]
     },
     "execution_count": 13,
     "metadata": {},
     "output_type": "execute_result"
    },
    {
     "name": "stderr",
     "output_type": "stream",
     "text": [
      "C:\\Users\\ha\\Anaconda3\\lib\\site-packages\\IPython\\core\\pylabtools.py:151: UserWarning: Glyph 8722 (\\N{MINUS SIGN}) missing from current font.\n",
      "  fig.canvas.print_figure(bytes_io, **kw)\n"
     ]
    },
    {
     "data": {
      "image/png": "[encoded data removed]",
      "text/plain": [
       "<Figure size 576x576 with 1 Axes>"
      ]
     },
     "metadata": {
      "needs_background": "light"
     },
     "output_type": "display_data"
    }
   ],
   "source": [
    "# 2)시각화\n",
    "# :변수들을 추가하자 용평, 한화, 대명이 경쟁관계에 있다고 결론이 바뀌었고 리솜과 무주는 세 리조트의 경쟁관계와 멀다 밝혀졌다.\n",
    "#  대명리조트는 용이한 교통편의성 측면에서, 용평리조트는 기타시설 편의성과 평이한 슬로프 측면에서,\n",
    "#  한화리조트는 수준 높은 슬로프, 기타시설 편의성, 평이한 교통편의성, 평이한 숙박 측면에서 강한 경쟁력을 갖는다.\n",
    "#  그래프의 축에 나타난 차원별 카이제곱비율(15.25%, 13.16%)의 합이 100이 채 안된다는 것은 분석에서 사용된 변수는 5개지만\n",
    "#  2차원으로 축소되며 정보 손실이 발생했기 때문이다. 이 비율들은 요인분석의 관점으로 보자면 추출된 요인의 고유값에 대한 비율이다.\n",
    "\n",
    "# import matplotlib.pyplot as plt\n",
    "# plt.rc('font', family='Malgun Gothic')\n",
    "mca.plot_coordinates(X=X, figsize=(8,8), show_column_labels=True)"
   ]
  },
  {
   "cell_type": "code",
   "execution_count": 14,
   "id": "660036e1",
   "metadata": {},
   "outputs": [
    {
     "data": {
      "text/html": [
       "<div>\n",
       "<style scoped>\n",
       "    .dataframe tbody tr th:only-of-type {\n",
       "        vertical-align: middle;\n",
       "    }\n",
       "\n",
       "    .dataframe tbody tr th {\n",
       "        vertical-align: top;\n",
       "    }\n",
       "\n",
       "    .dataframe thead th {\n",
       "        text-align: right;\n",
       "    }\n",
       "</style>\n",
       "<table border=\"1\" class=\"dataframe\">\n",
       "  <thead>\n",
       "    <tr style=\"text-align: right;\">\n",
       "      <th></th>\n",
       "      <th>0</th>\n",
       "      <th>1</th>\n",
       "      <th>2</th>\n",
       "    </tr>\n",
       "  </thead>\n",
       "  <tbody>\n",
       "    <tr>\n",
       "      <th>resort_대명</th>\n",
       "      <td>-0.478198</td>\n",
       "      <td>-0.732122</td>\n",
       "      <td>1.377278</td>\n",
       "    </tr>\n",
       "    <tr>\n",
       "      <th>resort_리솜</th>\n",
       "      <td>1.340944</td>\n",
       "      <td>-0.427030</td>\n",
       "      <td>-0.030006</td>\n",
       "    </tr>\n",
       "    <tr>\n",
       "      <th>resort_무주</th>\n",
       "      <td>0.192214</td>\n",
       "      <td>1.728775</td>\n",
       "      <td>0.150858</td>\n",
       "    </tr>\n",
       "    <tr>\n",
       "      <th>resort_용평</th>\n",
       "      <td>-0.978080</td>\n",
       "      <td>-0.366669</td>\n",
       "      <td>-1.108328</td>\n",
       "    </tr>\n",
       "    <tr>\n",
       "      <th>resort_한화</th>\n",
       "      <td>-0.076880</td>\n",
       "      <td>-0.202954</td>\n",
       "      <td>-0.389802</td>\n",
       "    </tr>\n",
       "    <tr>\n",
       "      <th>slope_Slope-H</th>\n",
       "      <td>0.404687</td>\n",
       "      <td>-0.382117</td>\n",
       "      <td>-0.392176</td>\n",
       "    </tr>\n",
       "    <tr>\n",
       "      <th>slope_Slope-L</th>\n",
       "      <td>0.086027</td>\n",
       "      <td>0.427853</td>\n",
       "      <td>0.872552</td>\n",
       "    </tr>\n",
       "    <tr>\n",
       "      <th>slope_Slope-M</th>\n",
       "      <td>-0.561878</td>\n",
       "      <td>-0.080357</td>\n",
       "      <td>-0.602596</td>\n",
       "    </tr>\n",
       "    <tr>\n",
       "      <th>traffic_Traffic-H</th>\n",
       "      <td>-0.597015</td>\n",
       "      <td>-0.824843</td>\n",
       "      <td>0.354284</td>\n",
       "    </tr>\n",
       "    <tr>\n",
       "      <th>traffic_Traffic-L</th>\n",
       "      <td>0.914458</td>\n",
       "      <td>0.511569</td>\n",
       "      <td>-0.406638</td>\n",
       "    </tr>\n",
       "    <tr>\n",
       "      <th>traffic_Traffic-M</th>\n",
       "      <td>-0.297904</td>\n",
       "      <td>0.058322</td>\n",
       "      <td>0.091769</td>\n",
       "    </tr>\n",
       "    <tr>\n",
       "      <th>lodging_Lodging-H</th>\n",
       "      <td>0.614713</td>\n",
       "      <td>-0.865625</td>\n",
       "      <td>0.241113</td>\n",
       "    </tr>\n",
       "    <tr>\n",
       "      <th>lodging_Lodging-L</th>\n",
       "      <td>-0.615669</td>\n",
       "      <td>0.668687</td>\n",
       "      <td>-0.279663</td>\n",
       "    </tr>\n",
       "    <tr>\n",
       "      <th>lodging_Lodging-M</th>\n",
       "      <td>-0.067505</td>\n",
       "      <td>0.260296</td>\n",
       "      <td>0.005334</td>\n",
       "    </tr>\n",
       "    <tr>\n",
       "      <th>etc_Etc-H</th>\n",
       "      <td>1.070717</td>\n",
       "      <td>-0.049837</td>\n",
       "      <td>-0.335408</td>\n",
       "    </tr>\n",
       "    <tr>\n",
       "      <th>etc_Etc-L</th>\n",
       "      <td>-0.553935</td>\n",
       "      <td>-0.265351</td>\n",
       "      <td>-0.512596</td>\n",
       "    </tr>\n",
       "    <tr>\n",
       "      <th>etc_Etc-M</th>\n",
       "      <td>-0.318144</td>\n",
       "      <td>0.222761</td>\n",
       "      <td>0.589745</td>\n",
       "    </tr>\n",
       "  </tbody>\n",
       "</table>\n",
       "</div>"
      ],
      "text/plain": [
       "                          0         1         2\n",
       "resort_대명         -0.478198 -0.732122  1.377278\n",
       "resort_리솜          1.340944 -0.427030 -0.030006\n",
       "resort_무주          0.192214  1.728775  0.150858\n",
       "resort_용평         -0.978080 -0.366669 -1.108328\n",
       "resort_한화         -0.076880 -0.202954 -0.389802\n",
       "slope_Slope-H      0.404687 -0.382117 -0.392176\n",
       "slope_Slope-L      0.086027  0.427853  0.872552\n",
       "slope_Slope-M     -0.561878 -0.080357 -0.602596\n",
       "traffic_Traffic-H -0.597015 -0.824843  0.354284\n",
       "traffic_Traffic-L  0.914458  0.511569 -0.406638\n",
       "traffic_Traffic-M -0.297904  0.058322  0.091769\n",
       "lodging_Lodging-H  0.614713 -0.865625  0.241113\n",
       "lodging_Lodging-L -0.615669  0.668687 -0.279663\n",
       "lodging_Lodging-M -0.067505  0.260296  0.005334\n",
       "etc_Etc-H          1.070717 -0.049837 -0.335408\n",
       "etc_Etc-L         -0.553935 -0.265351 -0.512596\n",
       "etc_Etc-M         -0.318144  0.222761  0.589745"
      ]
     },
     "metadata": {},
     "output_type": "display_data"
    }
   ],
   "source": [
    "# + 변수별 차원좌표는 아래와 같이 출력할 수 있다.\n",
    "# display(mca.column_coordinates(X))"
   ]
  },
  {
   "cell_type": "code",
   "execution_count": null,
   "id": "6758b506",
   "metadata": {},
   "outputs": [],
   "source": []
  }
 ],
 "metadata": {
  "kernelspec": {
   "display_name": "Python 3 (ipykernel)",
   "language": "python",
   "name": "python3"
  },
  "language_info": {
   "codemirror_mode": {
    "name": "ipython",
    "version": 3
   },
   "file_extension": ".py",
   "mimetype": "text/x-python",
   "name": "python",
   "nbconvert_exporter": "python",
   "pygments_lexer": "ipython3",
   "version": "3.9.7"
  }
 },
 "nbformat": 4,
 "nbformat_minor": 5
}
