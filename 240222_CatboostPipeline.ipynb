{
 "cells": [
  {
   "cell_type": "markdown",
   "metadata": {},
   "source": [
    "## Import"
   ]
  },
  {
   "cell_type": "code",
   "execution_count": 1,
   "metadata": {},
   "outputs": [],
   "source": [
    "import pandas as pd\n",
    "import numpy as np ; np.random.seed(2024)\n",
    "import matplotlib.pyplot as plt\n",
    "import seaborn as sns\n",
    "plt.rc('font', family='Malgun Gothic')\n",
    "plt.rc('axes', unicode_minus=False)\n",
    "\n",
    "from sklearn.preprocessing import MinMaxScaler\n",
    "from catboost import CatBoostRegressor\n",
    "from sklearn.model_selection import train_test_split\n",
    "from sklearn.model_selection import KFold\n",
    "from sklearn.metrics import mean_squared_error"
   ]
  },
  {
   "cell_type": "markdown",
   "metadata": {},
   "source": [
    "## Read data"
   ]
  },
  {
   "cell_type": "code",
   "execution_count": 2,
   "metadata": {},
   "outputs": [
    {
     "name": "stdout",
     "output_type": "stream",
     "text": [
      "학습데이터 수: (252289, 19)\n",
      "평가데이터 수: (79786, 18)\n"
     ]
    }
   ],
   "source": [
    "train = pd.read_csv('data/train.csv')\n",
    "test = pd.read_csv('data/test.csv')\n",
    "print('학습데이터 수:', train.shape)\n",
    "print('평가데이터 수:', test.shape)"
   ]
  },
  {
   "cell_type": "code",
   "execution_count": 3,
   "metadata": {},
   "outputs": [
    {
     "data": {
      "text/html": [
       "<div>\n",
       "<style scoped>\n",
       "    .dataframe tbody tr th:only-of-type {\n",
       "        vertical-align: middle;\n",
       "    }\n",
       "\n",
       "    .dataframe tbody tr th {\n",
       "        vertical-align: top;\n",
       "    }\n",
       "\n",
       "    .dataframe thead th {\n",
       "        text-align: right;\n",
       "    }\n",
       "</style>\n",
       "<table border=\"1\" class=\"dataframe\">\n",
       "  <thead>\n",
       "    <tr style=\"text-align: right;\">\n",
       "      <th></th>\n",
       "      <th>sessionID</th>\n",
       "      <th>userID</th>\n",
       "      <th>TARGET</th>\n",
       "      <th>browser</th>\n",
       "      <th>OS</th>\n",
       "      <th>device</th>\n",
       "      <th>new</th>\n",
       "      <th>quality</th>\n",
       "      <th>duration</th>\n",
       "      <th>bounced</th>\n",
       "      <th>transaction</th>\n",
       "      <th>transaction_revenue</th>\n",
       "      <th>continent</th>\n",
       "      <th>subcontinent</th>\n",
       "      <th>country</th>\n",
       "      <th>traffic_source</th>\n",
       "      <th>traffic_medium</th>\n",
       "      <th>keyword</th>\n",
       "      <th>referral_path</th>\n",
       "    </tr>\n",
       "  </thead>\n",
       "  <tbody>\n",
       "    <tr>\n",
       "      <th>0</th>\n",
       "      <td>SESSION_000000</td>\n",
       "      <td>USER_000000</td>\n",
       "      <td>17.0</td>\n",
       "      <td>Chrome</td>\n",
       "      <td>Macintosh</td>\n",
       "      <td>desktop</td>\n",
       "      <td>0</td>\n",
       "      <td>45.0</td>\n",
       "      <td>839.0</td>\n",
       "      <td>0</td>\n",
       "      <td>0.0</td>\n",
       "      <td>0.0</td>\n",
       "      <td>Americas</td>\n",
       "      <td>Northern America</td>\n",
       "      <td>United States</td>\n",
       "      <td>google</td>\n",
       "      <td>organic</td>\n",
       "      <td>Category8</td>\n",
       "      <td>NaN</td>\n",
       "    </tr>\n",
       "    <tr>\n",
       "      <th>1</th>\n",
       "      <td>SESSION_000001</td>\n",
       "      <td>USER_000001</td>\n",
       "      <td>3.0</td>\n",
       "      <td>Chrome</td>\n",
       "      <td>Windows</td>\n",
       "      <td>desktop</td>\n",
       "      <td>1</td>\n",
       "      <td>1.0</td>\n",
       "      <td>39.0</td>\n",
       "      <td>0</td>\n",
       "      <td>0.0</td>\n",
       "      <td>0.0</td>\n",
       "      <td>Europe</td>\n",
       "      <td>Western Europe</td>\n",
       "      <td>Germany</td>\n",
       "      <td>google</td>\n",
       "      <td>organic</td>\n",
       "      <td>Category8</td>\n",
       "      <td>NaN</td>\n",
       "    </tr>\n",
       "    <tr>\n",
       "      <th>2</th>\n",
       "      <td>SESSION_000002</td>\n",
       "      <td>USER_000002</td>\n",
       "      <td>1.0</td>\n",
       "      <td>Samsung Internet</td>\n",
       "      <td>Android</td>\n",
       "      <td>mobile</td>\n",
       "      <td>1</td>\n",
       "      <td>1.0</td>\n",
       "      <td>0.0</td>\n",
       "      <td>1</td>\n",
       "      <td>0.0</td>\n",
       "      <td>0.0</td>\n",
       "      <td>Asia</td>\n",
       "      <td>Southeast Asia</td>\n",
       "      <td>Malaysia</td>\n",
       "      <td>(direct)</td>\n",
       "      <td>(none)</td>\n",
       "      <td>NaN</td>\n",
       "      <td>NaN</td>\n",
       "    </tr>\n",
       "    <tr>\n",
       "      <th>3</th>\n",
       "      <td>SESSION_000003</td>\n",
       "      <td>USER_000003</td>\n",
       "      <td>1.0</td>\n",
       "      <td>Chrome</td>\n",
       "      <td>Macintosh</td>\n",
       "      <td>desktop</td>\n",
       "      <td>1</td>\n",
       "      <td>1.0</td>\n",
       "      <td>0.0</td>\n",
       "      <td>1</td>\n",
       "      <td>0.0</td>\n",
       "      <td>0.0</td>\n",
       "      <td>Americas</td>\n",
       "      <td>Northern America</td>\n",
       "      <td>United States</td>\n",
       "      <td>Partners</td>\n",
       "      <td>affiliate</td>\n",
       "      <td>NaN</td>\n",
       "      <td>NaN</td>\n",
       "    </tr>\n",
       "    <tr>\n",
       "      <th>4</th>\n",
       "      <td>SESSION_000004</td>\n",
       "      <td>USER_000004</td>\n",
       "      <td>1.0</td>\n",
       "      <td>Chrome</td>\n",
       "      <td>iOS</td>\n",
       "      <td>mobile</td>\n",
       "      <td>0</td>\n",
       "      <td>1.0</td>\n",
       "      <td>0.0</td>\n",
       "      <td>1</td>\n",
       "      <td>0.0</td>\n",
       "      <td>0.0</td>\n",
       "      <td>Americas</td>\n",
       "      <td>Northern America</td>\n",
       "      <td>United States</td>\n",
       "      <td>groups.google.com</td>\n",
       "      <td>referral</td>\n",
       "      <td>NaN</td>\n",
       "      <td>Category6_Path_0000</td>\n",
       "    </tr>\n",
       "  </tbody>\n",
       "</table>\n",
       "</div>"
      ],
      "text/plain": [
       "        sessionID       userID  TARGET           browser         OS   device  \\\n",
       "0  SESSION_000000  USER_000000    17.0            Chrome  Macintosh  desktop   \n",
       "1  SESSION_000001  USER_000001     3.0            Chrome    Windows  desktop   \n",
       "2  SESSION_000002  USER_000002     1.0  Samsung Internet    Android   mobile   \n",
       "3  SESSION_000003  USER_000003     1.0            Chrome  Macintosh  desktop   \n",
       "4  SESSION_000004  USER_000004     1.0            Chrome        iOS   mobile   \n",
       "\n",
       "   new  quality  duration  bounced  transaction  transaction_revenue  \\\n",
       "0    0     45.0     839.0        0          0.0                  0.0   \n",
       "1    1      1.0      39.0        0          0.0                  0.0   \n",
       "2    1      1.0       0.0        1          0.0                  0.0   \n",
       "3    1      1.0       0.0        1          0.0                  0.0   \n",
       "4    0      1.0       0.0        1          0.0                  0.0   \n",
       "\n",
       "  continent      subcontinent        country     traffic_source  \\\n",
       "0  Americas  Northern America  United States             google   \n",
       "1    Europe    Western Europe        Germany             google   \n",
       "2      Asia    Southeast Asia       Malaysia           (direct)   \n",
       "3  Americas  Northern America  United States           Partners   \n",
       "4  Americas  Northern America  United States  groups.google.com   \n",
       "\n",
       "  traffic_medium    keyword        referral_path  \n",
       "0        organic  Category8                  NaN  \n",
       "1        organic  Category8                  NaN  \n",
       "2         (none)        NaN                  NaN  \n",
       "3      affiliate        NaN                  NaN  \n",
       "4       referral        NaN  Category6_Path_0000  "
      ]
     },
     "metadata": {},
     "output_type": "display_data"
    }
   ],
   "source": [
    "'''\n",
    "데이터 설명\n",
    "- sessionID : 세션 ID\n",
    "- userID : 사용자 ID\n",
    "- TARGET : 세션에서 발생한 총 조회수\n",
    "- browser : 사용된 브라우저\n",
    "- OS : 사용된 기기의 운영체제\n",
    "- device : 사용된 기기\n",
    "- new : 첫 방문 여부 (0: 첫 방문 아님, 1: 첫 방문)\n",
    "- quality : 세션의 질 (거래 성사를 기준으로 측정된 값, 범위: 1~100)\n",
    "- duration : 총 세션 시간 (단위: 초)\n",
    "- bounced : 이탈 여부 (0: 이탈하지 않음, 1: 이탈함)\n",
    "- transaction : 세션 내에서 발생의 거래의 수\n",
    "- transaction_revenue : 총 거래 수익\n",
    "- continent : 세션이 발생한 대륙\n",
    "- subcontinent : 세션이 발생한 하위 대륙\n",
    "- country : 세션이 발생한 국가\n",
    "- traffic_source : 트래픽이 발생한 소스\n",
    "- traffic_medium : 트래픽 소스의 매체\n",
    "- keyword : 트래픽 소스의 키워드, 일반적으로 traffic_medium이 organic, cpc인 경우에 설정\n",
    "- referral_path : traffic_medium이 referral인 경우 설정되는 경로\n",
    "'''\n",
    "display(train.head())"
   ]
  },
  {
   "cell_type": "markdown",
   "metadata": {},
   "source": [
    "## <font color='forestgreen'>Data Cleansing\n",
    "\n",
    "### 결측치\n",
    "  - keyword, referral_path에는 traffic_medium값에 따른 결측치가 존재한다.\n",
    "  - traffic_medium 외 OS, continent, subcontinent, country에도 (not set)으로 결측치가 존재한다."
   ]
  },
  {
   "cell_type": "code",
   "execution_count": 4,
   "metadata": {},
   "outputs": [
    {
     "data": {
      "text/plain": [
       "sessionID                   0\n",
       "userID                      0\n",
       "TARGET                      0\n",
       "browser                     0\n",
       "OS                          0\n",
       "device                      0\n",
       "new                         0\n",
       "quality                     0\n",
       "duration                    0\n",
       "bounced                     0\n",
       "transaction                 0\n",
       "transaction_revenue         0\n",
       "continent                   0\n",
       "subcontinent                0\n",
       "country                     0\n",
       "traffic_source              0\n",
       "traffic_medium              0\n",
       "keyword                137675\n",
       "referral_path          161107\n",
       "dtype: int64"
      ]
     },
     "execution_count": 4,
     "metadata": {},
     "output_type": "execute_result"
    }
   ],
   "source": [
    "train.isna().sum()"
   ]
  },
  {
   "cell_type": "code",
   "execution_count": 5,
   "metadata": {},
   "outputs": [
    {
     "data": {
      "text/plain": [
       "organic      107370\n",
       "referral      70047\n",
       "(none)        59022\n",
       "cpc            9978\n",
       "affiliate      5365\n",
       "cpm             501\n",
       "(not set)         6\n",
       "Name: traffic_medium, dtype: int64"
      ]
     },
     "execution_count": 5,
     "metadata": {},
     "output_type": "execute_result"
    }
   ],
   "source": [
    "# keyword, referral_path의 값을 결정하는 traffic_medium의 빈도를 살펴보니 결측치로 판단할 수 있는 (none), (not set)이 있다.\n",
    "train.traffic_medium.value_counts()"
   ]
  },
  {
   "cell_type": "code",
   "execution_count": 6,
   "metadata": {},
   "outputs": [
    {
     "name": "stdout",
     "output_type": "stream",
     "text": [
      "(none)의 트래픽 소스: ['(direct)']\n",
      "(not set)의 트래픽 소스: ['Partners' 'google']\n"
     ]
    }
   ],
   "source": [
    "# (none)은 직접 트래픽이라 트래픽 매체가 없는 것이고 (not set)은 결측치로 봐야한다.\n",
    "print('(none)의 트래픽 소스:', train.query('traffic_medium == \"(none)\"').traffic_source.unique())\n",
    "print('(not set)의 트래픽 소스:', train.query('traffic_medium == \"(not set)\"').traffic_source.unique())"
   ]
  },
  {
   "cell_type": "code",
   "execution_count": 7,
   "metadata": {},
   "outputs": [
    {
     "data": {
      "text/plain": [
       "sessionID                 0\n",
       "userID                    0\n",
       "TARGET                    0\n",
       "browser                   0\n",
       "OS                     2592\n",
       "device                    0\n",
       "new                       0\n",
       "quality                   0\n",
       "duration                  0\n",
       "bounced                   0\n",
       "transaction               0\n",
       "transaction_revenue       0\n",
       "continent               336\n",
       "subcontinent            336\n",
       "country                 336\n",
       "traffic_source            0\n",
       "traffic_medium            6\n",
       "keyword                   0\n",
       "referral_path             0\n",
       "dtype: int64"
      ]
     },
     "execution_count": 7,
     "metadata": {},
     "output_type": "execute_result"
    }
   ],
   "source": [
    "# (not set)으로 결측치가 표현된 다른 변수가 있는지 확인한 결과 OS, continent, subcontinent, country에서도 나타난다.\n",
    "# 대체할 값이 없음으로 그대로 둔다.\n",
    "train.applymap(lambda x: x==\"(not set)\").sum()"
   ]
  },
  {
   "cell_type": "code",
   "execution_count": 8,
   "metadata": {},
   "outputs": [],
   "source": [
    "# traffic_medium 중 광고로 접속한 cpc, cpm은 ad(광고)로 변경한다.\n",
    "train['traffic_medium'] = train['traffic_medium'].replace('cpc','ad').replace('cpm','ad')\n",
    "test['traffic_medium'] = test['traffic_medium'].replace('cpc','ad').replace('cpm','ad')\n",
    "\n",
    "# (not set)은 결측치로 학습데이터 내 트래픽 소스의 최빈값으로 채운다.\n",
    "mode = train.groupby('traffic_source')['traffic_medium'].agg(lambda x: x.mode()[0])\n",
    "ease = train.query('traffic_medium == \"(not set)\"')['traffic_source'].map(mode)\n",
    "train.loc[ease.index, 'traffic_medium'] = ease.values\n",
    "\n",
    "ease = test.query('traffic_medium == \"(not set)\"')['traffic_source'].map(mode)\n",
    "test.loc[ease.index, 'traffic_medium'] = ease.values"
   ]
  },
  {
   "cell_type": "markdown",
   "metadata": {},
   "source": [
    "### 이상치"
   ]
  },
  {
   "cell_type": "code",
   "execution_count": null,
   "metadata": {},
   "outputs": [],
   "source": [
    "# 주요 변수들간 pairplot을 그려본다.\n",
    "plt.figure(figsize=(20,20))\n",
    "sns.pairplot(train[['TARGET','new','quality','duration','bounced','transaction','transaction_revenue']], color='forestgreen')\n",
    "plt.show()"
   ]
  },
  {
   "cell_type": "code",
   "execution_count": null,
   "metadata": {},
   "outputs": [],
   "source": [
    "# 위의 pairplot을 통해 bounced가 1이면 TARGET은 1, duration, transaction, transaction_revenue은 0임을 알아냈다.\n",
    "# bounced를 Target Encoding하여 Feature Importance가 높게 한다.\n",
    "train.query('bounced==1')[['TARGET','duration','transaction','transaction_revenue']].drop_duplicates()"
   ]
  },
  {
   "cell_type": "code",
   "execution_count": 9,
   "metadata": {
    "scrolled": false
   },
   "outputs": [
    {
     "name": "stdout",
     "output_type": "stream",
     "text": [
      "학습데이터 크기: (252287, 19)\n"
     ]
    }
   ],
   "source": [
    "# transaction의 최댓값, TARGET의 최댓값은 이상치로 보인다.\n",
    "outlier = [train.transaction.sort_values().index[-1], train.TARGET.sort_values().index[-1]]\n",
    "train.drop(outlier, inplace=True)\n",
    "print('학습데이터 크기:', train.shape)"
   ]
  },
  {
   "cell_type": "code",
   "execution_count": 10,
   "metadata": {},
   "outputs": [
    {
     "name": "stdout",
     "output_type": "stream",
     "text": [
      "index          0.000000\n",
      "transaction    0.991252\n",
      "Name: 0, dtype: float64\n",
      "index                  0.000000\n",
      "transaction_revenue    0.991276\n",
      "Name: 0, dtype: float64\n"
     ]
    }
   ],
   "source": [
    "# transaction, transaction_revenue 모두 0의 비율이 커 중요 변수로 작용하지 않을 것이다.\n",
    "print(train.transaction.value_counts(normalize=True).reset_index().iloc[0])\n",
    "print(train.transaction_revenue.value_counts(normalize=True).reset_index().iloc[0])"
   ]
  },
  {
   "cell_type": "markdown",
   "metadata": {},
   "source": [
    "### 변수 정리"
   ]
  },
  {
   "cell_type": "code",
   "execution_count": 11,
   "metadata": {},
   "outputs": [],
   "source": [
    "# 불필요한 변수는 제거한다.\n",
    "train.drop(['transaction', 'transaction_revenue','keyword','referral_path'], axis=1, inplace=True)\n",
    "test.drop(['transaction', 'transaction_revenue','keyword','referral_path'], axis=1, inplace=True)"
   ]
  },
  {
   "cell_type": "markdown",
   "metadata": {},
   "source": [
    "## <font color='forestgreen'> Feature Engineering"
   ]
  },
  {
   "cell_type": "markdown",
   "metadata": {},
   "source": [
    "### Feature Generation"
   ]
  },
  {
   "cell_type": "code",
   "execution_count": 12,
   "metadata": {},
   "outputs": [],
   "source": [
    "train['QD'] = train['quality'] / (train['duration']+1)\n",
    "test['QD'] = test['quality'] / (test['duration']+1)"
   ]
  },
  {
   "cell_type": "markdown",
   "metadata": {},
   "source": [
    "### Encoding"
   ]
  },
  {
   "cell_type": "code",
   "execution_count": 13,
   "metadata": {},
   "outputs": [],
   "source": [
    "# 학습데이터에 한하여 Target encoding 한다.\n",
    "category = ['device', 'bounced', 'traffic_source', 'traffic_medium']\n",
    "                        \n",
    "for i in category:\n",
    "    rate = train.groupby(i)['TARGET'].mean()\n",
    "    train[i] = train[i].map(rate)\n",
    "    test[i] = test[i].map(rate)\n",
    "    test[i].fillna(train[i].mean(), inplace=True)"
   ]
  },
  {
   "cell_type": "markdown",
   "metadata": {},
   "source": [
    "### Feature Transformation"
   ]
  },
  {
   "cell_type": "code",
   "execution_count": 14,
   "metadata": {},
   "outputs": [],
   "source": [
    "numeric = ['quality', 'duration', 'QD']\n",
    "\n",
    "scaler = MinMaxScaler()\n",
    "train[numeric] = scaler.fit_transform(train[numeric])\n",
    "test[numeric] = scaler.transform(test[numeric])"
   ]
  },
  {
   "cell_type": "markdown",
   "metadata": {},
   "source": [
    "### Feature Selection"
   ]
  },
  {
   "cell_type": "code",
   "execution_count": 15,
   "metadata": {},
   "outputs": [],
   "source": [
    "# ID열을 제거한다.\n",
    "train.drop(['sessionID'], axis=1, inplace=True)\n",
    "test.drop(['sessionID'], axis=1, inplace=True)"
   ]
  },
  {
   "cell_type": "code",
   "execution_count": 16,
   "metadata": {},
   "outputs": [],
   "source": [
    "unuse = ['continent','userID']\n",
    "\n",
    "X_train, y_train = train.drop(['TARGET']+unuse, axis=1), train['TARGET'].astype('i')\n",
    "X_test = test.drop(unuse, axis=1)"
   ]
  },
  {
   "cell_type": "code",
   "execution_count": 17,
   "metadata": {},
   "outputs": [
    {
     "name": "stdout",
     "output_type": "stream",
     "text": [
      "RMSE: 2.5541527510018285\n"
     ]
    }
   ],
   "source": [
    "tr_x, val_x, tr_y, val_y = train_test_split(X_train, y_train, test_size=0.3, random_state=2024)\n",
    "\n",
    "model = CatBoostRegressor(iterations=500, cat_features = ['new', 'browser', 'OS', 'subcontinent', 'country'], \n",
    "                          objective='Poisson', eval_metric='RMSE',\n",
    "                          random_state=2024, verbose=False)\n",
    "model.fit(tr_x, tr_y)\n",
    "print('RMSE:', mean_squared_error(model.predict(val_x).round(), val_y)**0.5)"
   ]
  },
  {
   "cell_type": "code",
   "execution_count": 18,
   "metadata": {},
   "outputs": [
    {
     "data": {
      "text/html": [
       "<div>\n",
       "<style scoped>\n",
       "    .dataframe tbody tr th:only-of-type {\n",
       "        vertical-align: middle;\n",
       "    }\n",
       "\n",
       "    .dataframe tbody tr th {\n",
       "        vertical-align: top;\n",
       "    }\n",
       "\n",
       "    .dataframe thead th {\n",
       "        text-align: right;\n",
       "    }\n",
       "</style>\n",
       "<table border=\"1\" class=\"dataframe\">\n",
       "  <thead>\n",
       "    <tr style=\"text-align: right;\">\n",
       "      <th></th>\n",
       "      <th>feature</th>\n",
       "      <th>importance</th>\n",
       "    </tr>\n",
       "  </thead>\n",
       "  <tbody>\n",
       "    <tr>\n",
       "      <th>0</th>\n",
       "      <td>browser</td>\n",
       "      <td>0.370996</td>\n",
       "    </tr>\n",
       "    <tr>\n",
       "      <th>1</th>\n",
       "      <td>OS</td>\n",
       "      <td>0.896690</td>\n",
       "    </tr>\n",
       "    <tr>\n",
       "      <th>2</th>\n",
       "      <td>device</td>\n",
       "      <td>0.352018</td>\n",
       "    </tr>\n",
       "    <tr>\n",
       "      <th>3</th>\n",
       "      <td>new</td>\n",
       "      <td>1.318314</td>\n",
       "    </tr>\n",
       "    <tr>\n",
       "      <th>4</th>\n",
       "      <td>quality</td>\n",
       "      <td>17.468105</td>\n",
       "    </tr>\n",
       "    <tr>\n",
       "      <th>5</th>\n",
       "      <td>duration</td>\n",
       "      <td>31.645027</td>\n",
       "    </tr>\n",
       "    <tr>\n",
       "      <th>6</th>\n",
       "      <td>bounced</td>\n",
       "      <td>16.410333</td>\n",
       "    </tr>\n",
       "    <tr>\n",
       "      <th>7</th>\n",
       "      <td>subcontinent</td>\n",
       "      <td>3.873980</td>\n",
       "    </tr>\n",
       "    <tr>\n",
       "      <th>8</th>\n",
       "      <td>country</td>\n",
       "      <td>0.195444</td>\n",
       "    </tr>\n",
       "    <tr>\n",
       "      <th>9</th>\n",
       "      <td>traffic_source</td>\n",
       "      <td>1.095234</td>\n",
       "    </tr>\n",
       "    <tr>\n",
       "      <th>10</th>\n",
       "      <td>traffic_medium</td>\n",
       "      <td>0.493638</td>\n",
       "    </tr>\n",
       "    <tr>\n",
       "      <th>11</th>\n",
       "      <td>QD</td>\n",
       "      <td>25.880221</td>\n",
       "    </tr>\n",
       "  </tbody>\n",
       "</table>\n",
       "</div>"
      ],
      "text/plain": [
       "           feature  importance\n",
       "0          browser    0.370996\n",
       "1               OS    0.896690\n",
       "2           device    0.352018\n",
       "3              new    1.318314\n",
       "4          quality   17.468105\n",
       "5         duration   31.645027\n",
       "6          bounced   16.410333\n",
       "7     subcontinent    3.873980\n",
       "8          country    0.195444\n",
       "9   traffic_source    1.095234\n",
       "10  traffic_medium    0.493638\n",
       "11              QD   25.880221"
      ]
     },
     "execution_count": 18,
     "metadata": {},
     "output_type": "execute_result"
    }
   ],
   "source": [
    "# Catboost를 base로 삼고 importance가 낮은 feature는 제거한다.\n",
    "importance = pd.DataFrame({'feature': model.feature_names_,\n",
    "                           'importance':model.feature_importances_})\n",
    "importance"
   ]
  },
  {
   "cell_type": "markdown",
   "metadata": {},
   "source": [
    "## <font color='forestgreen'> HyperParameter Tunning"
   ]
  },
  {
   "cell_type": "code",
   "execution_count": null,
   "metadata": {},
   "outputs": [],
   "source": []
  },
  {
   "cell_type": "markdown",
   "metadata": {},
   "source": [
    "## <font color='forestgreen'> Save data"
   ]
  },
  {
   "cell_type": "code",
   "execution_count": 19,
   "metadata": {},
   "outputs": [],
   "source": [
    "sample = pd.read_csv('data/submission/sample_submission.csv')\n",
    "sample['TARGET'] = model.predict(X_test).round()"
   ]
  },
  {
   "cell_type": "code",
   "execution_count": 20,
   "metadata": {},
   "outputs": [
    {
     "name": "stdout",
     "output_type": "stream",
     "text": [
      "./data/submission/20240222_1739 is saved.\n"
     ]
    }
   ],
   "source": [
    "date = str(pd.Timestamp.now())[:16].replace('-','').replace(' ','_').replace(':','')\n",
    "filename = f'./data/submission/{date}'\n",
    "sample.to_csv(f'{filename}.csv', index=False)\n",
    "print(f'{filename} is saved.')"
   ]
  },
  {
   "cell_type": "code",
   "execution_count": null,
   "metadata": {},
   "outputs": [],
   "source": []
  }
 ],
 "metadata": {
  "kernelspec": {
   "display_name": "Python 3 (ipykernel)",
   "language": "python",
   "name": "python3"
  },
  "language_info": {
   "codemirror_mode": {
    "name": "ipython",
    "version": 3
   },
   "file_extension": ".py",
   "mimetype": "text/x-python",
   "name": "python",
   "nbconvert_exporter": "python",
   "pygments_lexer": "ipython3",
   "version": "3.9.12"
  }
 },
 "nbformat": 4,
 "nbformat_minor": 2
}
