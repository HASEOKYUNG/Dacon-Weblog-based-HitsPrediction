{
 "cells": [
  {
   "cell_type": "markdown",
   "metadata": {},
   "source": [
    "## Import"
   ]
  },
  {
   "cell_type": "code",
   "execution_count": 1,
   "metadata": {},
   "outputs": [],
   "source": [
    "import pandas as pd\n",
    "import numpy as np\n",
    "import matplotlib.pyplot as plt\n",
    "import seaborn as sns\n",
    "plt.rc('font', family='Malgun Gothic')\n",
    "plt.rc('axes', unicode_minus=False)\n",
    "import warnings;warnings.filterwarnings(action='ignore')"
   ]
  },
  {
   "cell_type": "markdown",
   "metadata": {},
   "source": [
    "## Read data"
   ]
  },
  {
   "cell_type": "code",
   "execution_count": 2,
   "metadata": {},
   "outputs": [],
   "source": [
    "X_train = pd.read_csv('../data/train.csv')\n",
    "y_train = X_train['TARGET'] ; X_train.drop(['TARGET'], axis=1, inplace=True)\n",
    "X_test = pd.read_csv('../data/test.csv')"
   ]
  },
  {
   "cell_type": "code",
   "execution_count": 3,
   "metadata": {},
   "outputs": [
    {
     "name": "stdout",
     "output_type": "stream",
     "text": [
      "학습데이터 수: (252289, 18)\n",
      "평가데이터 수: (79786, 18)\n"
     ]
    }
   ],
   "source": [
    "print('학습데이터 수:', X_train.shape)\n",
    "print('평가데이터 수:', X_test.shape)"
   ]
  },
  {
   "cell_type": "code",
   "execution_count": 4,
   "metadata": {},
   "outputs": [
    {
     "data": {
      "text/html": [
       "<div>\n",
       "<style scoped>\n",
       "    .dataframe tbody tr th:only-of-type {\n",
       "        vertical-align: middle;\n",
       "    }\n",
       "\n",
       "    .dataframe tbody tr th {\n",
       "        vertical-align: top;\n",
       "    }\n",
       "\n",
       "    .dataframe thead th {\n",
       "        text-align: right;\n",
       "    }\n",
       "</style>\n",
       "<table border=\"1\" class=\"dataframe\">\n",
       "  <thead>\n",
       "    <tr style=\"text-align: right;\">\n",
       "      <th></th>\n",
       "      <th>sessionID</th>\n",
       "      <th>userID</th>\n",
       "      <th>browser</th>\n",
       "      <th>OS</th>\n",
       "      <th>device</th>\n",
       "      <th>new</th>\n",
       "      <th>quality</th>\n",
       "      <th>duration</th>\n",
       "      <th>bounced</th>\n",
       "      <th>transaction</th>\n",
       "      <th>transaction_revenue</th>\n",
       "      <th>continent</th>\n",
       "      <th>subcontinent</th>\n",
       "      <th>country</th>\n",
       "      <th>traffic_source</th>\n",
       "      <th>traffic_medium</th>\n",
       "      <th>keyword</th>\n",
       "      <th>referral_path</th>\n",
       "    </tr>\n",
       "  </thead>\n",
       "  <tbody>\n",
       "    <tr>\n",
       "      <th>0</th>\n",
       "      <td>SESSION_000000</td>\n",
       "      <td>USER_000000</td>\n",
       "      <td>Chrome</td>\n",
       "      <td>Macintosh</td>\n",
       "      <td>desktop</td>\n",
       "      <td>0</td>\n",
       "      <td>45.0</td>\n",
       "      <td>839.0</td>\n",
       "      <td>0</td>\n",
       "      <td>0.0</td>\n",
       "      <td>0.0</td>\n",
       "      <td>Americas</td>\n",
       "      <td>Northern America</td>\n",
       "      <td>United States</td>\n",
       "      <td>google</td>\n",
       "      <td>organic</td>\n",
       "      <td>Category8</td>\n",
       "      <td>NaN</td>\n",
       "    </tr>\n",
       "    <tr>\n",
       "      <th>1</th>\n",
       "      <td>SESSION_000001</td>\n",
       "      <td>USER_000001</td>\n",
       "      <td>Chrome</td>\n",
       "      <td>Windows</td>\n",
       "      <td>desktop</td>\n",
       "      <td>1</td>\n",
       "      <td>1.0</td>\n",
       "      <td>39.0</td>\n",
       "      <td>0</td>\n",
       "      <td>0.0</td>\n",
       "      <td>0.0</td>\n",
       "      <td>Europe</td>\n",
       "      <td>Western Europe</td>\n",
       "      <td>Germany</td>\n",
       "      <td>google</td>\n",
       "      <td>organic</td>\n",
       "      <td>Category8</td>\n",
       "      <td>NaN</td>\n",
       "    </tr>\n",
       "    <tr>\n",
       "      <th>2</th>\n",
       "      <td>SESSION_000002</td>\n",
       "      <td>USER_000002</td>\n",
       "      <td>Samsung Internet</td>\n",
       "      <td>Android</td>\n",
       "      <td>mobile</td>\n",
       "      <td>1</td>\n",
       "      <td>1.0</td>\n",
       "      <td>0.0</td>\n",
       "      <td>1</td>\n",
       "      <td>0.0</td>\n",
       "      <td>0.0</td>\n",
       "      <td>Asia</td>\n",
       "      <td>Southeast Asia</td>\n",
       "      <td>Malaysia</td>\n",
       "      <td>(direct)</td>\n",
       "      <td>(none)</td>\n",
       "      <td>NaN</td>\n",
       "      <td>NaN</td>\n",
       "    </tr>\n",
       "    <tr>\n",
       "      <th>3</th>\n",
       "      <td>SESSION_000003</td>\n",
       "      <td>USER_000003</td>\n",
       "      <td>Chrome</td>\n",
       "      <td>Macintosh</td>\n",
       "      <td>desktop</td>\n",
       "      <td>1</td>\n",
       "      <td>1.0</td>\n",
       "      <td>0.0</td>\n",
       "      <td>1</td>\n",
       "      <td>0.0</td>\n",
       "      <td>0.0</td>\n",
       "      <td>Americas</td>\n",
       "      <td>Northern America</td>\n",
       "      <td>United States</td>\n",
       "      <td>Partners</td>\n",
       "      <td>affiliate</td>\n",
       "      <td>NaN</td>\n",
       "      <td>NaN</td>\n",
       "    </tr>\n",
       "    <tr>\n",
       "      <th>4</th>\n",
       "      <td>SESSION_000004</td>\n",
       "      <td>USER_000004</td>\n",
       "      <td>Chrome</td>\n",
       "      <td>iOS</td>\n",
       "      <td>mobile</td>\n",
       "      <td>0</td>\n",
       "      <td>1.0</td>\n",
       "      <td>0.0</td>\n",
       "      <td>1</td>\n",
       "      <td>0.0</td>\n",
       "      <td>0.0</td>\n",
       "      <td>Americas</td>\n",
       "      <td>Northern America</td>\n",
       "      <td>United States</td>\n",
       "      <td>groups.google.com</td>\n",
       "      <td>referral</td>\n",
       "      <td>NaN</td>\n",
       "      <td>Category6_Path_0000</td>\n",
       "    </tr>\n",
       "  </tbody>\n",
       "</table>\n",
       "</div>"
      ],
      "text/plain": [
       "        sessionID       userID           browser         OS   device  new  \\\n",
       "0  SESSION_000000  USER_000000            Chrome  Macintosh  desktop    0   \n",
       "1  SESSION_000001  USER_000001            Chrome    Windows  desktop    1   \n",
       "2  SESSION_000002  USER_000002  Samsung Internet    Android   mobile    1   \n",
       "3  SESSION_000003  USER_000003            Chrome  Macintosh  desktop    1   \n",
       "4  SESSION_000004  USER_000004            Chrome        iOS   mobile    0   \n",
       "\n",
       "   quality  duration  bounced  transaction  transaction_revenue continent  \\\n",
       "0     45.0     839.0        0          0.0                  0.0  Americas   \n",
       "1      1.0      39.0        0          0.0                  0.0    Europe   \n",
       "2      1.0       0.0        1          0.0                  0.0      Asia   \n",
       "3      1.0       0.0        1          0.0                  0.0  Americas   \n",
       "4      1.0       0.0        1          0.0                  0.0  Americas   \n",
       "\n",
       "       subcontinent        country     traffic_source traffic_medium  \\\n",
       "0  Northern America  United States             google        organic   \n",
       "1    Western Europe        Germany             google        organic   \n",
       "2    Southeast Asia       Malaysia           (direct)         (none)   \n",
       "3  Northern America  United States           Partners      affiliate   \n",
       "4  Northern America  United States  groups.google.com       referral   \n",
       "\n",
       "     keyword        referral_path  \n",
       "0  Category8                  NaN  \n",
       "1  Category8                  NaN  \n",
       "2        NaN                  NaN  \n",
       "3        NaN                  NaN  \n",
       "4        NaN  Category6_Path_0000  "
      ]
     },
     "metadata": {},
     "output_type": "display_data"
    }
   ],
   "source": [
    "'''\n",
    "데이터 설명\n",
    "- sessionID : 세션 ID\n",
    "- userID : 사용자 ID\n",
    "- TARGET : 세션에서 발생한 총 조회수\n",
    "- browser : 사용된 브라우저\n",
    "- OS : 사용된 기기의 운영체제\n",
    "- device : 사용된 기기\n",
    "- new : 첫 방문 여부 (0: 첫 방문 아님, 1: 첫 방문)\n",
    "- quality : 세션의 질 (거래 성사를 기준으로 측정된 값, 범위: 1~100)\n",
    "- duration : 총 세션 시간 (단위: 초)\n",
    "- bounced : 이탈 여부 (0: 이탈하지 않음, 1: 이탈함)\n",
    "- transaction : 세션 내에서 발생의 거래의 수\n",
    "- transaction_revenue : 총 거래 수익\n",
    "- continent : 세션이 발생한 대륙\n",
    "- subcontinent : 세션이 발생한 하위 대륙\n",
    "- country : 세션이 발생한 국가\n",
    "- traffic_source : 트래픽이 발생한 소스\n",
    "- traffic_medium : 트래픽 소스의 매체\n",
    "- keyword : 트래픽 소스의 키워드, 일반적으로 traffic_medium이 organic, cpc인 경우에 설정\n",
    "- referral_path : traffic_medium이 referral인 경우 설정되는 경로\n",
    "'''\n",
    "display(X_train.head())"
   ]
  },
  {
   "cell_type": "markdown",
   "metadata": {},
   "source": [
    "### 결측치"
   ]
  },
  {
   "cell_type": "code",
   "execution_count": 10,
   "metadata": {},
   "outputs": [
    {
     "data": {
      "text/plain": [
       "array(['organic', '(none)', 'affiliate', 'referral', 'cpc', 'cpm',\n",
       "       '(not set)'], dtype=object)"
      ]
     },
     "execution_count": 10,
     "metadata": {},
     "output_type": "execute_result"
    }
   ],
   "source": [
    "X_train.traffic_medium.unique()"
   ]
  },
  {
   "cell_type": "code",
   "execution_count": 13,
   "metadata": {},
   "outputs": [
    {
     "data": {
      "text/plain": [
       "array(['Partners', 'google'], dtype=object)"
      ]
     },
     "execution_count": 13,
     "metadata": {},
     "output_type": "execute_result"
    }
   ],
   "source": [
    "X_train.query('traffic_medium == \"(not set)\"').traffic_source.unique()"
   ]
  },
  {
   "cell_type": "code",
   "execution_count": 5,
   "metadata": {},
   "outputs": [
    {
     "data": {
      "text/plain": [
       "sessionID                   0\n",
       "userID                      0\n",
       "browser                     0\n",
       "OS                          0\n",
       "device                      0\n",
       "new                         0\n",
       "quality                     0\n",
       "duration                    0\n",
       "bounced                     0\n",
       "transaction                 0\n",
       "transaction_revenue         0\n",
       "continent                   0\n",
       "subcontinent                0\n",
       "country                     0\n",
       "traffic_source              0\n",
       "traffic_medium              0\n",
       "keyword                137675\n",
       "referral_path          161107\n",
       "dtype: int64"
      ]
     },
     "execution_count": 5,
     "metadata": {},
     "output_type": "execute_result"
    }
   ],
   "source": [
    "# keyword와 referral_path에 결측치가 있다.\n",
    "X_train.isna().sum()"
   ]
  },
  {
   "cell_type": "code",
   "execution_count": 9,
   "metadata": {},
   "outputs": [
    {
     "data": {
      "text/plain": [
       "array(['google', '(direct)', 'Partners', 'groups.google.com',\n",
       "       'youtube.com', 'google.com', 'bing', 'google.co.jp',\n",
       "       'analytics.google.com', 'baidu', 'quora.com',\n",
       "       'googleads.g.doubleclick.net', 'pinterest.com', 'mail.google.com',\n",
       "       'dealspotr.com', 'qiita.com', 'l.facebook.com', 'reddit.com',\n",
       "       'sites.google.com', 'blog.golang.org', 'support.google.com',\n",
       "       'yahoo', 'dfa', 't.co', 'lunametrics.com', 'docs.google.com',\n",
       "       'adwords.google.com', 's0.2mdn.net', 'm.baidu.com',\n",
       "       'm.facebook.com', 'int.search.tb.ask.com', 'google.com.br',\n",
       "       'google.es', 'arstechnica.com', 'msn.com', 'tw.search.yahoo.com',\n",
       "       'facebook.com', 'google.de', 'hangouts.google.com',\n",
       "       'duckduckgo.com', 'r.search.aol.com', 'my.yahoo.com',\n",
       "       'google.co.za', 'au.search.yahoo.com', 'in.search.yahoo.com',\n",
       "       'outlook.live.com', 'productforums.google.com', 'ask',\n",
       "       'google.co.id', 'google.co.uk', 'myactivity.google.com',\n",
       "       'google.com.ua', 'google.by', 'sashihara.jp', 'm.youtube.com',\n",
       "       'github.com', 'optimize.google.com', 'connect.googleforwork.com',\n",
       "       'ph.search.yahoo.com', 'es.search.yahoo.com', 'google.ru',\n",
       "       'keep.google.com', 'youtube.thinkwithgoogle.com',\n",
       "       'myasucourses.asu.edu', 'google.co.th', 'gophergala.com',\n",
       "       'learn.pct.edu', 'phandroid.com', 'online-metrics.com',\n",
       "       'plus.url.google.com', 'ca.search.yahoo.com', 'evernote.com',\n",
       "       'web.telegram.org', 'search.1and1.com', 'google.nl',\n",
       "       'uk.search.yahoo.com', 'getpocket.com', 'se.search.yahoo.com',\n",
       "       'us.search.yahoo.com', 'lm.facebook.com',\n",
       "       'malaysia.search.yahoo.com', 'bluequill.franklin.edu', 'google.lv',\n",
       "       'feedly.com', 'search.snapdo.com', 'online.fullsail.edu',\n",
       "       'away.vk.com', 'l.messenger.com', 'google.co.nz', 'google.fr',\n",
       "       'so.com', 'google.com.tr', 'kik.com', 'kidrex.org',\n",
       "       'search.tb.ask.com', 'images.google.com', 'mail.yahoo.com',\n",
       "       'google.com.au', 'search.xfinity.com', 'google.com.bd',\n",
       "       'google.be', 'businessinsider.com', 'aulagrado.esic.edu',\n",
       "       'plus.google.com', 'mail1.swic.edu', 'startpage.com',\n",
       "       'learn.colorado.edu', 'web.whatsapp.com',\n",
       "       'lisham-web.blogspot.com', 'google.com.mx', 'nl.search.yahoo.com',\n",
       "       'nl.pinterest.com', 'google.co.in', 'search.mysearch.com',\n",
       "       'de.wow.com', 'google.com.ng', 'google.it', 'google.com.sa',\n",
       "       'google.iq', 'google.com.eg', 'google.co.il', 'google.pl',\n",
       "       'it.search.yahoo.com', 'it.pinterest.com', 'images.google.com.br',\n",
       "       'amp.reddit.com', 'vk.com', 'google.pt', 'cz.pinterest.com',\n",
       "       'google.jo', 'google.ie', 'qc.search.yahoo.com',\n",
       "       'earth.google.com', 'br.search.yahoo.com', 'search.earthlink.net',\n",
       "       'fi.search.yahoo.com', 'google.com.ec', 'web.facebook.com',\n",
       "       'sg.search.yahoo.com', 'linkedin.com', 'ru.pinterest.com',\n",
       "       'ch.search.yahoo.com', 'mail.aol.com', 'google.com.pk',\n",
       "       'cse.google.com', 'wikihow.com', 'go.mail.ru',\n",
       "       'fr-fr.facebook.com', 'ca-mg5.mail.yahoo.com', 'chatwork.com',\n",
       "       'seroundtable.com', 'google.ca', 'results.searchlock.com',\n",
       "       'es.yhs4.search.yahoo.com', 'cl.search.yahoo.com', 'google.com.tw',\n",
       "       'fr.search.yahoo.com', 'google.com.hk', 'business.facebook.com',\n",
       "       'yandex', 'suche.t-online.de', 'goto.google.com',\n",
       "       'mx.search.yahoo.com', 'marketingland.com',\n",
       "       'espanol.search.yahoo.com', 'basecamp.com',\n",
       "       'blackboard.bentley.edu', 'calendar.google.com'], dtype=object)"
      ]
     },
     "execution_count": 9,
     "metadata": {},
     "output_type": "execute_result"
    }
   ],
   "source": [
    "X_train.traffic_source.unique()"
   ]
  },
  {
   "cell_type": "code",
   "execution_count": 6,
   "metadata": {},
   "outputs": [],
   "source": [
    "X_train['keyword'] = X_train['keyword'].str.split('_', expand=True)[0]\n",
    "X_test['keyword'] = X_test['keyword'].str.split('_', expand=True)[0]\n",
    "\n",
    "X_train['keyword'].fillna(X_train['keyword'].mode()[0], inplace=True)\n",
    "X_test['keyword'].fillna(X_test['keyword'].mode()[0], inplace=True)"
   ]
  },
  {
   "cell_type": "code",
   "execution_count": 6,
   "metadata": {},
   "outputs": [],
   "source": [
    "X_train['referral_path'] = X_train['referral_path'].str.split('_', expand=True)[0]\n",
    "X_test['referral_path'] = X_test['referral_path'].str.split('_', expand=True)[0]\n",
    "\n",
    "X_train['referral_path'].fillna(X_train['referral_path'].mode()[0], inplace=True)\n",
    "X_test['referral_path'].fillna(X_test['referral_path'].mode()[0], inplace=True)"
   ]
  },
  {
   "cell_type": "code",
   "execution_count": 7,
   "metadata": {},
   "outputs": [],
   "source": [
    "# 불필요한 열 제거\n",
    "X_train.drop(['keyword'], axis=1, inplace=True)\n",
    "X_test.drop(['keyword'], axis=1, inplace=True)"
   ]
  },
  {
   "cell_type": "code",
   "execution_count": 8,
   "metadata": {},
   "outputs": [],
   "source": [
    "# Category type으로 변경\n",
    "categorical_features = ['browser', 'OS', 'device', 'new', 'bounced', 'continent', 'subcontinent',\n",
    "                        'country', 'traffic_source', 'traffic_medium','referral_path']\n",
    "                        \n",
    "for i in categorical_features:\n",
    "    X_train[i] = X_train[i].astype('category')\n",
    "    X_test[i] = X_test[i].astype('category')"
   ]
  },
  {
   "cell_type": "markdown",
   "metadata": {},
   "source": [
    "### 변수 제거하기"
   ]
  },
  {
   "cell_type": "code",
   "execution_count": null,
   "metadata": {},
   "outputs": [],
   "source": [
    "# ID열 제거하기\n",
    "X_train.drop(['sessionID','userID'], axis=1, inplace=True)\n",
    "X_test.drop(['sessionID','userID'], axis=1, inplace=True)"
   ]
  },
  {
   "cell_type": "markdown",
   "metadata": {},
   "source": [
    "## HyperParameter Tunning"
   ]
  },
  {
   "cell_type": "code",
   "execution_count": 9,
   "metadata": {},
   "outputs": [],
   "source": [
    "model = CatBoostRegressor(cat_features = categorical_features, random_state=2024, verbose=False)"
   ]
  },
  {
   "cell_type": "markdown",
   "metadata": {},
   "source": [
    "## Kfold"
   ]
  },
  {
   "cell_type": "code",
   "execution_count": 10,
   "metadata": {},
   "outputs": [
    {
     "name": "stdout",
     "output_type": "stream",
     "text": [
      "CatBoostRegressor의 10fold 평균 RMSE는 2.7332039875781162\n"
     ]
    }
   ],
   "source": [
    "KF = KFold(n_splits = 3, shuffle = True, random_state = 2024)\n",
    "\n",
    "cat_pred = np.zeros(X_test.shape[0])\n",
    "rmse_list = []\n",
    "for tr_idx, val_idx in KF.split(X_train, y_train):\n",
    "    tr_x, tr_y = X_train.iloc[tr_idx], y_train.iloc[tr_idx]\n",
    "    val_x, val_y = X_train.iloc[val_idx], y_train.iloc[val_idx]\n",
    "    \n",
    "    model.fit(tr_x, tr_y)\n",
    "    pred = model.predict(val_x)\n",
    "    rmse = mean_squared_error(val_y, pred)**0.5\n",
    "    rmse_list.append(rmse)\n",
    "    \n",
    "    sub_pred = np.array(model.predict(X_test)) / 3  # averaging\n",
    "    cat_pred += sub_pred\n",
    "print(f'{model.__class__.__name__}의 10fold 평균 RMSE는 {np.mean(rmse_list)}')"
   ]
  },
  {
   "cell_type": "code",
   "execution_count": 11,
   "metadata": {},
   "outputs": [],
   "source": [
    "# 0보다 작은 값을 0으로 보정한다.\n",
    "cat_pred = [0 if i < 0 else i for i in cat_pred]"
   ]
  },
  {
   "cell_type": "code",
   "execution_count": 12,
   "metadata": {},
   "outputs": [
    {
     "data": {
      "text/plain": [
       "array([ 1.94840673,  3.35521277,  1.29113915,  4.30298655, 41.66174928,\n",
       "       28.25875626,  0.40794133,  0.66779683,  1.82488301,  2.77130112,\n",
       "        6.87719499,  1.21923291,  1.5348814 ,  2.56468709,  1.31383057])"
      ]
     },
     "execution_count": 12,
     "metadata": {},
     "output_type": "execute_result"
    }
   ],
   "source": [
    "# feature importance\n",
    "model.get_feature_importance()"
   ]
  },
  {
   "cell_type": "markdown",
   "metadata": {},
   "source": [
    "## Save data"
   ]
  },
  {
   "cell_type": "code",
   "execution_count": 13,
   "metadata": {},
   "outputs": [],
   "source": [
    "sample = pd.read_csv('data/submission/sample_submission.csv')\n",
    "sample['TARGET'] = cat_pred"
   ]
  },
  {
   "cell_type": "code",
   "execution_count": 14,
   "metadata": {},
   "outputs": [
    {
     "name": "stdout",
     "output_type": "stream",
     "text": [
      "./data/submission/20240221_0002 is saved.\n"
     ]
    }
   ],
   "source": [
    "date = str(pd.Timestamp.now())[:16].replace('-','').replace(' ','_').replace(':','')\n",
    "filename = f'./data/submission/{date}'\n",
    "sample.to_csv(f'{filename}.csv', index=False)\n",
    "print(f'{filename} is saved.')"
   ]
  },
  {
   "cell_type": "code",
   "execution_count": null,
   "metadata": {},
   "outputs": [],
   "source": []
  }
 ],
 "metadata": {
  "kernelspec": {
   "display_name": "Python 3 (ipykernel)",
   "language": "python",
   "name": "python3"
  },
  "language_info": {
   "codemirror_mode": {
    "name": "ipython",
    "version": 3
   },
   "file_extension": ".py",
   "mimetype": "text/x-python",
   "name": "python",
   "nbconvert_exporter": "python",
   "pygments_lexer": "ipython3",
   "version": "3.9.7"
  }
 },
 "nbformat": 4,
 "nbformat_minor": 2
}
