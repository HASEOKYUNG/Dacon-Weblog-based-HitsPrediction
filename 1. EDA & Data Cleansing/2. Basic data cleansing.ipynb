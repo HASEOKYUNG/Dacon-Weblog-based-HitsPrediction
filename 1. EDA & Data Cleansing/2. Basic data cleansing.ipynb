{
 "cells": [
  {
   "cell_type": "markdown",
   "metadata": {},
   "source": [
    "## Import"
   ]
  },
  {
   "cell_type": "code",
   "execution_count": 1,
   "metadata": {},
   "outputs": [],
   "source": [
    "import pandas as pd\n",
    "import numpy as np\n",
    "import matplotlib.pyplot as plt\n",
    "import seaborn as sns\n",
    "plt.rc('font', family='Malgun Gothic')\n",
    "plt.rc('axes', unicode_minus=False)\n",
    "import warnings;warnings.filterwarnings(action='ignore')"
   ]
  },
  {
   "cell_type": "markdown",
   "metadata": {},
   "source": [
    "## Read data"
   ]
  },
  {
   "cell_type": "code",
   "execution_count": 2,
   "metadata": {},
   "outputs": [],
   "source": [
    "train = pd.read_csv('../data/stayed_train.csv')\n",
    "test = pd.read_csv('../data/stayed_test.csv')"
   ]
  },
  {
   "cell_type": "code",
   "execution_count": 3,
   "metadata": {},
   "outputs": [
    {
     "name": "stdout",
     "output_type": "stream",
     "text": [
      "학습데이터 수: (127741, 19)\n",
      "평가데이터 수: (40148, 18)\n"
     ]
    }
   ],
   "source": [
    "print('학습데이터 수:', train.shape)\n",
    "print('평가데이터 수:', test.shape)"
   ]
  },
  {
   "cell_type": "code",
   "execution_count": 4,
   "metadata": {},
   "outputs": [
    {
     "data": {
      "text/html": [
       "<div>\n",
       "<style scoped>\n",
       "    .dataframe tbody tr th:only-of-type {\n",
       "        vertical-align: middle;\n",
       "    }\n",
       "\n",
       "    .dataframe tbody tr th {\n",
       "        vertical-align: top;\n",
       "    }\n",
       "\n",
       "    .dataframe thead th {\n",
       "        text-align: right;\n",
       "    }\n",
       "</style>\n",
       "<table border=\"1\" class=\"dataframe\">\n",
       "  <thead>\n",
       "    <tr style=\"text-align: right;\">\n",
       "      <th></th>\n",
       "      <th>sessionID</th>\n",
       "      <th>userID</th>\n",
       "      <th>TARGET</th>\n",
       "      <th>browser</th>\n",
       "      <th>OS</th>\n",
       "      <th>device</th>\n",
       "      <th>new</th>\n",
       "      <th>quality</th>\n",
       "      <th>duration</th>\n",
       "      <th>bounced</th>\n",
       "      <th>transaction</th>\n",
       "      <th>transaction_revenue</th>\n",
       "      <th>continent</th>\n",
       "      <th>subcontinent</th>\n",
       "      <th>country</th>\n",
       "      <th>traffic_source</th>\n",
       "      <th>traffic_medium</th>\n",
       "      <th>keyword</th>\n",
       "      <th>referral_path</th>\n",
       "    </tr>\n",
       "  </thead>\n",
       "  <tbody>\n",
       "    <tr>\n",
       "      <th>0</th>\n",
       "      <td>SESSION_000000</td>\n",
       "      <td>USER_000000</td>\n",
       "      <td>17.0</td>\n",
       "      <td>Chrome</td>\n",
       "      <td>Macintosh</td>\n",
       "      <td>desktop</td>\n",
       "      <td>0</td>\n",
       "      <td>45.0</td>\n",
       "      <td>839.0</td>\n",
       "      <td>0</td>\n",
       "      <td>0.0</td>\n",
       "      <td>0.0</td>\n",
       "      <td>Americas</td>\n",
       "      <td>Northern America</td>\n",
       "      <td>United States</td>\n",
       "      <td>google</td>\n",
       "      <td>organic</td>\n",
       "      <td>Category8</td>\n",
       "      <td>NaN</td>\n",
       "    </tr>\n",
       "    <tr>\n",
       "      <th>1</th>\n",
       "      <td>SESSION_000001</td>\n",
       "      <td>USER_000001</td>\n",
       "      <td>3.0</td>\n",
       "      <td>Chrome</td>\n",
       "      <td>Windows</td>\n",
       "      <td>desktop</td>\n",
       "      <td>1</td>\n",
       "      <td>1.0</td>\n",
       "      <td>39.0</td>\n",
       "      <td>0</td>\n",
       "      <td>0.0</td>\n",
       "      <td>0.0</td>\n",
       "      <td>Europe</td>\n",
       "      <td>Western Europe</td>\n",
       "      <td>Germany</td>\n",
       "      <td>google</td>\n",
       "      <td>organic</td>\n",
       "      <td>Category8</td>\n",
       "      <td>NaN</td>\n",
       "    </tr>\n",
       "    <tr>\n",
       "      <th>2</th>\n",
       "      <td>SESSION_000007</td>\n",
       "      <td>USER_000007</td>\n",
       "      <td>5.0</td>\n",
       "      <td>Chrome</td>\n",
       "      <td>Macintosh</td>\n",
       "      <td>desktop</td>\n",
       "      <td>1</td>\n",
       "      <td>1.0</td>\n",
       "      <td>64.0</td>\n",
       "      <td>0</td>\n",
       "      <td>0.0</td>\n",
       "      <td>0.0</td>\n",
       "      <td>Europe</td>\n",
       "      <td>Western Europe</td>\n",
       "      <td>Germany</td>\n",
       "      <td>google</td>\n",
       "      <td>organic</td>\n",
       "      <td>Category8</td>\n",
       "      <td>NaN</td>\n",
       "    </tr>\n",
       "    <tr>\n",
       "      <th>3</th>\n",
       "      <td>SESSION_000008</td>\n",
       "      <td>USER_000008</td>\n",
       "      <td>5.0</td>\n",
       "      <td>Firefox</td>\n",
       "      <td>Linux</td>\n",
       "      <td>desktop</td>\n",
       "      <td>1</td>\n",
       "      <td>1.0</td>\n",
       "      <td>60.0</td>\n",
       "      <td>0</td>\n",
       "      <td>0.0</td>\n",
       "      <td>0.0</td>\n",
       "      <td>Americas</td>\n",
       "      <td>South America</td>\n",
       "      <td>Brazil</td>\n",
       "      <td>youtube.com</td>\n",
       "      <td>referral</td>\n",
       "      <td>NaN</td>\n",
       "      <td>Category5_Path_0002</td>\n",
       "    </tr>\n",
       "    <tr>\n",
       "      <th>4</th>\n",
       "      <td>SESSION_000009</td>\n",
       "      <td>USER_000009</td>\n",
       "      <td>3.0</td>\n",
       "      <td>Chrome</td>\n",
       "      <td>Macintosh</td>\n",
       "      <td>desktop</td>\n",
       "      <td>1</td>\n",
       "      <td>2.0</td>\n",
       "      <td>579.0</td>\n",
       "      <td>0</td>\n",
       "      <td>0.0</td>\n",
       "      <td>0.0</td>\n",
       "      <td>Americas</td>\n",
       "      <td>Northern America</td>\n",
       "      <td>United States</td>\n",
       "      <td>google</td>\n",
       "      <td>cpc</td>\n",
       "      <td>Category1_Keyword_000</td>\n",
       "      <td>NaN</td>\n",
       "    </tr>\n",
       "  </tbody>\n",
       "</table>\n",
       "</div>"
      ],
      "text/plain": [
       "        sessionID       userID  TARGET  browser         OS   device  new  \\\n",
       "0  SESSION_000000  USER_000000    17.0   Chrome  Macintosh  desktop    0   \n",
       "1  SESSION_000001  USER_000001     3.0   Chrome    Windows  desktop    1   \n",
       "2  SESSION_000007  USER_000007     5.0   Chrome  Macintosh  desktop    1   \n",
       "3  SESSION_000008  USER_000008     5.0  Firefox      Linux  desktop    1   \n",
       "4  SESSION_000009  USER_000009     3.0   Chrome  Macintosh  desktop    1   \n",
       "\n",
       "   quality  duration  bounced  transaction  transaction_revenue continent  \\\n",
       "0     45.0     839.0        0          0.0                  0.0  Americas   \n",
       "1      1.0      39.0        0          0.0                  0.0    Europe   \n",
       "2      1.0      64.0        0          0.0                  0.0    Europe   \n",
       "3      1.0      60.0        0          0.0                  0.0  Americas   \n",
       "4      2.0     579.0        0          0.0                  0.0  Americas   \n",
       "\n",
       "       subcontinent        country traffic_source traffic_medium  \\\n",
       "0  Northern America  United States         google        organic   \n",
       "1    Western Europe        Germany         google        organic   \n",
       "2    Western Europe        Germany         google        organic   \n",
       "3     South America         Brazil    youtube.com       referral   \n",
       "4  Northern America  United States         google            cpc   \n",
       "\n",
       "                 keyword        referral_path  \n",
       "0              Category8                  NaN  \n",
       "1              Category8                  NaN  \n",
       "2              Category8                  NaN  \n",
       "3                    NaN  Category5_Path_0002  \n",
       "4  Category1_Keyword_000                  NaN  "
      ]
     },
     "metadata": {},
     "output_type": "display_data"
    }
   ],
   "source": [
    "'''\n",
    "데이터 설명\n",
    "- sessionID : 세션 ID\n",
    "- userID : 사용자 ID\n",
    "- TARGET : 세션에서 발생한 총 조회수\n",
    "- browser : 사용된 브라우저\n",
    "- OS : 사용된 기기의 운영체제\n",
    "- device : 사용된 기기\n",
    "- new : 첫 방문 여부 (0: 첫 방문 아님, 1: 첫 방문)\n",
    "- quality : 세션의 질 (거래 성사를 기준으로 측정된 값, 범위: 1~100)\n",
    "- duration : 총 세션 시간 (단위: 초)\n",
    "- bounced : 이탈 여부 (0: 이탈하지 않음, 1: 이탈함)\n",
    "- transaction : 세션 내에서 발생의 거래의 수\n",
    "- transaction_revenue : 총 거래 수익\n",
    "- continent : 세션이 발생한 대륙\n",
    "- subcontinent : 세션이 발생한 하위 대륙\n",
    "- country : 세션이 발생한 국가\n",
    "- traffic_source : 트래픽이 발생한 소스\n",
    "- traffic_medium : 트래픽 소스의 매체\n",
    "- keyword : 트래픽 소스의 키워드, 일반적으로 traffic_medium이 organic, cpc인 경우에 설정\n",
    "- referral_path : traffic_medium이 referral인 경우 설정되는 경로\n",
    "'''\n",
    "display(train.head())"
   ]
  },
  {
   "cell_type": "markdown",
   "metadata": {},
   "source": [
    "### 결측치\n",
    "- keyword, referral_path에는 traffic_medium값에 따른 결측치가 존재한다.\n"
   ]
  },
  {
   "cell_type": "code",
   "execution_count": 5,
   "metadata": {},
   "outputs": [
    {
     "data": {
      "text/plain": [
       "sessionID                  0\n",
       "userID                     0\n",
       "TARGET                     0\n",
       "browser                    0\n",
       "OS                         0\n",
       "device                     0\n",
       "new                        0\n",
       "quality                    0\n",
       "duration                   0\n",
       "bounced                    0\n",
       "transaction                0\n",
       "transaction_revenue        0\n",
       "continent                  0\n",
       "subcontinent               0\n",
       "country                    0\n",
       "traffic_source             0\n",
       "traffic_medium             0\n",
       "keyword                70399\n",
       "referral_path          79591\n",
       "dtype: int64"
      ]
     },
     "execution_count": 5,
     "metadata": {},
     "output_type": "execute_result"
    }
   ],
   "source": [
    "train.isna().sum()"
   ]
  },
  {
   "cell_type": "code",
   "execution_count": 6,
   "metadata": {},
   "outputs": [
    {
     "data": {
      "text/plain": [
       "organic      55247\n",
       "(none)       35686\n",
       "referral     30738\n",
       "cpc           3416\n",
       "affiliate     2477\n",
       "cpm            174\n",
       "(not set)        3\n",
       "Name: traffic_medium, dtype: int64"
      ]
     },
     "execution_count": 6,
     "metadata": {},
     "output_type": "execute_result"
    }
   ],
   "source": [
    "# keyword, referral_path의 값을 결정하는 traffic_medium의 빈도를 살펴보니 결측치로 판단할 수 있는 (none), (not set)이 있다.\n",
    "train.traffic_medium.value_counts()"
   ]
  },
  {
   "cell_type": "code",
   "execution_count": 7,
   "metadata": {},
   "outputs": [
    {
     "name": "stdout",
     "output_type": "stream",
     "text": [
      "(none)의 트래픽 소스: ['(direct)']\n",
      "(not set)의 트래픽 소스: ['Partners' 'google']\n"
     ]
    }
   ],
   "source": [
    "# (none)은 직접 트래픽이라 트래픽 매체가 없는 것이고 (not set)은 결측치로 봐야한다.\n",
    "print('(none)의 트래픽 소스:', train.query('traffic_medium == \"(none)\"').traffic_source.unique())\n",
    "print('(not set)의 트래픽 소스:', train.query('traffic_medium == \"(not set)\"').traffic_source.unique())"
   ]
  },
  {
   "cell_type": "code",
   "execution_count": 8,
   "metadata": {},
   "outputs": [
    {
     "data": {
      "text/plain": [
       "sessionID                 0\n",
       "userID                    0\n",
       "TARGET                    0\n",
       "browser                   0\n",
       "OS                     1044\n",
       "device                    0\n",
       "new                       0\n",
       "quality                   0\n",
       "duration                  0\n",
       "bounced                   0\n",
       "transaction               0\n",
       "transaction_revenue       0\n",
       "continent               148\n",
       "subcontinent            148\n",
       "country                 148\n",
       "traffic_source            0\n",
       "traffic_medium            3\n",
       "keyword                   0\n",
       "referral_path             0\n",
       "dtype: int64"
      ]
     },
     "execution_count": 8,
     "metadata": {},
     "output_type": "execute_result"
    }
   ],
   "source": [
    "# (not set)으로 결측치가 표현된 다른 변수가 있는지 확인한 결과 OS, continent, subcontinent, country에서도 나타난다.\n",
    "train.applymap(lambda x: x==\"(not set)\").sum()"
   ]
  },
  {
   "cell_type": "code",
   "execution_count": 9,
   "metadata": {},
   "outputs": [],
   "source": [
    "# traffic_medium 중 광고로 접속한 cpc, cpm은 ad(광고)로 변경한다.\n",
    "train['traffic_medium'] = train['traffic_medium'].replace('cpc','ad').replace('cpm','ad')\n",
    "test['traffic_medium'] = test['traffic_medium'].replace('cpc','ad').replace('cpm','ad')\n",
    "\n",
    "# (not set)은 결측치로 학습데이터 내 트래픽 소스의 최빈값으로 채운다.\n",
    "mode = train.groupby('traffic_source')['traffic_medium'].agg(lambda x: x.mode()[0])\n",
    "ease = train.query('traffic_medium == \"(not set)\"')['traffic_source'].map(mode)\n",
    "train.loc[ease.index, 'traffic_medium'] = ease.values\n",
    "\n",
    "ease = test.query('traffic_medium == \"(not set)\"')['traffic_source'].map(mode)\n",
    "test.loc[ease.index, 'traffic_medium'] = ease.values"
   ]
  },
  {
   "cell_type": "markdown",
   "metadata": {},
   "source": [
    "### 변수 정리"
   ]
  },
  {
   "cell_type": "code",
   "execution_count": 10,
   "metadata": {},
   "outputs": [],
   "source": [
    "train[['keyword1','keyword2']] = train['keyword'].str.split('_', expand=True)[[0,2]]\n",
    "test[['keyword1','keyword2']] = test['keyword'].str.split('_', expand=True)[[0,2]]\n",
    "\n",
    "train[['keyword1','keyword2']].fillna(\"(not set)\", inplace=True)\n",
    "test[['keyword1','keyword2']].fillna(\"(not set)\", inplace=True)"
   ]
  },
  {
   "cell_type": "code",
   "execution_count": 11,
   "metadata": {},
   "outputs": [],
   "source": [
    "train[['referral_path1','referral_path2']] = train['referral_path'].str.split('_', expand=True)[[0,2]]\n",
    "test[['referral_path1','referral_path2']] = test['referral_path'].str.split('_', expand=True)[[0,2]]\n",
    "\n",
    "train[['referral_path1','referral_path2']].fillna(\"(not set)\", inplace=True)\n",
    "test[['referral_path1','referral_path2']].fillna(\"(not set)\", inplace=True)"
   ]
  },
  {
   "cell_type": "code",
   "execution_count": 12,
   "metadata": {},
   "outputs": [],
   "source": [
    "# 불필요한 열 제거\n",
    "train.drop(['keyword', 'referral_path'], axis=1, inplace=True)\n",
    "test.drop(['keyword', 'referral_path'], axis=1, inplace=True)"
   ]
  },
  {
   "cell_type": "markdown",
   "metadata": {},
   "source": [
    "### 이상치 제거"
   ]
  },
  {
   "cell_type": "code",
   "execution_count": 13,
   "metadata": {},
   "outputs": [
    {
     "name": "stdout",
     "output_type": "stream",
     "text": [
      "학습데이터 크기: (127739, 21)\n"
     ]
    }
   ],
   "source": [
    "outlier = [train.transaction.sort_values().index[-1], train.TARGET.sort_values().index[-1]]\n",
    "train.drop(outlier, inplace=True)\n",
    "print('학습데이터 크기:', train.shape)"
   ]
  },
  {
   "cell_type": "markdown",
   "metadata": {},
   "source": [
    "## Save data"
   ]
  },
  {
   "cell_type": "code",
   "execution_count": 14,
   "metadata": {},
   "outputs": [],
   "source": [
    "train.to_csv('../data/stayed_train.csv', index=False)\n",
    "test.to_csv('../data/stayed_train.csv', index=False)"
   ]
  },
  {
   "cell_type": "code",
   "execution_count": null,
   "metadata": {},
   "outputs": [],
   "source": []
  },
  {
   "cell_type": "code",
   "execution_count": null,
   "metadata": {},
   "outputs": [],
   "source": []
  }
 ],
 "metadata": {
  "kernelspec": {
   "display_name": "Python 3 (ipykernel)",
   "language": "python",
   "name": "python3"
  },
  "language_info": {
   "codemirror_mode": {
    "name": "ipython",
    "version": 3
   },
   "file_extension": ".py",
   "mimetype": "text/x-python",
   "name": "python",
   "nbconvert_exporter": "python",
   "pygments_lexer": "ipython3",
   "version": "3.9.7"
  }
 },
 "nbformat": 4,
 "nbformat_minor": 2
}
