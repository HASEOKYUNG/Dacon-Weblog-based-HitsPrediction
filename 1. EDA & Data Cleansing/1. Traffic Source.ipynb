{
 "cells": [
  {
   "cell_type": "markdown",
   "metadata": {},
   "source": [
    "## Import"
   ]
  },
  {
   "cell_type": "code",
   "execution_count": 1,
   "metadata": {},
   "outputs": [],
   "source": [
    "import pandas as pd\n",
    "import numpy as np\n",
    "import matplotlib.pyplot as plt\n",
    "import seaborn as sns\n",
    "plt.rc('font', family='Malgun Gothic')\n",
    "plt.rc('axes', unicode_minus=False)\n",
    "import warnings;warnings.filterwarnings(action='ignore')"
   ]
  },
  {
   "cell_type": "markdown",
   "metadata": {},
   "source": [
    "## Read data"
   ]
  },
  {
   "cell_type": "code",
   "execution_count": 2,
   "metadata": {},
   "outputs": [],
   "source": [
    "train = pd.read_csv('../data/train.csv')\n",
    "test = pd.read_csv('../data/test.csv')"
   ]
  },
  {
   "cell_type": "code",
   "execution_count": 3,
   "metadata": {},
   "outputs": [
    {
     "name": "stdout",
     "output_type": "stream",
     "text": [
      "학습데이터 수: (252289, 19)\n",
      "평가데이터 수: (79786, 18)\n"
     ]
    }
   ],
   "source": [
    "print('학습데이터 수:', train.shape)\n",
    "print('평가데이터 수:', test.shape)"
   ]
  },
  {
   "cell_type": "code",
   "execution_count": 4,
   "metadata": {},
   "outputs": [
    {
     "data": {
      "text/html": [
       "<div>\n",
       "<style scoped>\n",
       "    .dataframe tbody tr th:only-of-type {\n",
       "        vertical-align: middle;\n",
       "    }\n",
       "\n",
       "    .dataframe tbody tr th {\n",
       "        vertical-align: top;\n",
       "    }\n",
       "\n",
       "    .dataframe thead th {\n",
       "        text-align: right;\n",
       "    }\n",
       "</style>\n",
       "<table border=\"1\" class=\"dataframe\">\n",
       "  <thead>\n",
       "    <tr style=\"text-align: right;\">\n",
       "      <th></th>\n",
       "      <th>sessionID</th>\n",
       "      <th>userID</th>\n",
       "      <th>TARGET</th>\n",
       "      <th>browser</th>\n",
       "      <th>OS</th>\n",
       "      <th>device</th>\n",
       "      <th>new</th>\n",
       "      <th>quality</th>\n",
       "      <th>duration</th>\n",
       "      <th>bounced</th>\n",
       "      <th>transaction</th>\n",
       "      <th>transaction_revenue</th>\n",
       "      <th>continent</th>\n",
       "      <th>subcontinent</th>\n",
       "      <th>country</th>\n",
       "      <th>traffic_source</th>\n",
       "      <th>traffic_medium</th>\n",
       "      <th>keyword</th>\n",
       "      <th>referral_path</th>\n",
       "    </tr>\n",
       "  </thead>\n",
       "  <tbody>\n",
       "    <tr>\n",
       "      <th>0</th>\n",
       "      <td>SESSION_000000</td>\n",
       "      <td>USER_000000</td>\n",
       "      <td>17.0</td>\n",
       "      <td>Chrome</td>\n",
       "      <td>Macintosh</td>\n",
       "      <td>desktop</td>\n",
       "      <td>0</td>\n",
       "      <td>45.0</td>\n",
       "      <td>839.0</td>\n",
       "      <td>0</td>\n",
       "      <td>0.0</td>\n",
       "      <td>0.0</td>\n",
       "      <td>Americas</td>\n",
       "      <td>Northern America</td>\n",
       "      <td>United States</td>\n",
       "      <td>google</td>\n",
       "      <td>organic</td>\n",
       "      <td>Category8</td>\n",
       "      <td>NaN</td>\n",
       "    </tr>\n",
       "    <tr>\n",
       "      <th>1</th>\n",
       "      <td>SESSION_000001</td>\n",
       "      <td>USER_000001</td>\n",
       "      <td>3.0</td>\n",
       "      <td>Chrome</td>\n",
       "      <td>Windows</td>\n",
       "      <td>desktop</td>\n",
       "      <td>1</td>\n",
       "      <td>1.0</td>\n",
       "      <td>39.0</td>\n",
       "      <td>0</td>\n",
       "      <td>0.0</td>\n",
       "      <td>0.0</td>\n",
       "      <td>Europe</td>\n",
       "      <td>Western Europe</td>\n",
       "      <td>Germany</td>\n",
       "      <td>google</td>\n",
       "      <td>organic</td>\n",
       "      <td>Category8</td>\n",
       "      <td>NaN</td>\n",
       "    </tr>\n",
       "    <tr>\n",
       "      <th>2</th>\n",
       "      <td>SESSION_000002</td>\n",
       "      <td>USER_000002</td>\n",
       "      <td>1.0</td>\n",
       "      <td>Samsung Internet</td>\n",
       "      <td>Android</td>\n",
       "      <td>mobile</td>\n",
       "      <td>1</td>\n",
       "      <td>1.0</td>\n",
       "      <td>0.0</td>\n",
       "      <td>1</td>\n",
       "      <td>0.0</td>\n",
       "      <td>0.0</td>\n",
       "      <td>Asia</td>\n",
       "      <td>Southeast Asia</td>\n",
       "      <td>Malaysia</td>\n",
       "      <td>(direct)</td>\n",
       "      <td>(none)</td>\n",
       "      <td>NaN</td>\n",
       "      <td>NaN</td>\n",
       "    </tr>\n",
       "    <tr>\n",
       "      <th>3</th>\n",
       "      <td>SESSION_000003</td>\n",
       "      <td>USER_000003</td>\n",
       "      <td>1.0</td>\n",
       "      <td>Chrome</td>\n",
       "      <td>Macintosh</td>\n",
       "      <td>desktop</td>\n",
       "      <td>1</td>\n",
       "      <td>1.0</td>\n",
       "      <td>0.0</td>\n",
       "      <td>1</td>\n",
       "      <td>0.0</td>\n",
       "      <td>0.0</td>\n",
       "      <td>Americas</td>\n",
       "      <td>Northern America</td>\n",
       "      <td>United States</td>\n",
       "      <td>Partners</td>\n",
       "      <td>affiliate</td>\n",
       "      <td>NaN</td>\n",
       "      <td>NaN</td>\n",
       "    </tr>\n",
       "    <tr>\n",
       "      <th>4</th>\n",
       "      <td>SESSION_000004</td>\n",
       "      <td>USER_000004</td>\n",
       "      <td>1.0</td>\n",
       "      <td>Chrome</td>\n",
       "      <td>iOS</td>\n",
       "      <td>mobile</td>\n",
       "      <td>0</td>\n",
       "      <td>1.0</td>\n",
       "      <td>0.0</td>\n",
       "      <td>1</td>\n",
       "      <td>0.0</td>\n",
       "      <td>0.0</td>\n",
       "      <td>Americas</td>\n",
       "      <td>Northern America</td>\n",
       "      <td>United States</td>\n",
       "      <td>groups.google.com</td>\n",
       "      <td>referral</td>\n",
       "      <td>NaN</td>\n",
       "      <td>Category6_Path_0000</td>\n",
       "    </tr>\n",
       "  </tbody>\n",
       "</table>\n",
       "</div>"
      ],
      "text/plain": [
       "        sessionID       userID  TARGET           browser         OS   device  \\\n",
       "0  SESSION_000000  USER_000000    17.0            Chrome  Macintosh  desktop   \n",
       "1  SESSION_000001  USER_000001     3.0            Chrome    Windows  desktop   \n",
       "2  SESSION_000002  USER_000002     1.0  Samsung Internet    Android   mobile   \n",
       "3  SESSION_000003  USER_000003     1.0            Chrome  Macintosh  desktop   \n",
       "4  SESSION_000004  USER_000004     1.0            Chrome        iOS   mobile   \n",
       "\n",
       "   new  quality  duration  bounced  transaction  transaction_revenue  \\\n",
       "0    0     45.0     839.0        0          0.0                  0.0   \n",
       "1    1      1.0      39.0        0          0.0                  0.0   \n",
       "2    1      1.0       0.0        1          0.0                  0.0   \n",
       "3    1      1.0       0.0        1          0.0                  0.0   \n",
       "4    0      1.0       0.0        1          0.0                  0.0   \n",
       "\n",
       "  continent      subcontinent        country     traffic_source  \\\n",
       "0  Americas  Northern America  United States             google   \n",
       "1    Europe    Western Europe        Germany             google   \n",
       "2      Asia    Southeast Asia       Malaysia           (direct)   \n",
       "3  Americas  Northern America  United States           Partners   \n",
       "4  Americas  Northern America  United States  groups.google.com   \n",
       "\n",
       "  traffic_medium    keyword        referral_path  \n",
       "0        organic  Category8                  NaN  \n",
       "1        organic  Category8                  NaN  \n",
       "2         (none)        NaN                  NaN  \n",
       "3      affiliate        NaN                  NaN  \n",
       "4       referral        NaN  Category6_Path_0000  "
      ]
     },
     "metadata": {},
     "output_type": "display_data"
    }
   ],
   "source": [
    "'''\n",
    "데이터 설명\n",
    "- sessionID : 세션 ID\n",
    "- userID : 사용자 ID\n",
    "- TARGET : 세션에서 발생한 총 조회수\n",
    "- browser : 사용된 브라우저\n",
    "- OS : 사용된 기기의 운영체제\n",
    "- device : 사용된 기기\n",
    "- new : 첫 방문 여부 (0: 첫 방문 아님, 1: 첫 방문)\n",
    "- quality : 세션의 질 (거래 성사를 기준으로 측정된 값, 범위: 1~100)\n",
    "- duration : 총 세션 시간 (단위: 초)\n",
    "- bounced : 이탈 여부 (0: 이탈하지 않음, 1: 이탈함)\n",
    "- transaction : 세션 내에서 발생의 거래의 수\n",
    "- transaction_revenue : 총 거래 수익\n",
    "- continent : 세션이 발생한 대륙\n",
    "- subcontinent : 세션이 발생한 하위 대륙\n",
    "- country : 세션이 발생한 국가\n",
    "- traffic_source : 트래픽이 발생한 소스\n",
    "- traffic_medium : 트래픽 소스의 매체\n",
    "- keyword : 트래픽 소스의 키워드, 일반적으로 traffic_medium이 organic, cpc인 경우에 설정\n",
    "- referral_path : traffic_medium이 referral인 경우 설정되는 경로\n",
    "'''\n",
    "display(train.head())"
   ]
  },
  {
   "cell_type": "markdown",
   "metadata": {},
   "source": [
    "### Traffic Medium\n",
    "- keyword 변수값을 결정하는 traffic_medium은 웹사이트로 유입되는 트래픽의 구체적인 유형이나 채널을 의미한다.\n",
    "- 'organic'(무료): 사용자가 검색 엔진에서 특정 키워드를 **검색**하고 결과 페이지에서 나타난 링크로 접속\n",
    "- 'affiliate': **다른 회사**의 제품이나 서비스를 홍보하고, 그 결과로 발생하는 판매나 클릭에 대해 수수료를 받음\n",
    "- 'referral': 블로그, 파트너 사이드 등의 다른 웹사이트의 링크를 통해 접속\n",
    "- 'cpc'(클릭당 비용 발생): **광고** 캠페인(예: Google AdWords)을 통해 웹사이트에 유입\n",
    "- 'cpm'(천 회 노출당 비용 발생): 디스플레이나 비디오 **광고**에 노출되어 접속\n",
    "- '(none)'은 traffic_source가 (direct)인  경우이다.<br>\n",
    "  direct: 사용자가 웹 브라우저에 URL을 직접 입력하거나, 즐겨찾기를 사용해 웹사이트에 직접 접속하는 경우\n",
    "- '(not set)': 결측치로 봐야함"
   ]
  },
  {
   "cell_type": "code",
   "execution_count": 12,
   "metadata": {},
   "outputs": [
    {
     "data": {
      "image/png": "[encoded data removed]",
      "text/plain": [
       "<Figure size 432x288 with 1 Axes>"
      ]
     },
     "metadata": {
      "needs_background": "light"
     },
     "output_type": "display_data"
    }
   ],
   "source": [
    "train.traffic_medium.value_counts().plot.bar(title=\"트래픽 매체별 건수\", color='forestgreen')\n",
    "plt.show()"
   ]
  },
  {
   "cell_type": "code",
   "execution_count": null,
   "metadata": {},
   "outputs": [],
   "source": [
    "# 광고로 접속한 cpc, cpm은 ad(광고)로 변경한다.\n",
    "train['traffic_medium'] = train['traffic_medium'].replace('cpc','ad').replace('cpm','ad')\n",
    "test['traffic_medium'] = test['traffic_medium'].replace('cpc','ad').replace('cpm','ad')"
   ]
  },
  {
   "cell_type": "code",
   "execution_count": 18,
   "metadata": {},
   "outputs": [],
   "source": [
    "# (not set)은 결측치로 학습데이터 내 트래픽 소스의 최빈값으로 채운다.\n",
    "mode = train.groupby('traffic_source')['traffic_medium'].agg(lambda x: x.mode()[0])\n",
    "ease = train.query('traffic_medium == \"(not set)\"')['traffic_source'].map(mode)\n",
    "train.loc[ease.index, 'traffic_medium'] = ease.values\n",
    "\n",
    "ease = test.query('traffic_medium == \"(not set)\"')['traffic_source'].map(mode)\n",
    "test.loc[ease.index, 'traffic_medium'] = ease.values"
   ]
  },
  {
   "cell_type": "markdown",
   "metadata": {},
   "source": [
    "### Keyword"
   ]
  },
  {
   "cell_type": "code",
   "execution_count": 40,
   "metadata": {},
   "outputs": [],
   "source": [
    "# 검색했는지 아닌지, 카테고리의 target mean, 넘버의 target mean을 사용해본다.\n",
    "ease = train.copy()\n",
    "ease[['KW_c', 'KW_n']]= ease.keyword.str.split('_', expand=True)[[0,2]]"
   ]
  },
  {
   "cell_type": "code",
   "execution_count": 41,
   "metadata": {},
   "outputs": [
    {
     "data": {
      "text/plain": [
       "KW_c\n",
       "Category1     5.476480\n",
       "Category10    1.625981\n",
       "Category11    3.144485\n",
       "Category12    1.291457\n",
       "Category2     2.771131\n",
       "Category3     5.224832\n",
       "Category4     2.676617\n",
       "Category5     4.276596\n",
       "Category6     5.694915\n",
       "Category7     1.140625\n",
       "Category8     3.857970\n",
       "Category9     1.263761\n",
       "Name: TARGET, dtype: float64"
      ]
     },
     "execution_count": 41,
     "metadata": {},
     "output_type": "execute_result"
    }
   ],
   "source": [
    "ease.groupby('KW_c')['TARGET'].mean()"
   ]
  },
  {
   "cell_type": "code",
   "execution_count": 59,
   "metadata": {
    "scrolled": true
   },
   "outputs": [
    {
     "data": {
      "text/plain": [
       "Category1     18687\n",
       "Category2     13682\n",
       "Category11    12165\n",
       "Category13     9775\n",
       "Category3      7751\n",
       "Category6      6918\n",
       "Category5      5268\n",
       "Category8      4584\n",
       "Category4      3766\n",
       "Category12     3452\n",
       "Category7      3023\n",
       "Category9      1378\n",
       "Category10      733\n",
       "Name: RP_c, dtype: int64"
      ]
     },
     "execution_count": 59,
     "metadata": {},
     "output_type": "execute_result"
    }
   ],
   "source": [
    "ease.RP_c.value_counts()"
   ]
  },
  {
   "cell_type": "code",
   "execution_count": 64,
   "metadata": {},
   "outputs": [
    {
     "data": {
      "text/plain": [
       "RP_c        RP_n\n",
       "Category13  1230       1\n",
       "Category11  1573       1\n",
       "Category12  0034       1\n",
       "            0613       1\n",
       "            0672       1\n",
       "                    ... \n",
       "Category2   0063    2367\n",
       "Category7   0001    2984\n",
       "Category6   0008    3232\n",
       "Category2   0018    3987\n",
       "Category3   0013    7218\n",
       "Name: TARGET, Length: 1577, dtype: int64"
      ]
     },
     "execution_count": 64,
     "metadata": {},
     "output_type": "execute_result"
    }
   ],
   "source": [
    "ease.groupby(['RP_c','RP_n'])['TARGET'].size().sort_values()"
   ]
  },
  {
   "cell_type": "code",
   "execution_count": 58,
   "metadata": {
    "scrolled": true
   },
   "outputs": [
    {
     "data": {
      "text/plain": [
       "RP_c\n",
       "Category1     6.501258\n",
       "Category10    4.480218\n",
       "Category11    2.398438\n",
       "Category12    3.557648\n",
       "Category13    1.940051\n",
       "Category2     2.108537\n",
       "Category3     3.012902\n",
       "Category4     1.973447\n",
       "Category5     2.161352\n",
       "Category6     3.900116\n",
       "Category7     2.479656\n",
       "Category8     2.785777\n",
       "Category9     4.447750\n",
       "Name: TARGET, dtype: float64"
      ]
     },
     "execution_count": 58,
     "metadata": {},
     "output_type": "execute_result"
    }
   ],
   "source": [
    "ease.groupby('RP_c')['TARGET'].mean()"
   ]
  },
  {
   "cell_type": "code",
   "execution_count": 42,
   "metadata": {},
   "outputs": [
    {
     "data": {
      "text/plain": [
       "KW_n\n",
       "000    6.354005\n",
       "001    5.545455\n",
       "002    2.307692\n",
       "003    6.594637\n",
       "004    1.800000\n",
       "         ...   \n",
       "613    1.000000\n",
       "614    2.000000\n",
       "615    1.000000\n",
       "616    1.000000\n",
       "617    5.000000\n",
       "Name: TARGET, Length: 618, dtype: float64"
      ]
     },
     "execution_count": 42,
     "metadata": {},
     "output_type": "execute_result"
    }
   ],
   "source": [
    "ease.groupby('KW_n')['TARGET'].mean()"
   ]
  },
  {
   "cell_type": "code",
   "execution_count": 85,
   "metadata": {},
   "outputs": [
    {
     "data": {
      "text/html": [
       "<div>\n",
       "<style scoped>\n",
       "    .dataframe tbody tr th:only-of-type {\n",
       "        vertical-align: middle;\n",
       "    }\n",
       "\n",
       "    .dataframe tbody tr th {\n",
       "        vertical-align: top;\n",
       "    }\n",
       "\n",
       "    .dataframe thead th {\n",
       "        text-align: right;\n",
       "    }\n",
       "</style>\n",
       "<table border=\"1\" class=\"dataframe\">\n",
       "  <thead>\n",
       "    <tr style=\"text-align: right;\">\n",
       "      <th></th>\n",
       "      <th>sessionID</th>\n",
       "      <th>userID</th>\n",
       "      <th>TARGET</th>\n",
       "      <th>browser</th>\n",
       "      <th>OS</th>\n",
       "      <th>device</th>\n",
       "      <th>new</th>\n",
       "      <th>quality</th>\n",
       "      <th>duration</th>\n",
       "      <th>bounced</th>\n",
       "      <th>transaction</th>\n",
       "      <th>transaction_revenue</th>\n",
       "      <th>continent</th>\n",
       "      <th>subcontinent</th>\n",
       "      <th>country</th>\n",
       "      <th>traffic_source</th>\n",
       "      <th>traffic_medium</th>\n",
       "      <th>keyword</th>\n",
       "      <th>referral_path</th>\n",
       "    </tr>\n",
       "  </thead>\n",
       "  <tbody>\n",
       "    <tr>\n",
       "      <th>978</th>\n",
       "      <td>SESSION_000978</td>\n",
       "      <td>USER_000912</td>\n",
       "      <td>1.0</td>\n",
       "      <td>Safari (in-app)</td>\n",
       "      <td>iOS</td>\n",
       "      <td>mobile</td>\n",
       "      <td>1</td>\n",
       "      <td>1.0</td>\n",
       "      <td>0.0</td>\n",
       "      <td>1</td>\n",
       "      <td>0.0</td>\n",
       "      <td>0.0</td>\n",
       "      <td>(not set)</td>\n",
       "      <td>(not set)</td>\n",
       "      <td>(not set)</td>\n",
       "      <td>google</td>\n",
       "      <td>cpc</td>\n",
       "      <td>Category9</td>\n",
       "      <td>NaN</td>\n",
       "    </tr>\n",
       "    <tr>\n",
       "      <th>1065</th>\n",
       "      <td>SESSION_001065</td>\n",
       "      <td>USER_000991</td>\n",
       "      <td>1.0</td>\n",
       "      <td>Chrome</td>\n",
       "      <td>Android</td>\n",
       "      <td>mobile</td>\n",
       "      <td>1</td>\n",
       "      <td>1.0</td>\n",
       "      <td>0.0</td>\n",
       "      <td>1</td>\n",
       "      <td>0.0</td>\n",
       "      <td>0.0</td>\n",
       "      <td>(not set)</td>\n",
       "      <td>(not set)</td>\n",
       "      <td>(not set)</td>\n",
       "      <td>(direct)</td>\n",
       "      <td>(none)</td>\n",
       "      <td>NaN</td>\n",
       "      <td>NaN</td>\n",
       "    </tr>\n",
       "    <tr>\n",
       "      <th>2012</th>\n",
       "      <td>SESSION_002012</td>\n",
       "      <td>USER_001844</td>\n",
       "      <td>4.0</td>\n",
       "      <td>Chrome</td>\n",
       "      <td>Windows</td>\n",
       "      <td>desktop</td>\n",
       "      <td>1</td>\n",
       "      <td>1.0</td>\n",
       "      <td>39.0</td>\n",
       "      <td>0</td>\n",
       "      <td>0.0</td>\n",
       "      <td>0.0</td>\n",
       "      <td>(not set)</td>\n",
       "      <td>(not set)</td>\n",
       "      <td>(not set)</td>\n",
       "      <td>(direct)</td>\n",
       "      <td>(none)</td>\n",
       "      <td>NaN</td>\n",
       "      <td>NaN</td>\n",
       "    </tr>\n",
       "    <tr>\n",
       "      <th>2781</th>\n",
       "      <td>SESSION_002781</td>\n",
       "      <td>USER_002546</td>\n",
       "      <td>1.0</td>\n",
       "      <td>Chrome</td>\n",
       "      <td>Android</td>\n",
       "      <td>mobile</td>\n",
       "      <td>0</td>\n",
       "      <td>1.0</td>\n",
       "      <td>0.0</td>\n",
       "      <td>1</td>\n",
       "      <td>0.0</td>\n",
       "      <td>0.0</td>\n",
       "      <td>(not set)</td>\n",
       "      <td>(not set)</td>\n",
       "      <td>(not set)</td>\n",
       "      <td>(direct)</td>\n",
       "      <td>(none)</td>\n",
       "      <td>NaN</td>\n",
       "      <td>NaN</td>\n",
       "    </tr>\n",
       "    <tr>\n",
       "      <th>3077</th>\n",
       "      <td>SESSION_003077</td>\n",
       "      <td>USER_002546</td>\n",
       "      <td>2.0</td>\n",
       "      <td>Chrome</td>\n",
       "      <td>Android</td>\n",
       "      <td>mobile</td>\n",
       "      <td>0</td>\n",
       "      <td>1.0</td>\n",
       "      <td>8.0</td>\n",
       "      <td>0</td>\n",
       "      <td>0.0</td>\n",
       "      <td>0.0</td>\n",
       "      <td>(not set)</td>\n",
       "      <td>(not set)</td>\n",
       "      <td>(not set)</td>\n",
       "      <td>(direct)</td>\n",
       "      <td>(none)</td>\n",
       "      <td>NaN</td>\n",
       "      <td>NaN</td>\n",
       "    </tr>\n",
       "    <tr>\n",
       "      <th>...</th>\n",
       "      <td>...</td>\n",
       "      <td>...</td>\n",
       "      <td>...</td>\n",
       "      <td>...</td>\n",
       "      <td>...</td>\n",
       "      <td>...</td>\n",
       "      <td>...</td>\n",
       "      <td>...</td>\n",
       "      <td>...</td>\n",
       "      <td>...</td>\n",
       "      <td>...</td>\n",
       "      <td>...</td>\n",
       "      <td>...</td>\n",
       "      <td>...</td>\n",
       "      <td>...</td>\n",
       "      <td>...</td>\n",
       "      <td>...</td>\n",
       "      <td>...</td>\n",
       "      <td>...</td>\n",
       "    </tr>\n",
       "    <tr>\n",
       "      <th>250035</th>\n",
       "      <td>SESSION_250035</td>\n",
       "      <td>USER_204316</td>\n",
       "      <td>1.0</td>\n",
       "      <td>Chrome</td>\n",
       "      <td>Windows</td>\n",
       "      <td>desktop</td>\n",
       "      <td>1</td>\n",
       "      <td>1.0</td>\n",
       "      <td>0.0</td>\n",
       "      <td>1</td>\n",
       "      <td>0.0</td>\n",
       "      <td>0.0</td>\n",
       "      <td>(not set)</td>\n",
       "      <td>(not set)</td>\n",
       "      <td>(not set)</td>\n",
       "      <td>google</td>\n",
       "      <td>organic</td>\n",
       "      <td>Category8</td>\n",
       "      <td>NaN</td>\n",
       "    </tr>\n",
       "    <tr>\n",
       "      <th>250612</th>\n",
       "      <td>SESSION_250612</td>\n",
       "      <td>USER_204769</td>\n",
       "      <td>1.0</td>\n",
       "      <td>Chrome</td>\n",
       "      <td>Windows</td>\n",
       "      <td>desktop</td>\n",
       "      <td>1</td>\n",
       "      <td>1.0</td>\n",
       "      <td>0.0</td>\n",
       "      <td>1</td>\n",
       "      <td>0.0</td>\n",
       "      <td>0.0</td>\n",
       "      <td>(not set)</td>\n",
       "      <td>(not set)</td>\n",
       "      <td>(not set)</td>\n",
       "      <td>analytics.google.com</td>\n",
       "      <td>referral</td>\n",
       "      <td>NaN</td>\n",
       "      <td>Category3_Path_0013</td>\n",
       "    </tr>\n",
       "    <tr>\n",
       "      <th>250654</th>\n",
       "      <td>SESSION_250654</td>\n",
       "      <td>USER_204805</td>\n",
       "      <td>3.0</td>\n",
       "      <td>Chrome</td>\n",
       "      <td>Windows</td>\n",
       "      <td>desktop</td>\n",
       "      <td>1</td>\n",
       "      <td>1.0</td>\n",
       "      <td>33.0</td>\n",
       "      <td>0</td>\n",
       "      <td>0.0</td>\n",
       "      <td>0.0</td>\n",
       "      <td>(not set)</td>\n",
       "      <td>(not set)</td>\n",
       "      <td>(not set)</td>\n",
       "      <td>google</td>\n",
       "      <td>organic</td>\n",
       "      <td>Category8</td>\n",
       "      <td>NaN</td>\n",
       "    </tr>\n",
       "    <tr>\n",
       "      <th>251144</th>\n",
       "      <td>SESSION_251144</td>\n",
       "      <td>USER_205183</td>\n",
       "      <td>1.0</td>\n",
       "      <td>Internet Explorer</td>\n",
       "      <td>Windows</td>\n",
       "      <td>desktop</td>\n",
       "      <td>1</td>\n",
       "      <td>1.0</td>\n",
       "      <td>0.0</td>\n",
       "      <td>1</td>\n",
       "      <td>0.0</td>\n",
       "      <td>0.0</td>\n",
       "      <td>(not set)</td>\n",
       "      <td>(not set)</td>\n",
       "      <td>(not set)</td>\n",
       "      <td>youtube.com</td>\n",
       "      <td>referral</td>\n",
       "      <td>NaN</td>\n",
       "      <td>Category13_Path_0029</td>\n",
       "    </tr>\n",
       "    <tr>\n",
       "      <th>251665</th>\n",
       "      <td>SESSION_251665</td>\n",
       "      <td>USER_205569</td>\n",
       "      <td>3.0</td>\n",
       "      <td>Internet Explorer</td>\n",
       "      <td>Windows</td>\n",
       "      <td>desktop</td>\n",
       "      <td>1</td>\n",
       "      <td>1.0</td>\n",
       "      <td>84.0</td>\n",
       "      <td>0</td>\n",
       "      <td>0.0</td>\n",
       "      <td>0.0</td>\n",
       "      <td>(not set)</td>\n",
       "      <td>(not set)</td>\n",
       "      <td>(not set)</td>\n",
       "      <td>youtube.com</td>\n",
       "      <td>referral</td>\n",
       "      <td>NaN</td>\n",
       "      <td>Category11_Path_0088</td>\n",
       "    </tr>\n",
       "  </tbody>\n",
       "</table>\n",
       "<p>336 rows × 19 columns</p>\n",
       "</div>"
      ],
      "text/plain": [
       "             sessionID       userID  TARGET            browser       OS  \\\n",
       "978     SESSION_000978  USER_000912     1.0    Safari (in-app)      iOS   \n",
       "1065    SESSION_001065  USER_000991     1.0             Chrome  Android   \n",
       "2012    SESSION_002012  USER_001844     4.0             Chrome  Windows   \n",
       "2781    SESSION_002781  USER_002546     1.0             Chrome  Android   \n",
       "3077    SESSION_003077  USER_002546     2.0             Chrome  Android   \n",
       "...                ...          ...     ...                ...      ...   \n",
       "250035  SESSION_250035  USER_204316     1.0             Chrome  Windows   \n",
       "250612  SESSION_250612  USER_204769     1.0             Chrome  Windows   \n",
       "250654  SESSION_250654  USER_204805     3.0             Chrome  Windows   \n",
       "251144  SESSION_251144  USER_205183     1.0  Internet Explorer  Windows   \n",
       "251665  SESSION_251665  USER_205569     3.0  Internet Explorer  Windows   \n",
       "\n",
       "         device  new  quality  duration  bounced  transaction  \\\n",
       "978      mobile    1      1.0       0.0        1          0.0   \n",
       "1065     mobile    1      1.0       0.0        1          0.0   \n",
       "2012    desktop    1      1.0      39.0        0          0.0   \n",
       "2781     mobile    0      1.0       0.0        1          0.0   \n",
       "3077     mobile    0      1.0       8.0        0          0.0   \n",
       "...         ...  ...      ...       ...      ...          ...   \n",
       "250035  desktop    1      1.0       0.0        1          0.0   \n",
       "250612  desktop    1      1.0       0.0        1          0.0   \n",
       "250654  desktop    1      1.0      33.0        0          0.0   \n",
       "251144  desktop    1      1.0       0.0        1          0.0   \n",
       "251665  desktop    1      1.0      84.0        0          0.0   \n",
       "\n",
       "        transaction_revenue  continent subcontinent    country  \\\n",
       "978                     0.0  (not set)    (not set)  (not set)   \n",
       "1065                    0.0  (not set)    (not set)  (not set)   \n",
       "2012                    0.0  (not set)    (not set)  (not set)   \n",
       "2781                    0.0  (not set)    (not set)  (not set)   \n",
       "3077                    0.0  (not set)    (not set)  (not set)   \n",
       "...                     ...        ...          ...        ...   \n",
       "250035                  0.0  (not set)    (not set)  (not set)   \n",
       "250612                  0.0  (not set)    (not set)  (not set)   \n",
       "250654                  0.0  (not set)    (not set)  (not set)   \n",
       "251144                  0.0  (not set)    (not set)  (not set)   \n",
       "251665                  0.0  (not set)    (not set)  (not set)   \n",
       "\n",
       "              traffic_source traffic_medium    keyword         referral_path  \n",
       "978                   google            cpc  Category9                   NaN  \n",
       "1065                (direct)         (none)        NaN                   NaN  \n",
       "2012                (direct)         (none)        NaN                   NaN  \n",
       "2781                (direct)         (none)        NaN                   NaN  \n",
       "3077                (direct)         (none)        NaN                   NaN  \n",
       "...                      ...            ...        ...                   ...  \n",
       "250035                google        organic  Category8                   NaN  \n",
       "250612  analytics.google.com       referral        NaN   Category3_Path_0013  \n",
       "250654                google        organic  Category8                   NaN  \n",
       "251144           youtube.com       referral        NaN  Category13_Path_0029  \n",
       "251665           youtube.com       referral        NaN  Category11_Path_0088  \n",
       "\n",
       "[336 rows x 19 columns]"
      ]
     },
     "execution_count": 85,
     "metadata": {},
     "output_type": "execute_result"
    }
   ],
   "source": [
    "train.query('country==\"(not set)\"')"
   ]
  },
  {
   "cell_type": "code",
   "execution_count": 86,
   "metadata": {},
   "outputs": [
    {
     "data": {
      "text/html": [
       "<div>\n",
       "<style scoped>\n",
       "    .dataframe tbody tr th:only-of-type {\n",
       "        vertical-align: middle;\n",
       "    }\n",
       "\n",
       "    .dataframe tbody tr th {\n",
       "        vertical-align: top;\n",
       "    }\n",
       "\n",
       "    .dataframe thead th {\n",
       "        text-align: right;\n",
       "    }\n",
       "</style>\n",
       "<table border=\"1\" class=\"dataframe\">\n",
       "  <thead>\n",
       "    <tr style=\"text-align: right;\">\n",
       "      <th></th>\n",
       "      <th>sessionID</th>\n",
       "      <th>userID</th>\n",
       "      <th>browser</th>\n",
       "      <th>OS</th>\n",
       "      <th>device</th>\n",
       "      <th>new</th>\n",
       "      <th>quality</th>\n",
       "      <th>duration</th>\n",
       "      <th>bounced</th>\n",
       "      <th>transaction</th>\n",
       "      <th>transaction_revenue</th>\n",
       "      <th>continent</th>\n",
       "      <th>subcontinent</th>\n",
       "      <th>country</th>\n",
       "      <th>traffic_source</th>\n",
       "      <th>traffic_medium</th>\n",
       "      <th>keyword</th>\n",
       "      <th>referral_path</th>\n",
       "    </tr>\n",
       "  </thead>\n",
       "  <tbody>\n",
       "    <tr>\n",
       "      <th>538</th>\n",
       "      <td>SESSION_252827</td>\n",
       "      <td>USER_206517</td>\n",
       "      <td>Internet Explorer</td>\n",
       "      <td>Windows</td>\n",
       "      <td>desktop</td>\n",
       "      <td>1</td>\n",
       "      <td>1.0</td>\n",
       "      <td>194.0</td>\n",
       "      <td>0</td>\n",
       "      <td>0.0</td>\n",
       "      <td>0.0</td>\n",
       "      <td>(not set)</td>\n",
       "      <td>(not set)</td>\n",
       "      <td>(not set)</td>\n",
       "      <td>google</td>\n",
       "      <td>organic</td>\n",
       "      <td>Category2_Keyword_622</td>\n",
       "      <td>NaN</td>\n",
       "    </tr>\n",
       "    <tr>\n",
       "      <th>1465</th>\n",
       "      <td>SESSION_253754</td>\n",
       "      <td>USER_108579</td>\n",
       "      <td>Android Webview</td>\n",
       "      <td>Android</td>\n",
       "      <td>mobile</td>\n",
       "      <td>0</td>\n",
       "      <td>1.0</td>\n",
       "      <td>0.0</td>\n",
       "      <td>1</td>\n",
       "      <td>0.0</td>\n",
       "      <td>0.0</td>\n",
       "      <td>(not set)</td>\n",
       "      <td>(not set)</td>\n",
       "      <td>(not set)</td>\n",
       "      <td>away.vk.com</td>\n",
       "      <td>referral</td>\n",
       "      <td>NaN</td>\n",
       "      <td>Category6_Path_0930</td>\n",
       "    </tr>\n",
       "    <tr>\n",
       "      <th>3894</th>\n",
       "      <td>SESSION_256183</td>\n",
       "      <td>USER_209473</td>\n",
       "      <td>Chrome</td>\n",
       "      <td>Android</td>\n",
       "      <td>mobile</td>\n",
       "      <td>1</td>\n",
       "      <td>1.0</td>\n",
       "      <td>0.0</td>\n",
       "      <td>1</td>\n",
       "      <td>0.0</td>\n",
       "      <td>0.0</td>\n",
       "      <td>(not set)</td>\n",
       "      <td>(not set)</td>\n",
       "      <td>(not set)</td>\n",
       "      <td>(direct)</td>\n",
       "      <td>(none)</td>\n",
       "      <td>NaN</td>\n",
       "      <td>NaN</td>\n",
       "    </tr>\n",
       "    <tr>\n",
       "      <th>4217</th>\n",
       "      <td>SESSION_256506</td>\n",
       "      <td>USER_209744</td>\n",
       "      <td>Chrome</td>\n",
       "      <td>Android</td>\n",
       "      <td>mobile</td>\n",
       "      <td>1</td>\n",
       "      <td>1.0</td>\n",
       "      <td>0.0</td>\n",
       "      <td>1</td>\n",
       "      <td>0.0</td>\n",
       "      <td>0.0</td>\n",
       "      <td>(not set)</td>\n",
       "      <td>(not set)</td>\n",
       "      <td>(not set)</td>\n",
       "      <td>(direct)</td>\n",
       "      <td>(none)</td>\n",
       "      <td>NaN</td>\n",
       "      <td>NaN</td>\n",
       "    </tr>\n",
       "    <tr>\n",
       "      <th>5476</th>\n",
       "      <td>SESSION_257765</td>\n",
       "      <td>USER_210785</td>\n",
       "      <td>Chrome</td>\n",
       "      <td>Macintosh</td>\n",
       "      <td>desktop</td>\n",
       "      <td>1</td>\n",
       "      <td>2.0</td>\n",
       "      <td>1214.0</td>\n",
       "      <td>0</td>\n",
       "      <td>0.0</td>\n",
       "      <td>0.0</td>\n",
       "      <td>(not set)</td>\n",
       "      <td>(not set)</td>\n",
       "      <td>(not set)</td>\n",
       "      <td>google</td>\n",
       "      <td>organic</td>\n",
       "      <td>Category8</td>\n",
       "      <td>NaN</td>\n",
       "    </tr>\n",
       "    <tr>\n",
       "      <th>...</th>\n",
       "      <td>...</td>\n",
       "      <td>...</td>\n",
       "      <td>...</td>\n",
       "      <td>...</td>\n",
       "      <td>...</td>\n",
       "      <td>...</td>\n",
       "      <td>...</td>\n",
       "      <td>...</td>\n",
       "      <td>...</td>\n",
       "      <td>...</td>\n",
       "      <td>...</td>\n",
       "      <td>...</td>\n",
       "      <td>...</td>\n",
       "      <td>...</td>\n",
       "      <td>...</td>\n",
       "      <td>...</td>\n",
       "      <td>...</td>\n",
       "      <td>...</td>\n",
       "    </tr>\n",
       "    <tr>\n",
       "      <th>77913</th>\n",
       "      <td>SESSION_330202</td>\n",
       "      <td>USER_267509</td>\n",
       "      <td>Chrome</td>\n",
       "      <td>Linux</td>\n",
       "      <td>desktop</td>\n",
       "      <td>1</td>\n",
       "      <td>1.0</td>\n",
       "      <td>0.0</td>\n",
       "      <td>1</td>\n",
       "      <td>0.0</td>\n",
       "      <td>0.0</td>\n",
       "      <td>(not set)</td>\n",
       "      <td>(not set)</td>\n",
       "      <td>(not set)</td>\n",
       "      <td>dfa</td>\n",
       "      <td>cpm</td>\n",
       "      <td>NaN</td>\n",
       "      <td>NaN</td>\n",
       "    </tr>\n",
       "    <tr>\n",
       "      <th>78628</th>\n",
       "      <td>SESSION_330917</td>\n",
       "      <td>USER_268093</td>\n",
       "      <td>Chrome</td>\n",
       "      <td>Windows</td>\n",
       "      <td>desktop</td>\n",
       "      <td>1</td>\n",
       "      <td>1.0</td>\n",
       "      <td>0.0</td>\n",
       "      <td>1</td>\n",
       "      <td>0.0</td>\n",
       "      <td>0.0</td>\n",
       "      <td>(not set)</td>\n",
       "      <td>(not set)</td>\n",
       "      <td>(not set)</td>\n",
       "      <td>youtube.com</td>\n",
       "      <td>referral</td>\n",
       "      <td>NaN</td>\n",
       "      <td>Category11_Path_0236</td>\n",
       "    </tr>\n",
       "    <tr>\n",
       "      <th>78973</th>\n",
       "      <td>SESSION_331262</td>\n",
       "      <td>USER_268093</td>\n",
       "      <td>Chrome</td>\n",
       "      <td>Windows</td>\n",
       "      <td>desktop</td>\n",
       "      <td>0</td>\n",
       "      <td>1.0</td>\n",
       "      <td>0.0</td>\n",
       "      <td>1</td>\n",
       "      <td>0.0</td>\n",
       "      <td>0.0</td>\n",
       "      <td>(not set)</td>\n",
       "      <td>(not set)</td>\n",
       "      <td>(not set)</td>\n",
       "      <td>youtube.com</td>\n",
       "      <td>referral</td>\n",
       "      <td>NaN</td>\n",
       "      <td>Category11_Path_0236</td>\n",
       "    </tr>\n",
       "    <tr>\n",
       "      <th>79105</th>\n",
       "      <td>SESSION_331394</td>\n",
       "      <td>USER_268093</td>\n",
       "      <td>Chrome</td>\n",
       "      <td>Windows</td>\n",
       "      <td>desktop</td>\n",
       "      <td>0</td>\n",
       "      <td>1.0</td>\n",
       "      <td>0.0</td>\n",
       "      <td>1</td>\n",
       "      <td>0.0</td>\n",
       "      <td>0.0</td>\n",
       "      <td>(not set)</td>\n",
       "      <td>(not set)</td>\n",
       "      <td>(not set)</td>\n",
       "      <td>youtube.com</td>\n",
       "      <td>referral</td>\n",
       "      <td>NaN</td>\n",
       "      <td>Category11_Path_0236</td>\n",
       "    </tr>\n",
       "    <tr>\n",
       "      <th>79214</th>\n",
       "      <td>SESSION_331503</td>\n",
       "      <td>USER_268562</td>\n",
       "      <td>Chrome</td>\n",
       "      <td>Linux</td>\n",
       "      <td>desktop</td>\n",
       "      <td>1</td>\n",
       "      <td>1.0</td>\n",
       "      <td>0.0</td>\n",
       "      <td>1</td>\n",
       "      <td>0.0</td>\n",
       "      <td>0.0</td>\n",
       "      <td>(not set)</td>\n",
       "      <td>(not set)</td>\n",
       "      <td>(not set)</td>\n",
       "      <td>dfa</td>\n",
       "      <td>cpm</td>\n",
       "      <td>NaN</td>\n",
       "      <td>NaN</td>\n",
       "    </tr>\n",
       "  </tbody>\n",
       "</table>\n",
       "<p>97 rows × 18 columns</p>\n",
       "</div>"
      ],
      "text/plain": [
       "            sessionID       userID            browser         OS   device  \\\n",
       "538    SESSION_252827  USER_206517  Internet Explorer    Windows  desktop   \n",
       "1465   SESSION_253754  USER_108579    Android Webview    Android   mobile   \n",
       "3894   SESSION_256183  USER_209473             Chrome    Android   mobile   \n",
       "4217   SESSION_256506  USER_209744             Chrome    Android   mobile   \n",
       "5476   SESSION_257765  USER_210785             Chrome  Macintosh  desktop   \n",
       "...               ...          ...                ...        ...      ...   \n",
       "77913  SESSION_330202  USER_267509             Chrome      Linux  desktop   \n",
       "78628  SESSION_330917  USER_268093             Chrome    Windows  desktop   \n",
       "78973  SESSION_331262  USER_268093             Chrome    Windows  desktop   \n",
       "79105  SESSION_331394  USER_268093             Chrome    Windows  desktop   \n",
       "79214  SESSION_331503  USER_268562             Chrome      Linux  desktop   \n",
       "\n",
       "       new  quality  duration  bounced  transaction  transaction_revenue  \\\n",
       "538      1      1.0     194.0        0          0.0                  0.0   \n",
       "1465     0      1.0       0.0        1          0.0                  0.0   \n",
       "3894     1      1.0       0.0        1          0.0                  0.0   \n",
       "4217     1      1.0       0.0        1          0.0                  0.0   \n",
       "5476     1      2.0    1214.0        0          0.0                  0.0   \n",
       "...    ...      ...       ...      ...          ...                  ...   \n",
       "77913    1      1.0       0.0        1          0.0                  0.0   \n",
       "78628    1      1.0       0.0        1          0.0                  0.0   \n",
       "78973    0      1.0       0.0        1          0.0                  0.0   \n",
       "79105    0      1.0       0.0        1          0.0                  0.0   \n",
       "79214    1      1.0       0.0        1          0.0                  0.0   \n",
       "\n",
       "       continent subcontinent    country traffic_source traffic_medium  \\\n",
       "538    (not set)    (not set)  (not set)         google        organic   \n",
       "1465   (not set)    (not set)  (not set)    away.vk.com       referral   \n",
       "3894   (not set)    (not set)  (not set)       (direct)         (none)   \n",
       "4217   (not set)    (not set)  (not set)       (direct)         (none)   \n",
       "5476   (not set)    (not set)  (not set)         google        organic   \n",
       "...          ...          ...        ...            ...            ...   \n",
       "77913  (not set)    (not set)  (not set)            dfa            cpm   \n",
       "78628  (not set)    (not set)  (not set)    youtube.com       referral   \n",
       "78973  (not set)    (not set)  (not set)    youtube.com       referral   \n",
       "79105  (not set)    (not set)  (not set)    youtube.com       referral   \n",
       "79214  (not set)    (not set)  (not set)            dfa            cpm   \n",
       "\n",
       "                     keyword         referral_path  \n",
       "538    Category2_Keyword_622                   NaN  \n",
       "1465                     NaN   Category6_Path_0930  \n",
       "3894                     NaN                   NaN  \n",
       "4217                     NaN                   NaN  \n",
       "5476               Category8                   NaN  \n",
       "...                      ...                   ...  \n",
       "77913                    NaN                   NaN  \n",
       "78628                    NaN  Category11_Path_0236  \n",
       "78973                    NaN  Category11_Path_0236  \n",
       "79105                    NaN  Category11_Path_0236  \n",
       "79214                    NaN                   NaN  \n",
       "\n",
       "[97 rows x 18 columns]"
      ]
     },
     "execution_count": 86,
     "metadata": {},
     "output_type": "execute_result"
    }
   ],
   "source": [
    "test.query('country==\"(not set)\"')"
   ]
  },
  {
   "cell_type": "code",
   "execution_count": 43,
   "metadata": {},
   "outputs": [
    {
     "data": {
      "text/plain": [
       "sessionID                   0\n",
       "userID                      0\n",
       "TARGET                      0\n",
       "browser                     0\n",
       "OS                          0\n",
       "device                      0\n",
       "new                         0\n",
       "quality                     0\n",
       "duration                    0\n",
       "bounced                     0\n",
       "transaction                 0\n",
       "transaction_revenue         0\n",
       "continent                   0\n",
       "subcontinent                0\n",
       "country                     0\n",
       "traffic_source              0\n",
       "traffic_medium              0\n",
       "keyword                137675\n",
       "referral_path          161107\n",
       "dtype: int64"
      ]
     },
     "execution_count": 43,
     "metadata": {},
     "output_type": "execute_result"
    }
   ],
   "source": [
    "train.isna().sum()"
   ]
  },
  {
   "cell_type": "code",
   "execution_count": 46,
   "metadata": {},
   "outputs": [
    {
     "data": {
      "text/plain": [
       "referral    70047\n",
       "(none)      21135\n",
       "Name: traffic_medium, dtype: int64"
      ]
     },
     "execution_count": 46,
     "metadata": {},
     "output_type": "execute_result"
    }
   ],
   "source": [
    "train[train['referral_path'].notna()].traffic_medium.value_counts()"
   ]
  },
  {
   "cell_type": "code",
   "execution_count": 52,
   "metadata": {},
   "outputs": [],
   "source": [
    "ease[['RP_c', 'RP_n']] = train['referral_path'].str.split('_', expand=True)[[0,2]]"
   ]
  },
  {
   "cell_type": "code",
   "execution_count": 54,
   "metadata": {},
   "outputs": [
    {
     "data": {
      "text/plain": [
       "1    1577\n",
       "Name: RP_c, dtype: int64"
      ]
     },
     "execution_count": 54,
     "metadata": {},
     "output_type": "execute_result"
    }
   ],
   "source": [
    "ease.groupby('RP_n')['RP_c'].nunique().value_counts()"
   ]
  },
  {
   "cell_type": "code",
   "execution_count": 57,
   "metadata": {},
   "outputs": [
    {
     "data": {
      "text/html": [
       "<div>\n",
       "<style scoped>\n",
       "    .dataframe tbody tr th:only-of-type {\n",
       "        vertical-align: middle;\n",
       "    }\n",
       "\n",
       "    .dataframe tbody tr th {\n",
       "        vertical-align: top;\n",
       "    }\n",
       "\n",
       "    .dataframe thead th {\n",
       "        text-align: right;\n",
       "    }\n",
       "</style>\n",
       "<table border=\"1\" class=\"dataframe\">\n",
       "  <thead>\n",
       "    <tr style=\"text-align: right;\">\n",
       "      <th></th>\n",
       "      <th>KW_c</th>\n",
       "      <th>RP_c</th>\n",
       "    </tr>\n",
       "  </thead>\n",
       "  <tbody>\n",
       "    <tr>\n",
       "      <th>0</th>\n",
       "      <td>Category8</td>\n",
       "      <td>NaN</td>\n",
       "    </tr>\n",
       "    <tr>\n",
       "      <th>2</th>\n",
       "      <td>NaN</td>\n",
       "      <td>NaN</td>\n",
       "    </tr>\n",
       "    <tr>\n",
       "      <th>4</th>\n",
       "      <td>NaN</td>\n",
       "      <td>Category6</td>\n",
       "    </tr>\n",
       "    <tr>\n",
       "      <th>5</th>\n",
       "      <td>Category9</td>\n",
       "      <td>NaN</td>\n",
       "    </tr>\n",
       "    <tr>\n",
       "      <th>6</th>\n",
       "      <td>NaN</td>\n",
       "      <td>Category7</td>\n",
       "    </tr>\n",
       "    <tr>\n",
       "      <th>8</th>\n",
       "      <td>NaN</td>\n",
       "      <td>Category5</td>\n",
       "    </tr>\n",
       "    <tr>\n",
       "      <th>9</th>\n",
       "      <td>Category1</td>\n",
       "      <td>NaN</td>\n",
       "    </tr>\n",
       "    <tr>\n",
       "      <th>12</th>\n",
       "      <td>NaN</td>\n",
       "      <td>Category11</td>\n",
       "    </tr>\n",
       "    <tr>\n",
       "      <th>18</th>\n",
       "      <td>NaN</td>\n",
       "      <td>Category8</td>\n",
       "    </tr>\n",
       "    <tr>\n",
       "      <th>19</th>\n",
       "      <td>Category10</td>\n",
       "      <td>NaN</td>\n",
       "    </tr>\n",
       "    <tr>\n",
       "      <th>28</th>\n",
       "      <td>NaN</td>\n",
       "      <td>Category9</td>\n",
       "    </tr>\n",
       "    <tr>\n",
       "      <th>34</th>\n",
       "      <td>NaN</td>\n",
       "      <td>Category13</td>\n",
       "    </tr>\n",
       "    <tr>\n",
       "      <th>35</th>\n",
       "      <td>NaN</td>\n",
       "      <td>Category1</td>\n",
       "    </tr>\n",
       "    <tr>\n",
       "      <th>63</th>\n",
       "      <td>NaN</td>\n",
       "      <td>Category2</td>\n",
       "    </tr>\n",
       "    <tr>\n",
       "      <th>82</th>\n",
       "      <td>Category6</td>\n",
       "      <td>NaN</td>\n",
       "    </tr>\n",
       "    <tr>\n",
       "      <th>90</th>\n",
       "      <td>Category2</td>\n",
       "      <td>NaN</td>\n",
       "    </tr>\n",
       "    <tr>\n",
       "      <th>112</th>\n",
       "      <td>NaN</td>\n",
       "      <td>Category3</td>\n",
       "    </tr>\n",
       "    <tr>\n",
       "      <th>142</th>\n",
       "      <td>NaN</td>\n",
       "      <td>Category4</td>\n",
       "    </tr>\n",
       "    <tr>\n",
       "      <th>217</th>\n",
       "      <td>NaN</td>\n",
       "      <td>Category12</td>\n",
       "    </tr>\n",
       "    <tr>\n",
       "      <th>382</th>\n",
       "      <td>Category11</td>\n",
       "      <td>NaN</td>\n",
       "    </tr>\n",
       "    <tr>\n",
       "      <th>507</th>\n",
       "      <td>Category4</td>\n",
       "      <td>NaN</td>\n",
       "    </tr>\n",
       "    <tr>\n",
       "      <th>833</th>\n",
       "      <td>Category3</td>\n",
       "      <td>NaN</td>\n",
       "    </tr>\n",
       "    <tr>\n",
       "      <th>11125</th>\n",
       "      <td>Category5</td>\n",
       "      <td>NaN</td>\n",
       "    </tr>\n",
       "    <tr>\n",
       "      <th>20169</th>\n",
       "      <td>Category12</td>\n",
       "      <td>NaN</td>\n",
       "    </tr>\n",
       "    <tr>\n",
       "      <th>20226</th>\n",
       "      <td>Category7</td>\n",
       "      <td>NaN</td>\n",
       "    </tr>\n",
       "    <tr>\n",
       "      <th>240230</th>\n",
       "      <td>NaN</td>\n",
       "      <td>Category10</td>\n",
       "    </tr>\n",
       "  </tbody>\n",
       "</table>\n",
       "</div>"
      ],
      "text/plain": [
       "              KW_c        RP_c\n",
       "0        Category8         NaN\n",
       "2              NaN         NaN\n",
       "4              NaN   Category6\n",
       "5        Category9         NaN\n",
       "6              NaN   Category7\n",
       "8              NaN   Category5\n",
       "9        Category1         NaN\n",
       "12             NaN  Category11\n",
       "18             NaN   Category8\n",
       "19      Category10         NaN\n",
       "28             NaN   Category9\n",
       "34             NaN  Category13\n",
       "35             NaN   Category1\n",
       "63             NaN   Category2\n",
       "82       Category6         NaN\n",
       "90       Category2         NaN\n",
       "112            NaN   Category3\n",
       "142            NaN   Category4\n",
       "217            NaN  Category12\n",
       "382     Category11         NaN\n",
       "507      Category4         NaN\n",
       "833      Category3         NaN\n",
       "11125    Category5         NaN\n",
       "20169   Category12         NaN\n",
       "20226    Category7         NaN\n",
       "240230         NaN  Category10"
      ]
     },
     "execution_count": 57,
     "metadata": {},
     "output_type": "execute_result"
    }
   ],
   "source": [
    "ease[['KW_c','RP_c']].drop_duplicates()"
   ]
  },
  {
   "cell_type": "code",
   "execution_count": 69,
   "metadata": {},
   "outputs": [
    {
     "data": {
      "text/plain": [
       "traffic_source\n",
       "(direct)                       [(none), cpm]\n",
       "Partners                         [affiliate]\n",
       "adwords.google.com                [referral]\n",
       "amp.reddit.com                    [referral]\n",
       "analytics.google.com              [referral]\n",
       "                                   ...      \n",
       "wikihow.com                       [referral]\n",
       "yahoo                              [organic]\n",
       "yandex                             [organic]\n",
       "youtube.com                       [referral]\n",
       "youtube.thinkwithgoogle.com       [referral]\n",
       "Name: traffic_medium, Length: 168, dtype: object"
      ]
     },
     "execution_count": 69,
     "metadata": {},
     "output_type": "execute_result"
    }
   ],
   "source": [
    "train.groupby('traffic_source')['traffic_medium'].unique()"
   ]
  },
  {
   "cell_type": "code",
   "execution_count": 70,
   "metadata": {},
   "outputs": [
    {
     "data": {
      "text/plain": [
       "array(['google', 'dfa', '(direct)'], dtype=object)"
      ]
     },
     "execution_count": 70,
     "metadata": {},
     "output_type": "execute_result"
    }
   ],
   "source": [
    "train.query('traffic_medium==\"cpm\"')['traffic_source'].unique()"
   ]
  },
  {
   "cell_type": "code",
   "execution_count": 72,
   "metadata": {},
   "outputs": [
    {
     "data": {
      "text/plain": [
       "traffic_medium\n",
       "(none)                                              [(direct)]\n",
       "affiliate                                           [Partners]\n",
       "cpc                                                   [google]\n",
       "cpm                                    [google, dfa, (direct)]\n",
       "organic              [google, bing, baidu, yahoo, ask, yandex]\n",
       "referral     [groups.google.com, youtube.com, google.com, g...\n",
       "Name: traffic_source, dtype: object"
      ]
     },
     "execution_count": 72,
     "metadata": {},
     "output_type": "execute_result"
    }
   ],
   "source": [
    "train.groupby('traffic_medium')['traffic_source'].unique()"
   ]
  },
  {
   "cell_type": "code",
   "execution_count": 78,
   "metadata": {},
   "outputs": [],
   "source": [
    "ease2 = train.query('traffic_medium==\"referral\"')[['country','traffic_source']].drop_duplicates()"
   ]
  },
  {
   "cell_type": "code",
   "execution_count": 81,
   "metadata": {},
   "outputs": [
    {
     "data": {
      "text/plain": [
       "traffic_source\n",
       "adwords.google.com             False\n",
       "amp.reddit.com                  True\n",
       "analytics.google.com           False\n",
       "arstechnica.com                False\n",
       "au.search.yahoo.com            False\n",
       "                               ...  \n",
       "web.telegram.org               False\n",
       "web.whatsapp.com                True\n",
       "wikihow.com                     True\n",
       "youtube.com                    False\n",
       "youtube.thinkwithgoogle.com    False\n",
       "Name: country, Length: 159, dtype: bool"
      ]
     },
     "execution_count": 81,
     "metadata": {},
     "output_type": "execute_result"
    }
   ],
   "source": [
    "ease2.groupby('traffic_source')['country'].nunique() == 2"
   ]
  },
  {
   "cell_type": "code",
   "execution_count": 83,
   "metadata": {},
   "outputs": [
    {
     "data": {
      "text/plain": [
       "country\n",
       "(not set)      [youtube.com, keep.google.com, analytics.googl...\n",
       "Afghanistan                                        [youtube.com]\n",
       "Albania                                [youtube.com, google.com]\n",
       "Algeria        [youtube.com, google.com, lisham-web.blogspot....\n",
       "Andorra                                            [youtube.com]\n",
       "                                     ...                        \n",
       "Venezuela      [youtube.com, support.google.com, mail.google....\n",
       "Vietnam        [youtube.com, analytics.google.com, m.facebook...\n",
       "Yemen                                              [youtube.com]\n",
       "Zambia                                             [youtube.com]\n",
       "Zimbabwe                                           [youtube.com]\n",
       "Name: traffic_source, Length: 193, dtype: object"
      ]
     },
     "execution_count": 83,
     "metadata": {},
     "output_type": "execute_result"
    }
   ],
   "source": [
    "ease2.groupby('country')['traffic_source'].unique()"
   ]
  },
  {
   "cell_type": "code",
   "execution_count": 94,
   "metadata": {},
   "outputs": [],
   "source": [
    "common_portal = ['google', '(direct)', 'youtube.com', 'analytics.google.com', 'Partners',\n",
    "                 'sites.google.com', 'google.com', 'bing', 'reddit.com', 'qiita.com','yahoo']"
   ]
  },
  {
   "cell_type": "code",
   "execution_count": 95,
   "metadata": {},
   "outputs": [
    {
     "data": {
      "text/plain": [
       "country\n",
       "(not set)               [dfa, keep.google.com, quora.com, baidu, mail....\n",
       "Algeria                        [lisham-web.blogspot.com, mail.google.com]\n",
       "Argentina               [blog.golang.org, productforums.google.com, go...\n",
       "Armenia                                             [away.vk.com, yandex]\n",
       "Australia               [googleads.g.doubleclick.net, dfa, lunametrics...\n",
       "                                              ...                        \n",
       "United Arab Emirates       [quora.com, t.co, youtube.thinkwithgoogle.com]\n",
       "United Kingdom          [yahoo, blog.golang.org, support.google.com, m...\n",
       "United States           [groups.google.com, pinterest.com, mail.google...\n",
       "Venezuela                           [support.google.com, mail.google.com]\n",
       "Vietnam                 [m.facebook.com, l.facebook.com, mail.google.c...\n",
       "Name: traffic_source, Length: 107, dtype: object"
      ]
     },
     "execution_count": 95,
     "metadata": {},
     "output_type": "execute_result"
    }
   ],
   "source": [
    "train.query('traffic_source not in @common_portal').groupby('country')['traffic_source'].unique()"
   ]
  },
  {
   "cell_type": "code",
   "execution_count": 98,
   "metadata": {},
   "outputs": [],
   "source": [
    "ease3 = train[train['traffic_source'].apply(lambda x: 'facebook' in x)]"
   ]
  },
  {
   "cell_type": "code",
   "execution_count": 104,
   "metadata": {},
   "outputs": [
    {
     "data": {
      "text/plain": [
       "traffic_source\n",
       "business.facebook.com                                             [France]\n",
       "facebook.com             [Taiwan, Israel, Canada, Germany, Netherlands,...\n",
       "fr-fr.facebook.com                                                [France]\n",
       "l.facebook.com           [Ukraine, United States, Israel, Portugal, Tai...\n",
       "lm.facebook.com          [Bahamas, United States, India, Germany, Finla...\n",
       "m.facebook.com           [United States, Vietnam, Taiwan, France, Malay...\n",
       "web.facebook.com                                                  [Poland]\n",
       "Name: country, dtype: object"
      ]
     },
     "execution_count": 104,
     "metadata": {},
     "output_type": "execute_result"
    }
   ],
   "source": [
    "ease3.groupby('traffic_source')['country'].unique()"
   ]
  },
  {
   "cell_type": "code",
   "execution_count": 88,
   "metadata": {},
   "outputs": [
    {
     "data": {
      "text/plain": [
       "Index(['google', '(direct)', 'youtube.com', 'analytics.google.com', 'Partners',\n",
       "       'sites.google.com', 'google.com', 'bing', 'reddit.com', 'qiita.com'],\n",
       "      dtype='object')"
      ]
     },
     "execution_count": 88,
     "metadata": {},
     "output_type": "execute_result"
    }
   ],
   "source": [
    "train.traffic_source.value_counts().head(10).index"
   ]
  },
  {
   "cell_type": "code",
   "execution_count": 84,
   "metadata": {},
   "outputs": [
    {
     "data": {
      "text/plain": [
       "sessionID                 0\n",
       "userID                    0\n",
       "TARGET                    0\n",
       "browser                   0\n",
       "OS                     2592\n",
       "device                    0\n",
       "new                       0\n",
       "quality                   0\n",
       "duration                  0\n",
       "bounced                   0\n",
       "transaction               0\n",
       "transaction_revenue       0\n",
       "continent               336\n",
       "subcontinent            336\n",
       "country                 336\n",
       "traffic_source            0\n",
       "traffic_medium            0\n",
       "keyword                   0\n",
       "referral_path             0\n",
       "dtype: int64"
      ]
     },
     "execution_count": 84,
     "metadata": {},
     "output_type": "execute_result"
    }
   ],
   "source": [
    "train.applymap(lambda x: x==\"(not set)\").sum()"
   ]
  },
  {
   "cell_type": "code",
   "execution_count": 80,
   "metadata": {
    "scrolled": true
   },
   "outputs": [
    {
     "ename": "IndexingError",
     "evalue": "Unalignable boolean Series provided as indexer (index of the boolean Series and of the indexed object do not match).",
     "output_type": "error",
     "traceback": [
      "\u001b[1;31m---------------------------------------------------------------------------\u001b[0m",
      "\u001b[1;31mIndexingError\u001b[0m                             Traceback (most recent call last)",
      "\u001b[1;32m~\\AppData\\Local\\Temp/ipykernel_9816/3253724101.py\u001b[0m in \u001b[0;36m<module>\u001b[1;34m\u001b[0m\n\u001b[1;32m----> 1\u001b[1;33m \u001b[0mease2\u001b[0m\u001b[1;33m[\u001b[0m\u001b[0mease2\u001b[0m\u001b[1;33m.\u001b[0m\u001b[0mgroupby\u001b[0m\u001b[1;33m(\u001b[0m\u001b[1;34m'traffic_source'\u001b[0m\u001b[1;33m)\u001b[0m\u001b[1;33m[\u001b[0m\u001b[1;34m'country'\u001b[0m\u001b[1;33m]\u001b[0m\u001b[1;33m.\u001b[0m\u001b[0mnunique\u001b[0m\u001b[1;33m(\u001b[0m\u001b[1;33m)\u001b[0m \u001b[1;33m==\u001b[0m \u001b[1;36m2\u001b[0m\u001b[1;33m]\u001b[0m\u001b[1;33m\u001b[0m\u001b[1;33m\u001b[0m\u001b[0m\n\u001b[0m",
      "\u001b[1;32m~\\Anaconda3\\lib\\site-packages\\pandas\\core\\frame.py\u001b[0m in \u001b[0;36m__getitem__\u001b[1;34m(self, key)\u001b[0m\n\u001b[0;32m   3494\u001b[0m         \u001b[1;31m# Do we have a (boolean) 1d indexer?\u001b[0m\u001b[1;33m\u001b[0m\u001b[1;33m\u001b[0m\u001b[0m\n\u001b[0;32m   3495\u001b[0m         \u001b[1;32mif\u001b[0m \u001b[0mcom\u001b[0m\u001b[1;33m.\u001b[0m\u001b[0mis_bool_indexer\u001b[0m\u001b[1;33m(\u001b[0m\u001b[0mkey\u001b[0m\u001b[1;33m)\u001b[0m\u001b[1;33m:\u001b[0m\u001b[1;33m\u001b[0m\u001b[1;33m\u001b[0m\u001b[0m\n\u001b[1;32m-> 3496\u001b[1;33m             \u001b[1;32mreturn\u001b[0m \u001b[0mself\u001b[0m\u001b[1;33m.\u001b[0m\u001b[0m_getitem_bool_array\u001b[0m\u001b[1;33m(\u001b[0m\u001b[0mkey\u001b[0m\u001b[1;33m)\u001b[0m\u001b[1;33m\u001b[0m\u001b[1;33m\u001b[0m\u001b[0m\n\u001b[0m\u001b[0;32m   3497\u001b[0m \u001b[1;33m\u001b[0m\u001b[0m\n\u001b[0;32m   3498\u001b[0m         \u001b[1;31m# We are left with two options: a single key, and a collection of keys,\u001b[0m\u001b[1;33m\u001b[0m\u001b[1;33m\u001b[0m\u001b[0m\n",
      "\u001b[1;32m~\\Anaconda3\\lib\\site-packages\\pandas\\core\\frame.py\u001b[0m in \u001b[0;36m_getitem_bool_array\u001b[1;34m(self, key)\u001b[0m\n\u001b[0;32m   3547\u001b[0m         \u001b[1;31m# check_bool_indexer will throw exception if Series key cannot\u001b[0m\u001b[1;33m\u001b[0m\u001b[1;33m\u001b[0m\u001b[0m\n\u001b[0;32m   3548\u001b[0m         \u001b[1;31m# be reindexed to match DataFrame rows\u001b[0m\u001b[1;33m\u001b[0m\u001b[1;33m\u001b[0m\u001b[0m\n\u001b[1;32m-> 3549\u001b[1;33m         \u001b[0mkey\u001b[0m \u001b[1;33m=\u001b[0m \u001b[0mcheck_bool_indexer\u001b[0m\u001b[1;33m(\u001b[0m\u001b[0mself\u001b[0m\u001b[1;33m.\u001b[0m\u001b[0mindex\u001b[0m\u001b[1;33m,\u001b[0m \u001b[0mkey\u001b[0m\u001b[1;33m)\u001b[0m\u001b[1;33m\u001b[0m\u001b[1;33m\u001b[0m\u001b[0m\n\u001b[0m\u001b[0;32m   3550\u001b[0m         \u001b[0mindexer\u001b[0m \u001b[1;33m=\u001b[0m \u001b[0mkey\u001b[0m\u001b[1;33m.\u001b[0m\u001b[0mnonzero\u001b[0m\u001b[1;33m(\u001b[0m\u001b[1;33m)\u001b[0m\u001b[1;33m[\u001b[0m\u001b[1;36m0\u001b[0m\u001b[1;33m]\u001b[0m\u001b[1;33m\u001b[0m\u001b[1;33m\u001b[0m\u001b[0m\n\u001b[0;32m   3551\u001b[0m         \u001b[1;32mreturn\u001b[0m \u001b[0mself\u001b[0m\u001b[1;33m.\u001b[0m\u001b[0m_take_with_is_copy\u001b[0m\u001b[1;33m(\u001b[0m\u001b[0mindexer\u001b[0m\u001b[1;33m,\u001b[0m \u001b[0maxis\u001b[0m\u001b[1;33m=\u001b[0m\u001b[1;36m0\u001b[0m\u001b[1;33m)\u001b[0m\u001b[1;33m\u001b[0m\u001b[1;33m\u001b[0m\u001b[0m\n",
      "\u001b[1;32m~\\Anaconda3\\lib\\site-packages\\pandas\\core\\indexing.py\u001b[0m in \u001b[0;36mcheck_bool_indexer\u001b[1;34m(index, key)\u001b[0m\n\u001b[0;32m   2381\u001b[0m         \u001b[0mmask\u001b[0m \u001b[1;33m=\u001b[0m \u001b[0misna\u001b[0m\u001b[1;33m(\u001b[0m\u001b[0mresult\u001b[0m\u001b[1;33m.\u001b[0m\u001b[0m_values\u001b[0m\u001b[1;33m)\u001b[0m\u001b[1;33m\u001b[0m\u001b[1;33m\u001b[0m\u001b[0m\n\u001b[0;32m   2382\u001b[0m         \u001b[1;32mif\u001b[0m \u001b[0mmask\u001b[0m\u001b[1;33m.\u001b[0m\u001b[0many\u001b[0m\u001b[1;33m(\u001b[0m\u001b[1;33m)\u001b[0m\u001b[1;33m:\u001b[0m\u001b[1;33m\u001b[0m\u001b[1;33m\u001b[0m\u001b[0m\n\u001b[1;32m-> 2383\u001b[1;33m             raise IndexingError(\n\u001b[0m\u001b[0;32m   2384\u001b[0m                 \u001b[1;34m\"Unalignable boolean Series provided as \"\u001b[0m\u001b[1;33m\u001b[0m\u001b[1;33m\u001b[0m\u001b[0m\n\u001b[0;32m   2385\u001b[0m                 \u001b[1;34m\"indexer (index of the boolean Series and of \"\u001b[0m\u001b[1;33m\u001b[0m\u001b[1;33m\u001b[0m\u001b[0m\n",
      "\u001b[1;31mIndexingError\u001b[0m: Unalignable boolean Series provided as indexer (index of the boolean Series and of the indexed object do not match)."
     ]
    }
   ],
   "source": [
    "ease2[ease2.groupby('traffic_source')['country'].nunique() == 2]"
   ]
  },
  {
   "cell_type": "code",
   "execution_count": 71,
   "metadata": {},
   "outputs": [
    {
     "data": {
      "text/plain": [
       "array(['google', '(direct)', 'Partners', 'groups.google.com',\n",
       "       'youtube.com', 'google.com', 'bing', 'google.co.jp',\n",
       "       'analytics.google.com', 'baidu', 'quora.com',\n",
       "       'googleads.g.doubleclick.net', 'pinterest.com', 'mail.google.com',\n",
       "       'dealspotr.com', 'qiita.com', 'l.facebook.com', 'reddit.com',\n",
       "       'sites.google.com', 'blog.golang.org', 'support.google.com',\n",
       "       'yahoo', 'dfa', 't.co', 'lunametrics.com', 'docs.google.com',\n",
       "       'adwords.google.com', 's0.2mdn.net', 'm.baidu.com',\n",
       "       'm.facebook.com', 'int.search.tb.ask.com', 'google.com.br',\n",
       "       'google.es', 'arstechnica.com', 'msn.com', 'tw.search.yahoo.com',\n",
       "       'facebook.com', 'google.de', 'hangouts.google.com',\n",
       "       'duckduckgo.com', 'r.search.aol.com', 'my.yahoo.com',\n",
       "       'google.co.za', 'au.search.yahoo.com', 'in.search.yahoo.com',\n",
       "       'outlook.live.com', 'productforums.google.com', 'ask',\n",
       "       'google.co.id', 'google.co.uk', 'myactivity.google.com',\n",
       "       'google.com.ua', 'google.by', 'sashihara.jp', 'm.youtube.com',\n",
       "       'github.com', 'optimize.google.com', 'connect.googleforwork.com',\n",
       "       'ph.search.yahoo.com', 'es.search.yahoo.com', 'google.ru',\n",
       "       'keep.google.com', 'youtube.thinkwithgoogle.com',\n",
       "       'myasucourses.asu.edu', 'google.co.th', 'gophergala.com',\n",
       "       'learn.pct.edu', 'phandroid.com', 'online-metrics.com',\n",
       "       'plus.url.google.com', 'ca.search.yahoo.com', 'evernote.com',\n",
       "       'web.telegram.org', 'search.1and1.com', 'google.nl',\n",
       "       'uk.search.yahoo.com', 'getpocket.com', 'se.search.yahoo.com',\n",
       "       'us.search.yahoo.com', 'lm.facebook.com',\n",
       "       'malaysia.search.yahoo.com', 'bluequill.franklin.edu', 'google.lv',\n",
       "       'feedly.com', 'search.snapdo.com', 'online.fullsail.edu',\n",
       "       'away.vk.com', 'l.messenger.com', 'google.co.nz', 'google.fr',\n",
       "       'so.com', 'google.com.tr', 'kik.com', 'kidrex.org',\n",
       "       'search.tb.ask.com', 'images.google.com', 'mail.yahoo.com',\n",
       "       'google.com.au', 'search.xfinity.com', 'google.com.bd',\n",
       "       'google.be', 'businessinsider.com', 'aulagrado.esic.edu',\n",
       "       'plus.google.com', 'mail1.swic.edu', 'startpage.com',\n",
       "       'learn.colorado.edu', 'web.whatsapp.com',\n",
       "       'lisham-web.blogspot.com', 'google.com.mx', 'nl.search.yahoo.com',\n",
       "       'nl.pinterest.com', 'google.co.in', 'search.mysearch.com',\n",
       "       'de.wow.com', 'google.com.ng', 'google.it', 'google.com.sa',\n",
       "       'google.iq', 'google.com.eg', 'google.co.il', 'google.pl',\n",
       "       'it.search.yahoo.com', 'it.pinterest.com', 'images.google.com.br',\n",
       "       'amp.reddit.com', 'vk.com', 'google.pt', 'cz.pinterest.com',\n",
       "       'google.jo', 'google.ie', 'qc.search.yahoo.com',\n",
       "       'earth.google.com', 'br.search.yahoo.com', 'search.earthlink.net',\n",
       "       'fi.search.yahoo.com', 'google.com.ec', 'web.facebook.com',\n",
       "       'sg.search.yahoo.com', 'linkedin.com', 'ru.pinterest.com',\n",
       "       'ch.search.yahoo.com', 'mail.aol.com', 'google.com.pk',\n",
       "       'cse.google.com', 'wikihow.com', 'go.mail.ru',\n",
       "       'fr-fr.facebook.com', 'ca-mg5.mail.yahoo.com', 'chatwork.com',\n",
       "       'seroundtable.com', 'google.ca', 'results.searchlock.com',\n",
       "       'es.yhs4.search.yahoo.com', 'cl.search.yahoo.com', 'google.com.tw',\n",
       "       'fr.search.yahoo.com', 'google.com.hk', 'business.facebook.com',\n",
       "       'yandex', 'suche.t-online.de', 'goto.google.com',\n",
       "       'mx.search.yahoo.com', 'marketingland.com',\n",
       "       'espanol.search.yahoo.com', 'basecamp.com',\n",
       "       'blackboard.bentley.edu', 'calendar.google.com'], dtype=object)"
      ]
     },
     "execution_count": 71,
     "metadata": {},
     "output_type": "execute_result"
    }
   ],
   "source": [
    "train.traffic_source.unique()"
   ]
  },
  {
   "cell_type": "code",
   "execution_count": 50,
   "metadata": {},
   "outputs": [
    {
     "data": {
      "text/plain": [
       "array(['Category1', 'Category6_Path_0008', 'Category3_Path_0174',\n",
       "       'Category6_Path_0297', 'Category6_Path_0314',\n",
       "       'Category6_Path_0320', 'Category6_Path_0351',\n",
       "       'Category6_Path_0382', 'Category6_Path_0549',\n",
       "       'Category6_Path_0027', 'Category6_Path_0646',\n",
       "       'Category6_Path_0782', 'Category6_Path_0556',\n",
       "       'Category6_Path_0849', 'Category6_Path_0858',\n",
       "       'Category6_Path_1039', 'Category6_Path_1170',\n",
       "       'Category6_Path_1309', 'Category6_Path_1361',\n",
       "       'Category6_Path_1398', 'Category6_Path_1423',\n",
       "       'Category6_Path_1435', 'Category6_Path_1459',\n",
       "       'Category11_Path_1506', 'Category6_Path_1507',\n",
       "       'Category6_Path_1508', 'Category6_Path_1509',\n",
       "       'Category6_Path_1510', 'Category6_Path_1512',\n",
       "       'Category6_Path_1515', 'Category6_Path_1518',\n",
       "       'Category6_Path_1519', 'Category6_Path_1520',\n",
       "       'Category6_Path_1522', 'Category10_Path_1554',\n",
       "       'Category10_Path_1556'], dtype=object)"
      ]
     },
     "execution_count": 50,
     "metadata": {},
     "output_type": "execute_result"
    }
   ],
   "source": [
    "train[train['referral_path'].notna()].query('traffic_medium == \"(none)\"').referral_path.unique()"
   ]
  },
  {
   "cell_type": "code",
   "execution_count": 51,
   "metadata": {},
   "outputs": [
    {
     "data": {
      "text/plain": [
       "traffic_medium\n",
       "1                 1573\n",
       "2                    5\n",
       "dtype: int64"
      ]
     },
     "execution_count": 51,
     "metadata": {},
     "output_type": "execute_result"
    }
   ],
   "source": [
    "train.groupby('referral_path')[['traffic_medium']].nunique().value_counts()"
   ]
  },
  {
   "cell_type": "code",
   "execution_count": 47,
   "metadata": {},
   "outputs": [
    {
     "data": {
      "text/plain": [
       "organic      107372\n",
       "referral      70047\n",
       "(none)        59022\n",
       "cpc            9978\n",
       "affiliate      5369\n",
       "cpm             501\n",
       "Name: traffic_medium, dtype: int64"
      ]
     },
     "execution_count": 47,
     "metadata": {},
     "output_type": "execute_result"
    }
   ],
   "source": [
    "train.traffic_medium.value_counts()"
   ]
  },
  {
   "cell_type": "code",
   "execution_count": 39,
   "metadata": {},
   "outputs": [
    {
     "data": {
      "text/plain": [
       "1    618\n",
       "Name: 0, dtype: int64"
      ]
     },
     "execution_count": 39,
     "metadata": {},
     "output_type": "execute_result"
    }
   ],
   "source": [
    "ease.groupby(2)[0].nunique().value_counts()"
   ]
  },
  {
   "cell_type": "code",
   "execution_count": 33,
   "metadata": {},
   "outputs": [
    {
     "data": {
      "text/plain": [
       "Category8     103584\n",
       "Category9       3488\n",
       "Category11      1931\n",
       "Category1       1318\n",
       "Category10      1147\n",
       "Category6       1121\n",
       "Category2        769\n",
       "Category4        402\n",
       "Category12       398\n",
       "Category3        298\n",
       "Category5         94\n",
       "Category7         64\n",
       "Name: 0, dtype: int64"
      ]
     },
     "execution_count": 33,
     "metadata": {},
     "output_type": "execute_result"
    }
   ],
   "source": [
    "ease[[0,3]].drop"
   ]
  },
  {
   "cell_type": "code",
   "execution_count": 35,
   "metadata": {},
   "outputs": [
    {
     "data": {
      "text/plain": [
       "Keyword    4066\n",
       "Name: 1, dtype: int64"
      ]
     },
     "execution_count": 35,
     "metadata": {},
     "output_type": "execute_result"
    }
   ],
   "source": [
    "ease[1].value_counts()"
   ]
  },
  {
   "cell_type": "code",
   "execution_count": 36,
   "metadata": {},
   "outputs": [
    {
     "data": {
      "text/plain": [
       "003    634\n",
       "000    387\n",
       "018    288\n",
       "006    250\n",
       "565    219\n",
       "      ... \n",
       "273      1\n",
       "271      1\n",
       "270      1\n",
       "269      1\n",
       "617      1\n",
       "Name: 2, Length: 618, dtype: int64"
      ]
     },
     "execution_count": 36,
     "metadata": {},
     "output_type": "execute_result"
    }
   ],
   "source": [
    "ease[2].value_counts()"
   ]
  },
  {
   "cell_type": "code",
   "execution_count": 27,
   "metadata": {},
   "outputs": [
    {
     "data": {
      "text/plain": [
       "traffic_medium\n",
       "(none)       4.581021\n",
       "affiliate    3.112125\n",
       "cpc          2.911606\n",
       "cpm          3.047904\n",
       "organic      3.842613\n",
       "referral     2.514340\n",
       "Name: TARGET, dtype: float64"
      ]
     },
     "execution_count": 27,
     "metadata": {},
     "output_type": "execute_result"
    }
   ],
   "source": [
    "# target값간의 관계\n",
    "train.groupby('traffic_medium')['TARGET'].mean()"
   ]
  },
  {
   "cell_type": "code",
   "execution_count": 5,
   "metadata": {},
   "outputs": [
    {
     "data": {
      "text/plain": [
       "<AxesSubplot:xlabel='traffic_medium', ylabel='TARGET'>"
      ]
     },
     "execution_count": 5,
     "metadata": {},
     "output_type": "execute_result"
    },
    {
     "data": {
      "image/png": "[encoded data removed]",
      "text/plain": [
       "<Figure size 432x288 with 1 Axes>"
      ]
     },
     "metadata": {
      "needs_background": "light"
     },
     "output_type": "display_data"
    }
   ],
   "source": [
    "sns.barplot(data=data, x='traffic_medium', y='TARGET')"
   ]
  },
  {
   "cell_type": "code",
   "execution_count": 13,
   "metadata": {
    "scrolled": true
   },
   "outputs": [
    {
     "data": {
      "text/plain": [
       "array(['Category10', 'Category11', 'Category12', 'Category1_Keyword_000',\n",
       "       'Category1_Keyword_001', 'Category1_Keyword_002',\n",
       "       'Category1_Keyword_006', 'Category1_Keyword_011',\n",
       "       'Category1_Keyword_017', 'Category1_Keyword_020',\n",
       "       'Category1_Keyword_025', 'Category1_Keyword_027',\n",
       "       'Category1_Keyword_035', 'Category1_Keyword_036',\n",
       "       'Category1_Keyword_037', 'Category1_Keyword_039',\n",
       "       'Category1_Keyword_041', 'Category1_Keyword_042',\n",
       "       'Category1_Keyword_044', 'Category1_Keyword_060',\n",
       "       'Category1_Keyword_062', 'Category1_Keyword_065',\n",
       "       'Category1_Keyword_067', 'Category1_Keyword_069',\n",
       "       'Category1_Keyword_073', 'Category1_Keyword_082',\n",
       "       'Category1_Keyword_083', 'Category1_Keyword_085',\n",
       "       'Category1_Keyword_088', 'Category1_Keyword_090',\n",
       "       'Category1_Keyword_094', 'Category1_Keyword_107',\n",
       "       'Category1_Keyword_112', 'Category1_Keyword_121',\n",
       "       'Category1_Keyword_125', 'Category1_Keyword_126',\n",
       "       'Category1_Keyword_128', 'Category1_Keyword_132',\n",
       "       'Category1_Keyword_137', 'Category1_Keyword_140',\n",
       "       'Category1_Keyword_150', 'Category1_Keyword_151',\n",
       "       'Category1_Keyword_163', 'Category1_Keyword_168',\n",
       "       'Category1_Keyword_178', 'Category1_Keyword_190',\n",
       "       'Category1_Keyword_191', 'Category1_Keyword_196',\n",
       "       'Category1_Keyword_199', 'Category1_Keyword_202',\n",
       "       'Category1_Keyword_207', 'Category1_Keyword_215',\n",
       "       'Category1_Keyword_216', 'Category1_Keyword_217',\n",
       "       'Category1_Keyword_221', 'Category1_Keyword_229',\n",
       "       'Category1_Keyword_232', 'Category1_Keyword_248',\n",
       "       'Category1_Keyword_251', 'Category1_Keyword_260',\n",
       "       'Category1_Keyword_271', 'Category1_Keyword_281',\n",
       "       'Category1_Keyword_303', 'Category1_Keyword_309',\n",
       "       'Category1_Keyword_315', 'Category1_Keyword_323',\n",
       "       'Category1_Keyword_330', 'Category1_Keyword_332',\n",
       "       'Category1_Keyword_333', 'Category1_Keyword_334',\n",
       "       'Category1_Keyword_344', 'Category1_Keyword_345',\n",
       "       'Category1_Keyword_350', 'Category1_Keyword_369',\n",
       "       'Category1_Keyword_376', 'Category1_Keyword_379',\n",
       "       'Category1_Keyword_383', 'Category1_Keyword_386',\n",
       "       'Category1_Keyword_390', 'Category1_Keyword_401',\n",
       "       'Category1_Keyword_403', 'Category1_Keyword_404',\n",
       "       'Category1_Keyword_405', 'Category1_Keyword_413',\n",
       "       'Category1_Keyword_428', 'Category1_Keyword_441',\n",
       "       'Category1_Keyword_443', 'Category1_Keyword_452',\n",
       "       'Category1_Keyword_460', 'Category1_Keyword_464',\n",
       "       'Category1_Keyword_475', 'Category1_Keyword_478',\n",
       "       'Category1_Keyword_497', 'Category1_Keyword_501',\n",
       "       'Category1_Keyword_557', 'Category1_Keyword_574',\n",
       "       'Category1_Keyword_584', 'Category1_Keyword_587',\n",
       "       'Category1_Keyword_590', 'Category1_Keyword_592',\n",
       "       'Category1_Keyword_595', 'Category1_Keyword_596',\n",
       "       'Category1_Keyword_597', 'Category1_Keyword_610',\n",
       "       'Category1_Keyword_611', 'Category2_Keyword_004',\n",
       "       'Category2_Keyword_005', 'Category2_Keyword_007',\n",
       "       'Category2_Keyword_008', 'Category2_Keyword_009',\n",
       "       'Category2_Keyword_014', 'Category2_Keyword_015',\n",
       "       'Category2_Keyword_019', 'Category2_Keyword_021',\n",
       "       'Category2_Keyword_022', 'Category2_Keyword_023',\n",
       "       'Category2_Keyword_024', 'Category2_Keyword_026',\n",
       "       'Category2_Keyword_029', 'Category2_Keyword_032',\n",
       "       'Category2_Keyword_033', 'Category2_Keyword_034',\n",
       "       'Category2_Keyword_040', 'Category2_Keyword_047',\n",
       "       'Category2_Keyword_048', 'Category2_Keyword_049',\n",
       "       'Category2_Keyword_050', 'Category2_Keyword_051',\n",
       "       'Category2_Keyword_053', 'Category2_Keyword_054',\n",
       "       'Category2_Keyword_055', 'Category2_Keyword_058',\n",
       "       'Category2_Keyword_059', 'Category2_Keyword_064',\n",
       "       'Category2_Keyword_068', 'Category2_Keyword_070',\n",
       "       'Category2_Keyword_074', 'Category2_Keyword_075',\n",
       "       'Category2_Keyword_076', 'Category2_Keyword_078',\n",
       "       'Category2_Keyword_080', 'Category2_Keyword_084',\n",
       "       'Category2_Keyword_087', 'Category2_Keyword_089',\n",
       "       'Category2_Keyword_091', 'Category2_Keyword_092',\n",
       "       'Category2_Keyword_093', 'Category2_Keyword_095',\n",
       "       'Category2_Keyword_096', 'Category2_Keyword_097',\n",
       "       'Category2_Keyword_099', 'Category2_Keyword_100',\n",
       "       'Category2_Keyword_101', 'Category2_Keyword_102',\n",
       "       'Category2_Keyword_103', 'Category2_Keyword_104',\n",
       "       'Category2_Keyword_105', 'Category2_Keyword_108',\n",
       "       'Category2_Keyword_109', 'Category2_Keyword_110',\n",
       "       'Category2_Keyword_111', 'Category2_Keyword_113',\n",
       "       'Category2_Keyword_114', 'Category2_Keyword_115',\n",
       "       'Category2_Keyword_119', 'Category2_Keyword_122',\n",
       "       'Category2_Keyword_123', 'Category2_Keyword_124',\n",
       "       'Category2_Keyword_127', 'Category2_Keyword_129',\n",
       "       'Category2_Keyword_130', 'Category2_Keyword_131',\n",
       "       'Category2_Keyword_136', 'Category2_Keyword_138',\n",
       "       'Category2_Keyword_139', 'Category2_Keyword_144',\n",
       "       'Category2_Keyword_146', 'Category2_Keyword_148',\n",
       "       'Category2_Keyword_153', 'Category2_Keyword_154',\n",
       "       'Category2_Keyword_156', 'Category2_Keyword_157',\n",
       "       'Category2_Keyword_158', 'Category2_Keyword_159',\n",
       "       'Category2_Keyword_160', 'Category2_Keyword_161',\n",
       "       'Category2_Keyword_162', 'Category2_Keyword_164',\n",
       "       'Category2_Keyword_166', 'Category2_Keyword_167',\n",
       "       'Category2_Keyword_170', 'Category2_Keyword_171',\n",
       "       'Category2_Keyword_173', 'Category2_Keyword_174',\n",
       "       'Category2_Keyword_175', 'Category2_Keyword_176',\n",
       "       'Category2_Keyword_177', 'Category2_Keyword_179',\n",
       "       'Category2_Keyword_180', 'Category2_Keyword_181',\n",
       "       'Category2_Keyword_182', 'Category2_Keyword_183',\n",
       "       'Category2_Keyword_184', 'Category2_Keyword_185',\n",
       "       'Category2_Keyword_186', 'Category2_Keyword_187',\n",
       "       'Category2_Keyword_192', 'Category2_Keyword_193',\n",
       "       'Category2_Keyword_194', 'Category2_Keyword_197',\n",
       "       'Category2_Keyword_198', 'Category2_Keyword_206',\n",
       "       'Category2_Keyword_208', 'Category2_Keyword_209',\n",
       "       'Category2_Keyword_210', 'Category2_Keyword_211',\n",
       "       'Category2_Keyword_212', 'Category2_Keyword_213',\n",
       "       'Category2_Keyword_218', 'Category2_Keyword_219',\n",
       "       'Category2_Keyword_220', 'Category2_Keyword_226',\n",
       "       'Category2_Keyword_227', 'Category2_Keyword_230',\n",
       "       'Category2_Keyword_231', 'Category2_Keyword_233',\n",
       "       'Category2_Keyword_234', 'Category2_Keyword_238',\n",
       "       'Category2_Keyword_239', 'Category2_Keyword_241',\n",
       "       'Category2_Keyword_242', 'Category2_Keyword_243',\n",
       "       'Category2_Keyword_244', 'Category2_Keyword_245',\n",
       "       'Category2_Keyword_247', 'Category2_Keyword_249',\n",
       "       'Category2_Keyword_250', 'Category2_Keyword_252',\n",
       "       'Category2_Keyword_253', 'Category2_Keyword_254',\n",
       "       'Category2_Keyword_255', 'Category2_Keyword_257',\n",
       "       'Category2_Keyword_258', 'Category2_Keyword_259',\n",
       "       'Category2_Keyword_263', 'Category2_Keyword_264',\n",
       "       'Category2_Keyword_265', 'Category2_Keyword_266',\n",
       "       'Category2_Keyword_267', 'Category2_Keyword_268',\n",
       "       'Category2_Keyword_272', 'Category2_Keyword_273',\n",
       "       'Category2_Keyword_274', 'Category2_Keyword_275',\n",
       "       'Category2_Keyword_276', 'Category2_Keyword_277',\n",
       "       'Category2_Keyword_278', 'Category2_Keyword_280',\n",
       "       'Category2_Keyword_282', 'Category2_Keyword_283',\n",
       "       'Category2_Keyword_284', 'Category2_Keyword_285',\n",
       "       'Category2_Keyword_287', 'Category2_Keyword_288',\n",
       "       'Category2_Keyword_289', 'Category2_Keyword_291',\n",
       "       'Category2_Keyword_293', 'Category2_Keyword_294',\n",
       "       'Category2_Keyword_296', 'Category2_Keyword_297',\n",
       "       'Category2_Keyword_298', 'Category2_Keyword_299',\n",
       "       'Category2_Keyword_300', 'Category2_Keyword_305',\n",
       "       'Category2_Keyword_307', 'Category2_Keyword_310',\n",
       "       'Category2_Keyword_311', 'Category2_Keyword_312',\n",
       "       'Category2_Keyword_313', 'Category2_Keyword_316',\n",
       "       'Category2_Keyword_318', 'Category2_Keyword_319',\n",
       "       'Category2_Keyword_321', 'Category2_Keyword_322',\n",
       "       'Category2_Keyword_325', 'Category2_Keyword_326',\n",
       "       'Category2_Keyword_327', 'Category2_Keyword_328',\n",
       "       'Category2_Keyword_329', 'Category2_Keyword_331',\n",
       "       'Category2_Keyword_335', 'Category2_Keyword_336',\n",
       "       'Category2_Keyword_337', 'Category2_Keyword_338',\n",
       "       'Category2_Keyword_340', 'Category2_Keyword_346',\n",
       "       'Category2_Keyword_347', 'Category2_Keyword_349',\n",
       "       'Category2_Keyword_351', 'Category2_Keyword_355',\n",
       "       'Category2_Keyword_356', 'Category2_Keyword_357',\n",
       "       'Category2_Keyword_358', 'Category2_Keyword_360',\n",
       "       'Category2_Keyword_361', 'Category2_Keyword_362',\n",
       "       'Category2_Keyword_363', 'Category2_Keyword_364',\n",
       "       'Category2_Keyword_365', 'Category2_Keyword_366',\n",
       "       'Category2_Keyword_367', 'Category2_Keyword_368',\n",
       "       'Category2_Keyword_371', 'Category2_Keyword_372',\n",
       "       'Category2_Keyword_373', 'Category2_Keyword_374',\n",
       "       'Category2_Keyword_375', 'Category2_Keyword_377',\n",
       "       'Category2_Keyword_381', 'Category2_Keyword_382',\n",
       "       'Category2_Keyword_384', 'Category2_Keyword_387',\n",
       "       'Category2_Keyword_388', 'Category2_Keyword_389',\n",
       "       'Category2_Keyword_392', 'Category2_Keyword_394',\n",
       "       'Category2_Keyword_395', 'Category2_Keyword_397',\n",
       "       'Category2_Keyword_398', 'Category2_Keyword_399',\n",
       "       'Category2_Keyword_400', 'Category2_Keyword_406',\n",
       "       'Category2_Keyword_407', 'Category2_Keyword_409',\n",
       "       'Category2_Keyword_414', 'Category2_Keyword_415',\n",
       "       'Category2_Keyword_416', 'Category2_Keyword_417',\n",
       "       'Category2_Keyword_419', 'Category2_Keyword_420',\n",
       "       'Category2_Keyword_421', 'Category2_Keyword_423',\n",
       "       'Category2_Keyword_426', 'Category2_Keyword_429',\n",
       "       'Category2_Keyword_430', 'Category2_Keyword_431',\n",
       "       'Category2_Keyword_432', 'Category2_Keyword_433',\n",
       "       'Category2_Keyword_434', 'Category2_Keyword_435',\n",
       "       'Category2_Keyword_436', 'Category2_Keyword_437',\n",
       "       'Category2_Keyword_438', 'Category2_Keyword_439',\n",
       "       'Category2_Keyword_440', 'Category2_Keyword_444',\n",
       "       'Category2_Keyword_445', 'Category2_Keyword_446',\n",
       "       'Category2_Keyword_447', 'Category2_Keyword_449',\n",
       "       'Category2_Keyword_453', 'Category2_Keyword_454',\n",
       "       'Category2_Keyword_455', 'Category2_Keyword_457',\n",
       "       'Category2_Keyword_459', 'Category2_Keyword_461',\n",
       "       'Category2_Keyword_462', 'Category2_Keyword_465',\n",
       "       'Category2_Keyword_466', 'Category2_Keyword_467',\n",
       "       'Category2_Keyword_468', 'Category2_Keyword_469',\n",
       "       'Category2_Keyword_470', 'Category2_Keyword_474',\n",
       "       'Category2_Keyword_476', 'Category2_Keyword_477',\n",
       "       'Category2_Keyword_480', 'Category2_Keyword_481',\n",
       "       'Category2_Keyword_482', 'Category2_Keyword_483',\n",
       "       'Category2_Keyword_484', 'Category2_Keyword_485',\n",
       "       'Category2_Keyword_486', 'Category2_Keyword_487',\n",
       "       'Category2_Keyword_488', 'Category2_Keyword_489',\n",
       "       'Category2_Keyword_490', 'Category2_Keyword_491',\n",
       "       'Category2_Keyword_492', 'Category2_Keyword_493',\n",
       "       'Category2_Keyword_494', 'Category2_Keyword_495',\n",
       "       'Category2_Keyword_496', 'Category2_Keyword_499',\n",
       "       'Category2_Keyword_500', 'Category2_Keyword_503',\n",
       "       'Category2_Keyword_504', 'Category2_Keyword_505',\n",
       "       'Category2_Keyword_507', 'Category2_Keyword_508',\n",
       "       'Category2_Keyword_513', 'Category2_Keyword_515',\n",
       "       'Category2_Keyword_517', 'Category2_Keyword_518',\n",
       "       'Category2_Keyword_520', 'Category2_Keyword_523',\n",
       "       'Category2_Keyword_525', 'Category2_Keyword_526',\n",
       "       'Category2_Keyword_527', 'Category2_Keyword_528',\n",
       "       'Category2_Keyword_529', 'Category2_Keyword_531',\n",
       "       'Category2_Keyword_532', 'Category2_Keyword_533',\n",
       "       'Category2_Keyword_534', 'Category2_Keyword_539',\n",
       "       'Category2_Keyword_540', 'Category2_Keyword_541',\n",
       "       'Category2_Keyword_542', 'Category2_Keyword_543',\n",
       "       'Category2_Keyword_544', 'Category2_Keyword_545',\n",
       "       'Category2_Keyword_546', 'Category2_Keyword_548',\n",
       "       'Category2_Keyword_550', 'Category2_Keyword_551',\n",
       "       'Category2_Keyword_552', 'Category2_Keyword_554',\n",
       "       'Category2_Keyword_555', 'Category2_Keyword_556',\n",
       "       'Category2_Keyword_558', 'Category2_Keyword_562',\n",
       "       'Category2_Keyword_566', 'Category2_Keyword_567',\n",
       "       'Category2_Keyword_569', 'Category2_Keyword_572',\n",
       "       'Category2_Keyword_577', 'Category2_Keyword_579',\n",
       "       'Category2_Keyword_580', 'Category2_Keyword_581',\n",
       "       'Category2_Keyword_583', 'Category2_Keyword_591',\n",
       "       'Category2_Keyword_593', 'Category2_Keyword_601',\n",
       "       'Category2_Keyword_603', 'Category2_Keyword_604',\n",
       "       'Category2_Keyword_605', 'Category2_Keyword_606',\n",
       "       'Category2_Keyword_607', 'Category2_Keyword_608',\n",
       "       'Category2_Keyword_609', 'Category2_Keyword_612',\n",
       "       'Category2_Keyword_615', 'Category3_Keyword_013',\n",
       "       'Category3_Keyword_016', 'Category3_Keyword_043',\n",
       "       'Category3_Keyword_046', 'Category3_Keyword_052',\n",
       "       'Category3_Keyword_063', 'Category3_Keyword_072',\n",
       "       'Category3_Keyword_077', 'Category3_Keyword_081',\n",
       "       'Category3_Keyword_098', 'Category3_Keyword_118',\n",
       "       'Category3_Keyword_141', 'Category3_Keyword_142',\n",
       "       'Category3_Keyword_147', 'Category3_Keyword_155',\n",
       "       'Category3_Keyword_165', 'Category3_Keyword_189',\n",
       "       'Category3_Keyword_195', 'Category3_Keyword_200',\n",
       "       'Category3_Keyword_203', 'Category3_Keyword_222',\n",
       "       'Category3_Keyword_235', 'Category3_Keyword_240',\n",
       "       'Category3_Keyword_246', 'Category3_Keyword_256',\n",
       "       'Category3_Keyword_270', 'Category3_Keyword_279',\n",
       "       'Category3_Keyword_295', 'Category3_Keyword_304',\n",
       "       'Category3_Keyword_314', 'Category3_Keyword_341',\n",
       "       'Category3_Keyword_343', 'Category3_Keyword_348',\n",
       "       'Category3_Keyword_353', 'Category3_Keyword_354',\n",
       "       'Category3_Keyword_370', 'Category3_Keyword_385',\n",
       "       'Category3_Keyword_393', 'Category3_Keyword_396',\n",
       "       'Category3_Keyword_402', 'Category3_Keyword_411',\n",
       "       'Category3_Keyword_412', 'Category3_Keyword_471',\n",
       "       'Category3_Keyword_498', 'Category3_Keyword_506',\n",
       "       'Category3_Keyword_510', 'Category3_Keyword_516',\n",
       "       'Category3_Keyword_530', 'Category3_Keyword_538',\n",
       "       'Category3_Keyword_549', 'Category3_Keyword_568',\n",
       "       'Category3_Keyword_575', 'Category3_Keyword_578',\n",
       "       'Category3_Keyword_585', 'Category3_Keyword_594',\n",
       "       'Category3_Keyword_602', 'Category3_Keyword_613',\n",
       "       'Category3_Keyword_614', 'Category4_Keyword_010',\n",
       "       'Category4_Keyword_028', 'Category4_Keyword_030',\n",
       "       'Category4_Keyword_031', 'Category4_Keyword_038',\n",
       "       'Category4_Keyword_045', 'Category4_Keyword_056',\n",
       "       'Category4_Keyword_057', 'Category4_Keyword_061',\n",
       "       'Category4_Keyword_071', 'Category4_Keyword_079',\n",
       "       'Category4_Keyword_086', 'Category4_Keyword_116',\n",
       "       'Category4_Keyword_117', 'Category4_Keyword_133',\n",
       "       'Category4_Keyword_134', 'Category4_Keyword_135',\n",
       "       'Category4_Keyword_143', 'Category4_Keyword_145',\n",
       "       'Category4_Keyword_149', 'Category4_Keyword_152',\n",
       "       'Category4_Keyword_169', 'Category4_Keyword_172',\n",
       "       'Category4_Keyword_188', 'Category4_Keyword_201',\n",
       "       'Category4_Keyword_204', 'Category4_Keyword_205',\n",
       "       'Category4_Keyword_223', 'Category4_Keyword_224',\n",
       "       'Category4_Keyword_225', 'Category4_Keyword_228',\n",
       "       'Category4_Keyword_236', 'Category4_Keyword_237',\n",
       "       'Category4_Keyword_261', 'Category4_Keyword_262',\n",
       "       'Category4_Keyword_269', 'Category4_Keyword_286',\n",
       "       'Category4_Keyword_290', 'Category4_Keyword_292',\n",
       "       'Category4_Keyword_301', 'Category4_Keyword_302',\n",
       "       'Category4_Keyword_306', 'Category4_Keyword_308',\n",
       "       'Category4_Keyword_317', 'Category4_Keyword_320',\n",
       "       'Category4_Keyword_324', 'Category4_Keyword_339',\n",
       "       'Category4_Keyword_342', 'Category4_Keyword_352',\n",
       "       'Category4_Keyword_359', 'Category4_Keyword_378',\n",
       "       'Category4_Keyword_380', 'Category4_Keyword_391',\n",
       "       'Category4_Keyword_408', 'Category4_Keyword_410',\n",
       "       'Category4_Keyword_418', 'Category4_Keyword_422',\n",
       "       'Category4_Keyword_424', 'Category4_Keyword_425',\n",
       "       'Category4_Keyword_427', 'Category4_Keyword_442',\n",
       "       'Category4_Keyword_448', 'Category4_Keyword_450',\n",
       "       'Category4_Keyword_451', 'Category4_Keyword_456',\n",
       "       'Category4_Keyword_458', 'Category4_Keyword_463',\n",
       "       'Category4_Keyword_472', 'Category4_Keyword_473',\n",
       "       'Category4_Keyword_479', 'Category4_Keyword_502',\n",
       "       'Category4_Keyword_509', 'Category4_Keyword_511',\n",
       "       'Category4_Keyword_512', 'Category4_Keyword_514',\n",
       "       'Category4_Keyword_519', 'Category4_Keyword_521',\n",
       "       'Category4_Keyword_522', 'Category4_Keyword_524',\n",
       "       'Category4_Keyword_535', 'Category4_Keyword_536',\n",
       "       'Category4_Keyword_537', 'Category4_Keyword_547',\n",
       "       'Category4_Keyword_553', 'Category4_Keyword_559',\n",
       "       'Category4_Keyword_560', 'Category4_Keyword_561',\n",
       "       'Category4_Keyword_563', 'Category4_Keyword_564',\n",
       "       'Category4_Keyword_565', 'Category4_Keyword_570',\n",
       "       'Category4_Keyword_571', 'Category4_Keyword_573',\n",
       "       'Category4_Keyword_576', 'Category4_Keyword_582',\n",
       "       'Category4_Keyword_586', 'Category4_Keyword_588',\n",
       "       'Category4_Keyword_589', 'Category4_Keyword_598',\n",
       "       'Category4_Keyword_599', 'Category4_Keyword_600',\n",
       "       'Category4_Keyword_616', 'Category4_Keyword_617',\n",
       "       'Category5_Keyword_066', 'Category5_Keyword_106',\n",
       "       'Category5_Keyword_214', 'Category6_Keyword_003',\n",
       "       'Category6_Keyword_012', 'Category6_Keyword_018',\n",
       "       'Category7_Keyword_120', 'Category8', 'Category9', nan],\n",
       "      dtype=object)"
      ]
     },
     "execution_count": 13,
     "metadata": {},
     "output_type": "execute_result"
    }
   ],
   "source": [
    "X_train['keyword'].sort_values().unique()"
   ]
  },
  {
   "cell_type": "code",
   "execution_count": 9,
   "metadata": {},
   "outputs": [
    {
     "data": {
      "text/plain": [
       "[organic]         505\n",
       "[cpc]             108\n",
       "[cpc, organic]      1\n",
       "[cpc, organic]      1\n",
       "[cpc, organic]      1\n",
       "[cpc, organic]      1\n",
       "[cpc, organic]      1\n",
       "[organic, cpc]      1\n",
       "[cpc, organic]      1\n",
       "[organic, cpc]      1\n",
       "[organic, cpc]      1\n",
       "[organic, cpc]      1\n",
       "Name: traffic_medium, dtype: int64"
      ]
     },
     "execution_count": 9,
     "metadata": {},
     "output_type": "execute_result"
    }
   ],
   "source": [
    "X_train.groupby('keyword')['traffic_medium'].unique().value_counts()"
   ]
  },
  {
   "cell_type": "code",
   "execution_count": 6,
   "metadata": {},
   "outputs": [
    {
     "data": {
      "text/plain": [
       "organic      107370\n",
       "referral      70047\n",
       "(none)        59022\n",
       "cpc            9978\n",
       "affiliate      5365\n",
       "cpm             501\n",
       "(not set)         6\n",
       "Name: traffic_medium, dtype: int64"
      ]
     },
     "execution_count": 6,
     "metadata": {},
     "output_type": "execute_result"
    }
   ],
   "source": [
    "X_train.traffic_medium.value_counts()"
   ]
  },
  {
   "cell_type": "code",
   "execution_count": 7,
   "metadata": {},
   "outputs": [
    {
     "data": {
      "text/plain": [
       "organic      35894\n",
       "referral     19814\n",
       "(none)       19367\n",
       "affiliate     2801\n",
       "cpc           1798\n",
       "cpm            106\n",
       "(not set)        6\n",
       "Name: traffic_medium, dtype: int64"
      ]
     },
     "execution_count": 7,
     "metadata": {},
     "output_type": "execute_result"
    }
   ],
   "source": [
    "X_test.traffic_medium.value_counts()"
   ]
  },
  {
   "cell_type": "code",
   "execution_count": 5,
   "metadata": {},
   "outputs": [
    {
     "data": {
      "text/plain": [
       "array(['google', '(direct)', 'Partners', 'groups.google.com',\n",
       "       'youtube.com', 'google.com', 'bing', 'google.co.jp',\n",
       "       'analytics.google.com', 'baidu', 'quora.com',\n",
       "       'googleads.g.doubleclick.net', 'pinterest.com', 'mail.google.com',\n",
       "       'dealspotr.com', 'qiita.com', 'l.facebook.com', 'reddit.com',\n",
       "       'sites.google.com', 'blog.golang.org', 'support.google.com',\n",
       "       'yahoo', 'dfa', 't.co', 'lunametrics.com', 'docs.google.com',\n",
       "       'adwords.google.com', 's0.2mdn.net', 'm.baidu.com',\n",
       "       'm.facebook.com', 'int.search.tb.ask.com', 'google.com.br',\n",
       "       'google.es', 'arstechnica.com', 'msn.com', 'tw.search.yahoo.com',\n",
       "       'facebook.com', 'google.de', 'hangouts.google.com',\n",
       "       'duckduckgo.com', 'r.search.aol.com', 'my.yahoo.com',\n",
       "       'google.co.za', 'au.search.yahoo.com', 'in.search.yahoo.com',\n",
       "       'outlook.live.com', 'productforums.google.com', 'ask',\n",
       "       'google.co.id', 'google.co.uk', 'myactivity.google.com',\n",
       "       'google.com.ua', 'google.by', 'sashihara.jp', 'm.youtube.com',\n",
       "       'github.com', 'optimize.google.com', 'connect.googleforwork.com',\n",
       "       'ph.search.yahoo.com', 'es.search.yahoo.com', 'google.ru',\n",
       "       'keep.google.com', 'youtube.thinkwithgoogle.com',\n",
       "       'myasucourses.asu.edu', 'google.co.th', 'gophergala.com',\n",
       "       'learn.pct.edu', 'phandroid.com', 'online-metrics.com',\n",
       "       'plus.url.google.com', 'ca.search.yahoo.com', 'evernote.com',\n",
       "       'web.telegram.org', 'search.1and1.com', 'google.nl',\n",
       "       'uk.search.yahoo.com', 'getpocket.com', 'se.search.yahoo.com',\n",
       "       'us.search.yahoo.com', 'lm.facebook.com',\n",
       "       'malaysia.search.yahoo.com', 'bluequill.franklin.edu', 'google.lv',\n",
       "       'feedly.com', 'search.snapdo.com', 'online.fullsail.edu',\n",
       "       'away.vk.com', 'l.messenger.com', 'google.co.nz', 'google.fr',\n",
       "       'so.com', 'google.com.tr', 'kik.com', 'kidrex.org',\n",
       "       'search.tb.ask.com', 'images.google.com', 'mail.yahoo.com',\n",
       "       'google.com.au', 'search.xfinity.com', 'google.com.bd',\n",
       "       'google.be', 'businessinsider.com', 'aulagrado.esic.edu',\n",
       "       'plus.google.com', 'mail1.swic.edu', 'startpage.com',\n",
       "       'learn.colorado.edu', 'web.whatsapp.com',\n",
       "       'lisham-web.blogspot.com', 'google.com.mx', 'nl.search.yahoo.com',\n",
       "       'nl.pinterest.com', 'google.co.in', 'search.mysearch.com',\n",
       "       'de.wow.com', 'google.com.ng', 'google.it', 'google.com.sa',\n",
       "       'google.iq', 'google.com.eg', 'google.co.il', 'google.pl',\n",
       "       'it.search.yahoo.com', 'it.pinterest.com', 'images.google.com.br',\n",
       "       'amp.reddit.com', 'vk.com', 'google.pt', 'cz.pinterest.com',\n",
       "       'google.jo', 'google.ie', 'qc.search.yahoo.com',\n",
       "       'earth.google.com', 'br.search.yahoo.com', 'search.earthlink.net',\n",
       "       'fi.search.yahoo.com', 'google.com.ec', 'web.facebook.com',\n",
       "       'sg.search.yahoo.com', 'linkedin.com', 'ru.pinterest.com',\n",
       "       'ch.search.yahoo.com', 'mail.aol.com', 'google.com.pk',\n",
       "       'cse.google.com', 'wikihow.com', 'go.mail.ru',\n",
       "       'fr-fr.facebook.com', 'ca-mg5.mail.yahoo.com', 'chatwork.com',\n",
       "       'seroundtable.com', 'google.ca', 'results.searchlock.com',\n",
       "       'es.yhs4.search.yahoo.com', 'cl.search.yahoo.com', 'google.com.tw',\n",
       "       'fr.search.yahoo.com', 'google.com.hk', 'business.facebook.com',\n",
       "       'yandex', 'suche.t-online.de', 'goto.google.com',\n",
       "       'mx.search.yahoo.com', 'marketingland.com',\n",
       "       'espanol.search.yahoo.com', 'basecamp.com',\n",
       "       'blackboard.bentley.edu', 'calendar.google.com'], dtype=object)"
      ]
     },
     "execution_count": 5,
     "metadata": {},
     "output_type": "execute_result"
    }
   ],
   "source": [
    "X_train.traffic_source.unique()"
   ]
  },
  {
   "cell_type": "code",
   "execution_count": 10,
   "metadata": {},
   "outputs": [
    {
     "data": {
      "text/plain": [
       "array(['organic', '(none)', 'affiliate', 'referral', 'cpc', 'cpm',\n",
       "       '(not set)'], dtype=object)"
      ]
     },
     "execution_count": 10,
     "metadata": {},
     "output_type": "execute_result"
    }
   ],
   "source": [
    "X_train.traffic_medium.unique()"
   ]
  },
  {
   "cell_type": "code",
   "execution_count": 13,
   "metadata": {},
   "outputs": [
    {
     "data": {
      "text/plain": [
       "array(['Partners', 'google'], dtype=object)"
      ]
     },
     "execution_count": 13,
     "metadata": {},
     "output_type": "execute_result"
    }
   ],
   "source": [
    "X_train.query('traffic_medium == \"(not set)\"').traffic_source.unique()"
   ]
  },
  {
   "cell_type": "code",
   "execution_count": 5,
   "metadata": {},
   "outputs": [
    {
     "data": {
      "text/plain": [
       "sessionID                   0\n",
       "userID                      0\n",
       "browser                     0\n",
       "OS                          0\n",
       "device                      0\n",
       "new                         0\n",
       "quality                     0\n",
       "duration                    0\n",
       "bounced                     0\n",
       "transaction                 0\n",
       "transaction_revenue         0\n",
       "continent                   0\n",
       "subcontinent                0\n",
       "country                     0\n",
       "traffic_source              0\n",
       "traffic_medium              0\n",
       "keyword                137675\n",
       "referral_path          161107\n",
       "dtype: int64"
      ]
     },
     "execution_count": 5,
     "metadata": {},
     "output_type": "execute_result"
    }
   ],
   "source": [
    "# keyword와 referral_path에 결측치가 있다.\n",
    "X_train.isna().sum()"
   ]
  },
  {
   "cell_type": "code",
   "execution_count": 9,
   "metadata": {},
   "outputs": [
    {
     "data": {
      "text/plain": [
       "array(['google', '(direct)', 'Partners', 'groups.google.com',\n",
       "       'youtube.com', 'google.com', 'bing', 'google.co.jp',\n",
       "       'analytics.google.com', 'baidu', 'quora.com',\n",
       "       'googleads.g.doubleclick.net', 'pinterest.com', 'mail.google.com',\n",
       "       'dealspotr.com', 'qiita.com', 'l.facebook.com', 'reddit.com',\n",
       "       'sites.google.com', 'blog.golang.org', 'support.google.com',\n",
       "       'yahoo', 'dfa', 't.co', 'lunametrics.com', 'docs.google.com',\n",
       "       'adwords.google.com', 's0.2mdn.net', 'm.baidu.com',\n",
       "       'm.facebook.com', 'int.search.tb.ask.com', 'google.com.br',\n",
       "       'google.es', 'arstechnica.com', 'msn.com', 'tw.search.yahoo.com',\n",
       "       'facebook.com', 'google.de', 'hangouts.google.com',\n",
       "       'duckduckgo.com', 'r.search.aol.com', 'my.yahoo.com',\n",
       "       'google.co.za', 'au.search.yahoo.com', 'in.search.yahoo.com',\n",
       "       'outlook.live.com', 'productforums.google.com', 'ask',\n",
       "       'google.co.id', 'google.co.uk', 'myactivity.google.com',\n",
       "       'google.com.ua', 'google.by', 'sashihara.jp', 'm.youtube.com',\n",
       "       'github.com', 'optimize.google.com', 'connect.googleforwork.com',\n",
       "       'ph.search.yahoo.com', 'es.search.yahoo.com', 'google.ru',\n",
       "       'keep.google.com', 'youtube.thinkwithgoogle.com',\n",
       "       'myasucourses.asu.edu', 'google.co.th', 'gophergala.com',\n",
       "       'learn.pct.edu', 'phandroid.com', 'online-metrics.com',\n",
       "       'plus.url.google.com', 'ca.search.yahoo.com', 'evernote.com',\n",
       "       'web.telegram.org', 'search.1and1.com', 'google.nl',\n",
       "       'uk.search.yahoo.com', 'getpocket.com', 'se.search.yahoo.com',\n",
       "       'us.search.yahoo.com', 'lm.facebook.com',\n",
       "       'malaysia.search.yahoo.com', 'bluequill.franklin.edu', 'google.lv',\n",
       "       'feedly.com', 'search.snapdo.com', 'online.fullsail.edu',\n",
       "       'away.vk.com', 'l.messenger.com', 'google.co.nz', 'google.fr',\n",
       "       'so.com', 'google.com.tr', 'kik.com', 'kidrex.org',\n",
       "       'search.tb.ask.com', 'images.google.com', 'mail.yahoo.com',\n",
       "       'google.com.au', 'search.xfinity.com', 'google.com.bd',\n",
       "       'google.be', 'businessinsider.com', 'aulagrado.esic.edu',\n",
       "       'plus.google.com', 'mail1.swic.edu', 'startpage.com',\n",
       "       'learn.colorado.edu', 'web.whatsapp.com',\n",
       "       'lisham-web.blogspot.com', 'google.com.mx', 'nl.search.yahoo.com',\n",
       "       'nl.pinterest.com', 'google.co.in', 'search.mysearch.com',\n",
       "       'de.wow.com', 'google.com.ng', 'google.it', 'google.com.sa',\n",
       "       'google.iq', 'google.com.eg', 'google.co.il', 'google.pl',\n",
       "       'it.search.yahoo.com', 'it.pinterest.com', 'images.google.com.br',\n",
       "       'amp.reddit.com', 'vk.com', 'google.pt', 'cz.pinterest.com',\n",
       "       'google.jo', 'google.ie', 'qc.search.yahoo.com',\n",
       "       'earth.google.com', 'br.search.yahoo.com', 'search.earthlink.net',\n",
       "       'fi.search.yahoo.com', 'google.com.ec', 'web.facebook.com',\n",
       "       'sg.search.yahoo.com', 'linkedin.com', 'ru.pinterest.com',\n",
       "       'ch.search.yahoo.com', 'mail.aol.com', 'google.com.pk',\n",
       "       'cse.google.com', 'wikihow.com', 'go.mail.ru',\n",
       "       'fr-fr.facebook.com', 'ca-mg5.mail.yahoo.com', 'chatwork.com',\n",
       "       'seroundtable.com', 'google.ca', 'results.searchlock.com',\n",
       "       'es.yhs4.search.yahoo.com', 'cl.search.yahoo.com', 'google.com.tw',\n",
       "       'fr.search.yahoo.com', 'google.com.hk', 'business.facebook.com',\n",
       "       'yandex', 'suche.t-online.de', 'goto.google.com',\n",
       "       'mx.search.yahoo.com', 'marketingland.com',\n",
       "       'espanol.search.yahoo.com', 'basecamp.com',\n",
       "       'blackboard.bentley.edu', 'calendar.google.com'], dtype=object)"
      ]
     },
     "execution_count": 9,
     "metadata": {},
     "output_type": "execute_result"
    }
   ],
   "source": [
    "X_train.traffic_source.unique()"
   ]
  },
  {
   "cell_type": "code",
   "execution_count": 6,
   "metadata": {},
   "outputs": [],
   "source": [
    "X_train['keyword'] = X_train['keyword'].str.split('_', expand=True)[0]\n",
    "X_test['keyword'] = X_test['keyword'].str.split('_', expand=True)[0]\n",
    "\n",
    "X_train['keyword'].fillna(X_train['keyword'].mode()[0], inplace=True)\n",
    "X_test['keyword'].fillna(X_test['keyword'].mode()[0], inplace=True)"
   ]
  },
  {
   "cell_type": "code",
   "execution_count": 6,
   "metadata": {},
   "outputs": [],
   "source": [
    "X_train['referral_path'] = X_train['referral_path'].str.split('_', expand=True)[0]\n",
    "X_test['referral_path'] = X_test['referral_path'].str.split('_', expand=True)[0]\n",
    "\n",
    "X_train['referral_path'].fillna(X_train['referral_path'].mode()[0], inplace=True)\n",
    "X_test['referral_path'].fillna(X_test['referral_path'].mode()[0], inplace=True)"
   ]
  },
  {
   "cell_type": "code",
   "execution_count": 7,
   "metadata": {},
   "outputs": [],
   "source": [
    "# 불필요한 열 제거\n",
    "X_train.drop(['keyword'], axis=1, inplace=True)\n",
    "X_test.drop(['keyword'], axis=1, inplace=True)"
   ]
  },
  {
   "cell_type": "code",
   "execution_count": 8,
   "metadata": {},
   "outputs": [],
   "source": [
    "# Category type으로 변경\n",
    "categorical_features = ['browser', 'OS', 'device', 'new', 'bounced', 'continent', 'subcontinent',\n",
    "                        'country', 'traffic_source', 'traffic_medium','referral_path']\n",
    "                        \n",
    "for i in categorical_features:\n",
    "    X_train[i] = X_train[i].astype('category')\n",
    "    X_test[i] = X_test[i].astype('category')"
   ]
  },
  {
   "cell_type": "markdown",
   "metadata": {},
   "source": [
    "### 변수 제거하기"
   ]
  },
  {
   "cell_type": "code",
   "execution_count": null,
   "metadata": {},
   "outputs": [],
   "source": [
    "# ID열 제거하기\n",
    "X_train.drop(['sessionID','userID'], axis=1, inplace=True)\n",
    "X_test.drop(['sessionID','userID'], axis=1, inplace=True)"
   ]
  },
  {
   "cell_type": "markdown",
   "metadata": {},
   "source": [
    "## HyperParameter Tunning"
   ]
  },
  {
   "cell_type": "code",
   "execution_count": 9,
   "metadata": {},
   "outputs": [],
   "source": [
    "model = CatBoostRegressor(cat_features = categorical_features, random_state=2024, verbose=False)"
   ]
  },
  {
   "cell_type": "markdown",
   "metadata": {},
   "source": [
    "## Kfold"
   ]
  },
  {
   "cell_type": "code",
   "execution_count": 10,
   "metadata": {},
   "outputs": [
    {
     "name": "stdout",
     "output_type": "stream",
     "text": [
      "CatBoostRegressor의 10fold 평균 RMSE는 2.7332039875781162\n"
     ]
    }
   ],
   "source": [
    "KF = KFold(n_splits = 3, shuffle = True, random_state = 2024)\n",
    "\n",
    "cat_pred = np.zeros(X_test.shape[0])\n",
    "rmse_list = []\n",
    "for tr_idx, val_idx in KF.split(X_train, y_train):\n",
    "    tr_x, tr_y = X_train.iloc[tr_idx], y_train.iloc[tr_idx]\n",
    "    val_x, val_y = X_train.iloc[val_idx], y_train.iloc[val_idx]\n",
    "    \n",
    "    model.fit(tr_x, tr_y)\n",
    "    pred = model.predict(val_x)\n",
    "    rmse = mean_squared_error(val_y, pred)**0.5\n",
    "    rmse_list.append(rmse)\n",
    "    \n",
    "    sub_pred = np.array(model.predict(X_test)) / 3  # averaging\n",
    "    cat_pred += sub_pred\n",
    "print(f'{model.__class__.__name__}의 10fold 평균 RMSE는 {np.mean(rmse_list)}')"
   ]
  },
  {
   "cell_type": "code",
   "execution_count": 11,
   "metadata": {},
   "outputs": [],
   "source": [
    "# 0보다 작은 값을 0으로 보정한다.\n",
    "cat_pred = [0 if i < 0 else i for i in cat_pred]"
   ]
  },
  {
   "cell_type": "code",
   "execution_count": 12,
   "metadata": {},
   "outputs": [
    {
     "data": {
      "text/plain": [
       "array([ 1.94840673,  3.35521277,  1.29113915,  4.30298655, 41.66174928,\n",
       "       28.25875626,  0.40794133,  0.66779683,  1.82488301,  2.77130112,\n",
       "        6.87719499,  1.21923291,  1.5348814 ,  2.56468709,  1.31383057])"
      ]
     },
     "execution_count": 12,
     "metadata": {},
     "output_type": "execute_result"
    }
   ],
   "source": [
    "# feature importance\n",
    "model.get_feature_importance()"
   ]
  },
  {
   "cell_type": "markdown",
   "metadata": {},
   "source": [
    "## Save data"
   ]
  },
  {
   "cell_type": "code",
   "execution_count": 13,
   "metadata": {},
   "outputs": [],
   "source": [
    "sample = pd.read_csv('data/submission/sample_submission.csv')\n",
    "sample['TARGET'] = cat_pred"
   ]
  },
  {
   "cell_type": "code",
   "execution_count": 14,
   "metadata": {},
   "outputs": [
    {
     "name": "stdout",
     "output_type": "stream",
     "text": [
      "./data/submission/20240221_0002 is saved.\n"
     ]
    }
   ],
   "source": [
    "date = str(pd.Timestamp.now())[:16].replace('-','').replace(' ','_').replace(':','')\n",
    "filename = f'./data/submission/{date}'\n",
    "sample.to_csv(f'{filename}.csv', index=False)\n",
    "print(f'{filename} is saved.')"
   ]
  },
  {
   "cell_type": "code",
   "execution_count": null,
   "metadata": {},
   "outputs": [],
   "source": []
  }
 ],
 "metadata": {
  "kernelspec": {
   "display_name": "Python 3 (ipykernel)",
   "language": "python",
   "name": "python3"
  },
  "language_info": {
   "codemirror_mode": {
    "name": "ipython",
    "version": 3
   },
   "file_extension": ".py",
   "mimetype": "text/x-python",
   "name": "python",
   "nbconvert_exporter": "python",
   "pygments_lexer": "ipython3",
   "version": "3.9.7"
  }
 },
 "nbformat": 4,
 "nbformat_minor": 2
}
