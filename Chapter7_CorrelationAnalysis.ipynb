{
 "cells": [
  {
   "cell_type": "code",
   "execution_count": null,
   "id": "f520dcc1",
   "metadata": {},
   "outputs": [],
   "source": [
    "'''해야할 일\n",
    "   1)스피어만 상관분석은 비모수 통계기법으로 비모수 통계기법 파일로 옮긴다.\n",
    "   2)정준상관분석 유의성 검정이 존재하는 지 조사한다.\n",
    "   3)다중상관분석과 정준상관분석 Code 조사하기\n",
    "'''"
   ]
  },
  {
   "cell_type": "code",
   "execution_count": 12,
   "id": "56484767",
   "metadata": {},
   "outputs": [],
   "source": [
    "import pandas as pd\n",
    "data = pd.read_csv('data/Ashopping.csv', encoding='cp949')\n",
    "cca = pd.read_csv('data/CCA.csv', encoding='cp949')"
   ]
  },
  {
   "cell_type": "markdown",
   "id": "26bc11cb",
   "metadata": {},
   "source": [
    "## Chapter 7. Correlation Analysis\n",
    "두 개 이상의 변수들간 상관관계를 파악하기 위해 수행하는 방법이다.\n",
    "- 양측검정 시 상관분석의 귀무가설은 \"변수들이 서로 독립이다.\"이고 대립가설은 \"변수들이 서로 독립이지 않다. 변수간 선형적인 관계가 존재한다.\"이다.\n",
    "  $$H_0 : r = 0,~ H_1 : r \\neq 0$$\n",
    "- 일반적으로 상관분석은 변수간 상관계수 값이 모호할 때 그 값이 믿을 만한지 검정하는 것으로 <br>\n",
    "  단측검정을 수행해 분석 결과에서 더 많은 정보를 얻어내고자 한다.<br>\n",
    "  상관계수가 양수였다면 $H_0 : r > 0, ~ H_1 : r < 0$로 가설을 세우고 음수였다면 $H_0 : r < 0, ~ H_1 : r > 0$로 가설을 세운다.\n",
    "- 수치형 변수간 상관관계를 검정하고자 하면 검정에 사용할 상관계수로 Pearson Correlation을 사용하고 <br>\n",
    "  서열척도 변수간 상관관계를 검정하고자 하면 Spearman Correlation을 사용한다.\n",
    "- 상관관계를 파악하고 싶은 변수의 개수가 2개이면 Simple Correlation Analysis, 3개 이상이면 Multiple Correlation Analysis로 구분한다.\n",
    "- 다중상관분석을 통해 여러 변수간 상호연관성을 한번에 파악할 수 있으나 두 변수만의 순수한 상관관계를 파악할 수 없다.<br>\n",
    "  다중선형회귀모형에서 회귀계수의 유의를 따지듯 다중상관관계분석에서도 2개의 변수 이외의 변수들을 고정시키고 두 변수만의 순수한 상관관계를 파악하는 분석을 `Partial Correlation Analysis(부분상관관계분석)`라 한다.\n",
    "- 변수가 아닌 변수 그룹간 상관관계를 파악하고 싶을 때 수행하는 분석으로 정준상관분석이 있다."
   ]
  },
  {
   "cell_type": "code",
   "execution_count": null,
   "id": "6b701664",
   "metadata": {},
   "outputs": [],
   "source": [
    "# 예시 1) 세 수치형 변수간 상관분석을 수행한다."
   ]
  },
  {
   "cell_type": "code",
   "execution_count": 7,
   "id": "841f9c36",
   "metadata": {},
   "outputs": [
    {
     "data": {
      "text/html": [
       "<div>\n",
       "<style scoped>\n",
       "    .dataframe tbody tr th:only-of-type {\n",
       "        vertical-align: middle;\n",
       "    }\n",
       "\n",
       "    .dataframe tbody tr th {\n",
       "        vertical-align: top;\n",
       "    }\n",
       "\n",
       "    .dataframe thead th {\n",
       "        text-align: right;\n",
       "    }\n",
       "</style>\n",
       "<table border=\"1\" class=\"dataframe\">\n",
       "  <thead>\n",
       "    <tr style=\"text-align: right;\">\n",
       "      <th></th>\n",
       "      <th>총_매출액</th>\n",
       "      <th>방문빈도</th>\n",
       "      <th>구매_카테고리_수</th>\n",
       "    </tr>\n",
       "  </thead>\n",
       "  <tbody>\n",
       "    <tr>\n",
       "      <th>총_매출액</th>\n",
       "      <td>1.000000</td>\n",
       "      <td>0.631171</td>\n",
       "      <td>0.308347</td>\n",
       "    </tr>\n",
       "    <tr>\n",
       "      <th>방문빈도</th>\n",
       "      <td>0.631171</td>\n",
       "      <td>1.000000</td>\n",
       "      <td>0.395861</td>\n",
       "    </tr>\n",
       "    <tr>\n",
       "      <th>구매_카테고리_수</th>\n",
       "      <td>0.308347</td>\n",
       "      <td>0.395861</td>\n",
       "      <td>1.000000</td>\n",
       "    </tr>\n",
       "  </tbody>\n",
       "</table>\n",
       "</div>"
      ],
      "text/plain": [
       "              총_매출액      방문빈도  구매_카테고리_수\n",
       "총_매출액      1.000000  0.631171   0.308347\n",
       "방문빈도       0.631171  1.000000   0.395861\n",
       "구매_카테고리_수  0.308347  0.395861   1.000000"
      ]
     },
     "execution_count": 7,
     "metadata": {},
     "output_type": "execute_result"
    }
   ],
   "source": [
    "# - 1. 세 변수간 상관관계를 출력한다.\n",
    "#    :출력된 상관계수 모두 0.7 미만으로 상관분석을 수행해야 한다.\n",
    "data[['총_매출액','방문빈도','구매_카테고리_수']].corr(method='pearson')"
   ]
  },
  {
   "cell_type": "code",
   "execution_count": 6,
   "id": "902c57cc",
   "metadata": {},
   "outputs": [
    {
     "name": "stdout",
     "output_type": "stream",
     "text": [
      "총매출액 & 방문빈도: (0.6311706453193395, 3.051960449687332e-112)\n",
      "총매출액 & 구매카테고리수: (0.3083469132396712, 1.8121422756812584e-23)\n",
      "방문빈도 & 구매카테고리수: (0.39586072218464485, 7.345432750388936e-39)\n"
     ]
    }
   ],
   "source": [
    "# - 2. 피어슨 단순상관관계분석으로 세 번에 걸쳐 분석한다.\n",
    "#    :p-value에 따라 산출된 상관계수는 믿을 만하며\n",
    "#    총매출액과 방문빈도 사이 양의 상관관계가, 총매출액과 구매카테고리수, 방문빈도와 구매카테고리수의 상관관계는 미미하다 결론지을 수 있다.\n",
    "from scipy.stats import pearsonr\n",
    "print('총매출액 & 방문빈도:', pearsonr(data.총_매출액, data.방문빈도))\n",
    "print('총매출액 & 구매카테고리수:', pearsonr(data.총_매출액, data.구매_카테고리_수))\n",
    "print('방문빈도 & 구매카테고리수:', pearsonr(data.방문빈도, data.구매_카테고리_수))"
   ]
  },
  {
   "cell_type": "code",
   "execution_count": null,
   "id": "95943233",
   "metadata": {},
   "outputs": [],
   "source": [
    "# 예시 2) 두 서열척도 변수간 상관분석을 수행한다."
   ]
  },
  {
   "cell_type": "code",
   "execution_count": 11,
   "id": "f78fcbbc",
   "metadata": {},
   "outputs": [
    {
     "data": {
      "text/plain": [
       "SpearmanrResult(correlation=-0.4988411248473936, pvalue=4.929293870381245e-64)"
      ]
     },
     "execution_count": 11,
     "metadata": {},
     "output_type": "execute_result"
    }
   ],
   "source": [
    "# - 1. 스피어만 단순상관관계분석을 수행한다.(scipy.stats의 spearmanr 함수는 수치형변수가 입력되면 자동으로 서열척도로 변환해 분석한다.)\n",
    "#   :믿을만한 상관계수를 구해보니 -0.49로 \n",
    "#    방문빈도가 높은 고객은 1회 평균매출액이 적고, 방문빈도가 작은 고객은 1회 평균매출액이 크다고 밝혀졌다.\n",
    "from scipy.stats import spearmanr\n",
    "spearmanr(data['1회_평균매출액'], data['방문빈도'])"
   ]
  },
  {
   "cell_type": "markdown",
   "id": "af30d5fd",
   "metadata": {},
   "source": [
    "### Partial Correlation Analysis(부분상관관계분석)\n",
    "다중상관관계 분석을 통해 구한 상관계수는 변수들의 획일적인 방향을 의미하는 것으로 상관관계를 따져본 변수들이 최적의 조합인지, 조합된 변수들에 영향을 미치는 compound 변수로 인해 상관관계가 파생되는 것 아닌지 따져보아야 한다. \n",
    "- 2개의 변수 이외의 변수들에 의해 선형적으로 설명되는 부분을 제거하고 남은 잔차들간의 상관계수를 구한다.<br>\n",
    "  $z(\\text{:제3의 변수}) \\rightarrow x, z \\rightarrow y$인 단순회귀분석에서의 잔차를 구한 후 두 잔차들간 상관계수를 구하면 두 변수 $x, y$간 편상관계수가 된다.\n",
    "  $$r_{xy \\cdot x} = \\frac{r_{xy} - r_{xz} \\cdot r_{yz}}{\\sqrt{1-r_{xz}^2} \\cdot \\sqrt{\\small{1-r_{yz}^2}} }$$\n",
    "- 부분상관관계분석의 가설은 아래와 같다.\n",
    "  <center>$H_0: z$가 통제된 상황에서 $x, y$는 유의한 상관관계를 갖지 않는다.&ensp;\n",
    "  $H_1: z$가 통제된 상황에서 $x, y$는 유의한 상관관계를 갖는다.&ensp;&ensp;&ensp;&ensp;</center>"
   ]
  },
  {
   "cell_type": "code",
   "execution_count": null,
   "id": "d06264f6",
   "metadata": {},
   "outputs": [],
   "source": [
    "# 부분상관관계분석을 위해 패키지 설치가 필요하다.\n",
    "# !pip install pingouin"
   ]
  },
  {
   "cell_type": "code",
   "execution_count": null,
   "id": "6cedfd3a",
   "metadata": {},
   "outputs": [],
   "source": [
    "# 예시 3) 위의 예시 1에서 확인한 총매출액과 방문빈도간 순수한 상관관계를 확인한다."
   ]
  },
  {
   "cell_type": "code",
   "execution_count": 8,
   "id": "ee2be267",
   "metadata": {
    "scrolled": true
   },
   "outputs": [
    {
     "data": {
      "text/html": [
       "<div>\n",
       "<style scoped>\n",
       "    .dataframe tbody tr th:only-of-type {\n",
       "        vertical-align: middle;\n",
       "    }\n",
       "\n",
       "    .dataframe tbody tr th {\n",
       "        vertical-align: top;\n",
       "    }\n",
       "\n",
       "    .dataframe thead th {\n",
       "        text-align: right;\n",
       "    }\n",
       "</style>\n",
       "<table border=\"1\" class=\"dataframe\">\n",
       "  <thead>\n",
       "    <tr style=\"text-align: right;\">\n",
       "      <th></th>\n",
       "      <th>n</th>\n",
       "      <th>r</th>\n",
       "      <th>CI95%</th>\n",
       "      <th>p-val</th>\n",
       "    </tr>\n",
       "  </thead>\n",
       "  <tbody>\n",
       "    <tr>\n",
       "      <th>pearson</th>\n",
       "      <td>1000</td>\n",
       "      <td>0.582794</td>\n",
       "      <td>[0.54, 0.62]</td>\n",
       "      <td>6.223289e-92</td>\n",
       "    </tr>\n",
       "  </tbody>\n",
       "</table>\n",
       "</div>"
      ],
      "text/plain": [
       "            n         r         CI95%         p-val\n",
       "pearson  1000  0.582794  [0.54, 0.62]  6.223289e-92"
      ]
     },
     "execution_count": 8,
     "metadata": {},
     "output_type": "execute_result"
    }
   ],
   "source": [
    "# - 1. 부분상관분석을 수행한다.\n",
    "#    :구매카테고리수 변수를 영향을 제거하자 상관계수가 줄어들었다. \n",
    "#     즉, 구매카테고리수는 총매출액, 방문빈도와 낮은 상관관계를 갖으나, 영향력이 적으나\n",
    "#     총매출액과 방문빈도간 관계에 직접적인 영향을 주기에 함께 고려함이 바람직하다.\n",
    "from pingouin import partial_corr\n",
    "partial_corr(data=data, x='총_매출액', y='방문빈도', covar='구매_카테고리_수')"
   ]
  },
  {
   "cell_type": "markdown",
   "id": "cb5bb6dc",
   "metadata": {},
   "source": [
    "### Canonical Correlation Analysis(정준상관분석, CCA)\n",
    "다수의 변수가 조합되어 만들어진 변수 군집간 상관관계를 파악해 변수 군집간 상관성을 가장 잘 표현해주는 요인변수들의 선형결합을 찾는 분석 방법이다. \n",
    "- 모든 변수는 연속형 변수임을 가정한다. 범주형 변수를 사용하고자 한다면 더미변수화(One-Hot Encoding)해야 한다.\n",
    "- 정준상관분석에서 사용하는 용어는 아래와 같다.\n",
    "  $$X_1 = \\alpha' x_{1[1\\times p]} = \\alpha_1x_{11} + \\dots + \\alpha_px_{1p},~ X_2 = \\beta' x_{2[1\\times q]} = \\beta_1x_{21} + \\dots + \\beta_qx_{2q}$$\n",
    "  - 정준변수($X_1, X_2$): 복수의 변수로 이루어진 변수 그룹\n",
    "  - 정준상관계수($\\rho = corr(X_1, X_2)$): 정준변수간 상관계수\n",
    "  - 정준계수($\\alpha_k, \\beta_k$): 정준상관계수를 최대화하는 선형결합에서 개별변수들의 계수\n",
    "- 정준상관분석은 정준상관계수, 정준변수를 추정하는 것 외에도 정준적재량과 교차적재량으로 두 변수 그룹간의 관계에 대한 각 변수의 상대적 영향력을 확인해 최소 요인변수들의 선형결합을 찾길 목적한다.\n",
    "  - 정준적재량: 정준변수와 해당 정준변수를 구성하는 측정변수들 사이의 상관계수(ex|$X$와 $x_k$간 상관계수)\n",
    "  - 교차적재량: 정준변수와 대립하는 정준변수의 측정변수들 사이의 상관계수(ex|$X$와 $y_k$간 상관계수)"
   ]
  },
  {
   "cell_type": "code",
   "execution_count": null,
   "id": "6705e9a7",
   "metadata": {},
   "outputs": [],
   "source": [
    "# 예시 4) 제품만족도에 해당하는 가격, 품질, 디자인과 \n",
    "#         매장만족도에 해당하는 직원서비스, 매장시설, 고객관리 변수에 대해 정준상관분석을 수행한다."
   ]
  },
  {
   "cell_type": "code",
   "execution_count": 13,
   "id": "1506b391",
   "metadata": {},
   "outputs": [],
   "source": [
    "# - 1. 정준변수를 선언한다.\n",
    "X1, X2 = cca[['품질','가격','디자인']], cca[['직원 서비스','매장 시설','고객관리']]"
   ]
  },
  {
   "cell_type": "code",
   "execution_count": 14,
   "id": "d3d7e919",
   "metadata": {
    "scrolled": true
   },
   "outputs": [],
   "source": [
    "# - 2. 정준상관분석을 수행한다.\n",
    "from sklearn.cross_decomposition import CCA\n",
    "X1_cca, X2_cca = CCA(n_components=1).fit_transform(X1, X2)\n",
    "X1_cca, X2_cca = X1_cca.flatten(), X2_cca.flatten()"
   ]
  },
  {
   "cell_type": "code",
   "execution_count": 15,
   "id": "aa685b71",
   "metadata": {
    "scrolled": true
   },
   "outputs": [
    {
     "name": "stdout",
     "output_type": "stream",
     "text": [
      "제1 정준상관계수: (0.7717687943183484, 0.0012226670192390231)\n"
     ]
    }
   ],
   "source": [
    "#   :제1 정준상관계수는 0.77로 강한 양의 상관계수이며 유의수준 0.01에서 유의하다.\n",
    "from scipy.stats import pearsonr\n",
    "print('제1 정준상관계수:', pearsonr(X1_cca, X2_cca)) "
   ]
  },
  {
   "cell_type": "code",
   "execution_count": 16,
   "id": "2850af5e",
   "metadata": {},
   "outputs": [
    {
     "name": "stdout",
     "output_type": "stream",
     "text": [
      "정준변수 X의 정준적재량 -> ['품질' '가격' '디자인']: [0.35045604 0.77461847 0.55191153]\n",
      "정준변수 X의 교차적재량 -> ['품질' '가격' '디자인']: [ 0.70598452 -0.0438384   0.5889048 ]\n",
      "정준변수 Y의 정준적재량 -> ['직원 서비스' '매장 시설' '고객관리']: [ 0.91476168 -0.0568025   0.76305858]\n",
      "정준변수 Y의 교차적재량 -> ['직원 서비스' '매장 시설' '고객관리']: [0.27044132 0.5978383  0.42592516]\n"
     ]
    }
   ],
   "source": [
    "#  :정준적재량을 통해 X1에선 가격과 디자인이, X2에선 직원 서비스와 고객관리가 중요 변수임을 확인할 수 있으며\n",
    "#   교차적재량을 통해 파악한 상세 영향요인은 X1 중 X2에 영향력이 큰 변수는 품질과 디자인이, \n",
    "#   X2 중 X1에 영향력이 큰 변수는 매장 시설과 고객관리라고 확인되었다.\n",
    "from numpy import corrcoef\n",
    "print(f'정준변수 X의 정준적재량 -> {X1.columns.values}:', corrcoef(X1_cca.T, X1.T)[0][1:])\n",
    "print(f'정준변수 X의 교차적재량 -> {X1.columns.values}:', corrcoef(X1_cca.T, X2.T)[0][1:])\n",
    "print(f'정준변수 Y의 정준적재량 -> {X2.columns.values}:', corrcoef(X2_cca.T, X2.T)[0][1:])\n",
    "print(f'정준변수 Y의 교차적재량 -> {X2.columns.values}:', corrcoef(X2_cca.T, X1.T)[0][1:])"
   ]
  },
  {
   "cell_type": "code",
   "execution_count": null,
   "id": "1413c4f1",
   "metadata": {},
   "outputs": [],
   "source": []
  }
 ],
 "metadata": {
  "kernelspec": {
   "display_name": "Python 3 (ipykernel)",
   "language": "python",
   "name": "python3"
  },
  "language_info": {
   "codemirror_mode": {
    "name": "ipython",
    "version": 3
   },
   "file_extension": ".py",
   "mimetype": "text/x-python",
   "name": "python",
   "nbconvert_exporter": "python",
   "pygments_lexer": "ipython3",
   "version": "3.9.12"
  }
 },
 "nbformat": 4,
 "nbformat_minor": 5
}
